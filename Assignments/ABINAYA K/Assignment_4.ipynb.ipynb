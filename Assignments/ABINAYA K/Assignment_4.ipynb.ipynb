{
  "nbformat": 4,
  "nbformat_minor": 0,
  "metadata": {
    "colab": {
      "provenance": [],
      "collapsed_sections": []
    },
    "kernelspec": {
      "name": "python3",
      "display_name": "Python 3"
    },
    "language_info": {
      "name": "python"
    }
  },
  "cells": [
    {
      "cell_type": "markdown",
      "source": [
        "***1.Import the libraries***\n",
        "\n"
      ],
      "metadata": {
        "id": "75F8MgkKwZsC"
      }
    },
    {
      "cell_type": "code",
      "execution_count": 4,
      "metadata": {
        "id": "qBlRdL-tv6qi"
      },
      "outputs": [],
      "source": [
        "import numpy as np\n",
        "import pandas as pd\n",
        "import seaborn as snsdataplot = sns.heatmap(data.corr(), cmap=\"YlGnBu\", annot=True)\n",
        "plt.show()"
      ]
    },
    {
      "cell_type": "markdown",
      "source": [
        "***2.Load the Dataset***"
      ],
      "metadata": {
        "id": "3Xyb9HNFwYlm"
      }
    },
    {
      "cell_type": "code",
      "source": [
        "from google.colab import files \n",
        "upload= files.upload()"
      ],
      "metadata": {
        "colab": {
          "base_uri": "https://localhost:8080/",
          "height": 73
        },
        "id": "LdibzTG23yp1",
        "outputId": "38d9807e-e8ce-4699-c1ac-3e4d79d53abb"
      },
      "execution_count": 11,
      "outputs": [
        {
          "output_type": "display_data",
          "data": {
            "text/plain": [
              "<IPython.core.display.HTML object>"
            ],
            "text/html": [
              "\n",
              "     <input type=\"file\" id=\"files-b66eb4c4-ce07-4950-849e-851b2b8ff4cd\" name=\"files[]\" multiple disabled\n",
              "        style=\"border:none\" />\n",
              "     <output id=\"result-b66eb4c4-ce07-4950-849e-851b2b8ff4cd\">\n",
              "      Upload widget is only available when the cell has been executed in the\n",
              "      current browser session. Please rerun this cell to enable.\n",
              "      </output>\n",
              "      <script>// Copyright 2017 Google LLC\n",
              "//\n",
              "// Licensed under the Apache License, Version 2.0 (the \"License\");\n",
              "// you may not use this file except in compliance with the License.\n",
              "// You may obtain a copy of the License at\n",
              "//\n",
              "//      http://www.apache.org/licenses/LICENSE-2.0\n",
              "//\n",
              "// Unless required by applicable law or agreed to in writing, software\n",
              "// distributed under the License is distributed on an \"AS IS\" BASIS,\n",
              "// WITHOUT WARRANTIES OR CONDITIONS OF ANY KIND, either express or implied.\n",
              "// See the License for the specific language governing permissions and\n",
              "// limitations under the License.\n",
              "\n",
              "/**\n",
              " * @fileoverview Helpers for google.colab Python module.\n",
              " */\n",
              "(function(scope) {\n",
              "function span(text, styleAttributes = {}) {\n",
              "  const element = document.createElement('span');\n",
              "  element.textContent = text;\n",
              "  for (const key of Object.keys(styleAttributes)) {\n",
              "    element.style[key] = styleAttributes[key];\n",
              "  }\n",
              "  return element;\n",
              "}\n",
              "\n",
              "// Max number of bytes which will be uploaded at a time.\n",
              "const MAX_PAYLOAD_SIZE = 100 * 1024;\n",
              "\n",
              "function _uploadFiles(inputId, outputId) {\n",
              "  const steps = uploadFilesStep(inputId, outputId);\n",
              "  const outputElement = document.getElementById(outputId);\n",
              "  // Cache steps on the outputElement to make it available for the next call\n",
              "  // to uploadFilesContinue from Python.\n",
              "  outputElement.steps = steps;\n",
              "\n",
              "  return _uploadFilesContinue(outputId);\n",
              "}\n",
              "\n",
              "// This is roughly an async generator (not supported in the browser yet),\n",
              "// where there are multiple asynchronous steps and the Python side is going\n",
              "// to poll for completion of each step.\n",
              "// This uses a Promise to block the python side on completion of each step,\n",
              "// then passes the result of the previous step as the input to the next step.\n",
              "function _uploadFilesContinue(outputId) {\n",
              "  const outputElement = document.getElementById(outputId);\n",
              "  const steps = outputElement.steps;\n",
              "\n",
              "  const next = steps.next(outputElement.lastPromiseValue);\n",
              "  return Promise.resolve(next.value.promise).then((value) => {\n",
              "    // Cache the last promise value to make it available to the next\n",
              "    // step of the generator.\n",
              "    outputElement.lastPromiseValue = value;\n",
              "    return next.value.response;\n",
              "  });\n",
              "}\n",
              "\n",
              "/**\n",
              " * Generator function which is called between each async step of the upload\n",
              " * process.\n",
              " * @param {string} inputId Element ID of the input file picker element.\n",
              " * @param {string} outputId Element ID of the output display.\n",
              " * @return {!Iterable<!Object>} Iterable of next steps.\n",
              " */\n",
              "function* uploadFilesStep(inputId, outputId) {\n",
              "  const inputElement = document.getElementById(inputId);\n",
              "  inputElement.disabled = false;\n",
              "\n",
              "  const outputElement = document.getElementById(outputId);\n",
              "  outputElement.innerHTML = '';\n",
              "\n",
              "  const pickedPromise = new Promise((resolve) => {\n",
              "    inputElement.addEventListener('change', (e) => {\n",
              "      resolve(e.target.files);\n",
              "    });\n",
              "  });\n",
              "\n",
              "  const cancel = document.createElement('button');\n",
              "  inputElement.parentElement.appendChild(cancel);\n",
              "  cancel.textContent = 'Cancel upload';\n",
              "  const cancelPromise = new Promise((resolve) => {\n",
              "    cancel.onclick = () => {\n",
              "      resolve(null);\n",
              "    };\n",
              "  });\n",
              "\n",
              "  // Wait for the user to pick the files.\n",
              "  const files = yield {\n",
              "    promise: Promise.race([pickedPromise, cancelPromise]),\n",
              "    response: {\n",
              "      action: 'starting',\n",
              "    }\n",
              "  };\n",
              "\n",
              "  cancel.remove();\n",
              "\n",
              "  // Disable the input element since further picks are not allowed.\n",
              "  inputElement.disabled = true;\n",
              "\n",
              "  if (!files) {\n",
              "    return {\n",
              "      response: {\n",
              "        action: 'complete',\n",
              "      }\n",
              "    };\n",
              "  }\n",
              "\n",
              "  for (const file of files) {\n",
              "    const li = document.createElement('li');\n",
              "    li.append(span(file.name, {fontWeight: 'bold'}));\n",
              "    li.append(span(\n",
              "        `(${file.type || 'n/a'}) - ${file.size} bytes, ` +\n",
              "        `last modified: ${\n",
              "            file.lastModifiedDate ? file.lastModifiedDate.toLocaleDateString() :\n",
              "                                    'n/a'} - `));\n",
              "    const percent = span('0% done');\n",
              "    li.appendChild(percent);\n",
              "\n",
              "    outputElement.appendChild(li);\n",
              "\n",
              "    const fileDataPromise = new Promise((resolve) => {\n",
              "      const reader = new FileReader();\n",
              "      reader.onload = (e) => {\n",
              "        resolve(e.target.result);\n",
              "      };\n",
              "      reader.readAsArrayBuffer(file);\n",
              "    });\n",
              "    // Wait for the data to be ready.\n",
              "    let fileData = yield {\n",
              "      promise: fileDataPromise,\n",
              "      response: {\n",
              "        action: 'continue',\n",
              "      }\n",
              "    };\n",
              "\n",
              "    // Use a chunked sending to avoid message size limits. See b/62115660.\n",
              "    let position = 0;\n",
              "    do {\n",
              "      const length = Math.min(fileData.byteLength - position, MAX_PAYLOAD_SIZE);\n",
              "      const chunk = new Uint8Array(fileData, position, length);\n",
              "      position += length;\n",
              "\n",
              "      const base64 = btoa(String.fromCharCode.apply(null, chunk));\n",
              "      yield {\n",
              "        response: {\n",
              "          action: 'append',\n",
              "          file: file.name,\n",
              "          data: base64,\n",
              "        },\n",
              "      };\n",
              "\n",
              "      let percentDone = fileData.byteLength === 0 ?\n",
              "          100 :\n",
              "          Math.round((position / fileData.byteLength) * 100);\n",
              "      percent.textContent = `${percentDone}% done`;\n",
              "\n",
              "    } while (position < fileData.byteLength);\n",
              "  }\n",
              "\n",
              "  // All done.\n",
              "  yield {\n",
              "    response: {\n",
              "      action: 'complete',\n",
              "    }\n",
              "  };\n",
              "}\n",
              "\n",
              "scope.google = scope.google || {};\n",
              "scope.google.colab = scope.google.colab || {};\n",
              "scope.google.colab._files = {\n",
              "  _uploadFiles,\n",
              "  _uploadFilesContinue,\n",
              "};\n",
              "})(self);\n",
              "</script> "
            ]
          },
          "metadata": {}
        },
        {
          "output_type": "stream",
          "name": "stdout",
          "text": [
            "Saving Mall_Customers.csv to Mall_Customers.csv\n"
          ]
        }
      ]
    },
    {
      "cell_type": "code",
      "source": [
        "data = pd.read_csv(r\"Mall_Customers.csv\")\n"
      ],
      "metadata": {
        "id": "DVRYIY25xFUU"
      },
      "execution_count": 13,
      "outputs": []
    },
    {
      "cell_type": "code",
      "source": [
        "data.head()"
      ],
      "metadata": {
        "colab": {
          "base_uri": "https://localhost:8080/",
          "height": 206
        },
        "id": "ND6KdeJhxJBM",
        "outputId": "a3459286-1ba5-431a-f8ed-ebd9b0f40fa8"
      },
      "execution_count": 14,
      "outputs": [
        {
          "output_type": "execute_result",
          "data": {
            "text/plain": [
              "   CustomerID  Gender  Age  Annual Income (k$)  Spending Score (1-100)\n",
              "0           1    Male   19                  15                      39\n",
              "1           2    Male   21                  15                      81\n",
              "2           3  Female   20                  16                       6\n",
              "3           4  Female   23                  16                      77\n",
              "4           5  Female   31                  17                      40"
            ],
            "text/html": [
              "\n",
              "  <div id=\"df-5f341b74-a425-476a-b49e-eedef03c2ad6\">\n",
              "    <div class=\"colab-df-container\">\n",
              "      <div>\n",
              "<style scoped>\n",
              "    .dataframe tbody tr th:only-of-type {\n",
              "        vertical-align: middle;\n",
              "    }\n",
              "\n",
              "    .dataframe tbody tr th {\n",
              "        vertical-align: top;\n",
              "    }\n",
              "\n",
              "    .dataframe thead th {\n",
              "        text-align: right;\n",
              "    }\n",
              "</style>\n",
              "<table border=\"1\" class=\"dataframe\">\n",
              "  <thead>\n",
              "    <tr style=\"text-align: right;\">\n",
              "      <th></th>\n",
              "      <th>CustomerID</th>\n",
              "      <th>Gender</th>\n",
              "      <th>Age</th>\n",
              "      <th>Annual Income (k$)</th>\n",
              "      <th>Spending Score (1-100)</th>\n",
              "    </tr>\n",
              "  </thead>\n",
              "  <tbody>\n",
              "    <tr>\n",
              "      <th>0</th>\n",
              "      <td>1</td>\n",
              "      <td>Male</td>\n",
              "      <td>19</td>\n",
              "      <td>15</td>\n",
              "      <td>39</td>\n",
              "    </tr>\n",
              "    <tr>\n",
              "      <th>1</th>\n",
              "      <td>2</td>\n",
              "      <td>Male</td>\n",
              "      <td>21</td>\n",
              "      <td>15</td>\n",
              "      <td>81</td>\n",
              "    </tr>\n",
              "    <tr>\n",
              "      <th>2</th>\n",
              "      <td>3</td>\n",
              "      <td>Female</td>\n",
              "      <td>20</td>\n",
              "      <td>16</td>\n",
              "      <td>6</td>\n",
              "    </tr>\n",
              "    <tr>\n",
              "      <th>3</th>\n",
              "      <td>4</td>\n",
              "      <td>Female</td>\n",
              "      <td>23</td>\n",
              "      <td>16</td>\n",
              "      <td>77</td>\n",
              "    </tr>\n",
              "    <tr>\n",
              "      <th>4</th>\n",
              "      <td>5</td>\n",
              "      <td>Female</td>\n",
              "      <td>31</td>\n",
              "      <td>17</td>\n",
              "      <td>40</td>\n",
              "    </tr>\n",
              "  </tbody>\n",
              "</table>\n",
              "</div>\n",
              "      <button class=\"colab-df-convert\" onclick=\"convertToInteractive('df-5f341b74-a425-476a-b49e-eedef03c2ad6')\"\n",
              "              title=\"Convert this dataframe to an interactive table.\"\n",
              "              style=\"display:none;\">\n",
              "        \n",
              "  <svg xmlns=\"http://www.w3.org/2000/svg\" height=\"24px\"viewBox=\"0 0 24 24\"\n",
              "       width=\"24px\">\n",
              "    <path d=\"M0 0h24v24H0V0z\" fill=\"none\"/>\n",
              "    <path d=\"M18.56 5.44l.94 2.06.94-2.06 2.06-.94-2.06-.94-.94-2.06-.94 2.06-2.06.94zm-11 1L8.5 8.5l.94-2.06 2.06-.94-2.06-.94L8.5 2.5l-.94 2.06-2.06.94zm10 10l.94 2.06.94-2.06 2.06-.94-2.06-.94-.94-2.06-.94 2.06-2.06.94z\"/><path d=\"M17.41 7.96l-1.37-1.37c-.4-.4-.92-.59-1.43-.59-.52 0-1.04.2-1.43.59L10.3 9.45l-7.72 7.72c-.78.78-.78 2.05 0 2.83L4 21.41c.39.39.9.59 1.41.59.51 0 1.02-.2 1.41-.59l7.78-7.78 2.81-2.81c.8-.78.8-2.07 0-2.86zM5.41 20L4 18.59l7.72-7.72 1.47 1.35L5.41 20z\"/>\n",
              "  </svg>\n",
              "      </button>\n",
              "      \n",
              "  <style>\n",
              "    .colab-df-container {\n",
              "      display:flex;\n",
              "      flex-wrap:wrap;\n",
              "      gap: 12px;\n",
              "    }\n",
              "\n",
              "    .colab-df-convert {\n",
              "      background-color: #E8F0FE;\n",
              "      border: none;\n",
              "      border-radius: 50%;\n",
              "      cursor: pointer;\n",
              "      display: none;\n",
              "      fill: #1967D2;\n",
              "      height: 32px;\n",
              "      padding: 0 0 0 0;\n",
              "      width: 32px;\n",
              "    }\n",
              "\n",
              "    .colab-df-convert:hover {\n",
              "      background-color: #E2EBFA;\n",
              "      box-shadow: 0px 1px 2px rgba(60, 64, 67, 0.3), 0px 1px 3px 1px rgba(60, 64, 67, 0.15);\n",
              "      fill: #174EA6;\n",
              "    }\n",
              "\n",
              "    [theme=dark] .colab-df-convert {\n",
              "      background-color: #3B4455;\n",
              "      fill: #D2E3FC;\n",
              "    }\n",
              "\n",
              "    [theme=dark] .colab-df-convert:hover {\n",
              "      background-color: #434B5C;\n",
              "      box-shadow: 0px 1px 3px 1px rgba(0, 0, 0, 0.15);\n",
              "      filter: drop-shadow(0px 1px 2px rgba(0, 0, 0, 0.3));\n",
              "      fill: #FFFFFF;\n",
              "    }\n",
              "  </style>\n",
              "\n",
              "      <script>\n",
              "        const buttonEl =\n",
              "          document.querySelector('#df-5f341b74-a425-476a-b49e-eedef03c2ad6 button.colab-df-convert');\n",
              "        buttonEl.style.display =\n",
              "          google.colab.kernel.accessAllowed ? 'block' : 'none';\n",
              "\n",
              "        async function convertToInteractive(key) {\n",
              "          const element = document.querySelector('#df-5f341b74-a425-476a-b49e-eedef03c2ad6');\n",
              "          const dataTable =\n",
              "            await google.colab.kernel.invokeFunction('convertToInteractive',\n",
              "                                                     [key], {});\n",
              "          if (!dataTable) return;\n",
              "\n",
              "          const docLinkHtml = 'Like what you see? Visit the ' +\n",
              "            '<a target=\"_blank\" href=https://colab.research.google.com/notebooks/data_table.ipynb>data table notebook</a>'\n",
              "            + ' to learn more about interactive tables.';\n",
              "          element.innerHTML = '';\n",
              "          dataTable['output_type'] = 'display_data';\n",
              "          await google.colab.output.renderOutput(dataTable, element);\n",
              "          const docLink = document.createElement('div');\n",
              "          docLink.innerHTML = docLinkHtml;\n",
              "          element.appendChild(docLink);\n",
              "        }\n",
              "      </script>\n",
              "    </div>\n",
              "  </div>\n",
              "  "
            ]
          },
          "metadata": {},
          "execution_count": 14
        }
      ]
    },
    {
      "cell_type": "markdown",
      "source": [
        "***3.Visualizations.***"
      ],
      "metadata": {
        "id": "bmf6GR-764x_"
      }
    },
    {
      "cell_type": "markdown",
      "source": [
        "***3.1.Univariate Analysis***"
      ],
      "metadata": {
        "id": "su1lgaMG7Cje"
      }
    },
    {
      "cell_type": "code",
      "source": [
        "data.hist(figsize=(20,10), grid=False, layout=(2, 4), bins = 30)"
      ],
      "metadata": {
        "colab": {
          "base_uri": "https://localhost:8080/",
          "height": 387
        },
        "id": "Tpvbj0x05MCy",
        "outputId": "aaf9b447-09da-46d4-b817-c63fd9bf20d1"
      },
      "execution_count": 16,
      "outputs": [
        {
          "output_type": "execute_result",
          "data": {
            "text/plain": [
              "array([[<matplotlib.axes._subplots.AxesSubplot object at 0x7f8df76e8bd0>,\n",
              "        <matplotlib.axes._subplots.AxesSubplot object at 0x7f8df7659390>,\n",
              "        <matplotlib.axes._subplots.AxesSubplot object at 0x7f8df7612950>,\n",
              "        <matplotlib.axes._subplots.AxesSubplot object at 0x7f8df75caf50>],\n",
              "       [<matplotlib.axes._subplots.AxesSubplot object at 0x7f8df758c590>,\n",
              "        <matplotlib.axes._subplots.AxesSubplot object at 0x7f8df75c1b90>,\n",
              "        <matplotlib.axes._subplots.AxesSubplot object at 0x7f8df7587250>,\n",
              "        <matplotlib.axes._subplots.AxesSubplot object at 0x7f8df753b790>]],\n",
              "      dtype=object)"
            ]
          },
          "metadata": {},
          "execution_count": 16
        },
        {
          "output_type": "display_data",
          "data": {
            "text/plain": [
              "<Figure size 1440x720 with 8 Axes>"
            ],
            "image/png": "[encoded data removed]"
          },
          "metadata": {
            "needs_background": "light"
          }
        }
      ]
    },
    {
      "cell_type": "markdown",
      "source": [
        "***3.2 Bi-variate Analysis***\n",
        "\n"
      ],
      "metadata": {
        "id": "6OFuBayg9UiW"
      }
    },
    {
      "cell_type": "code",
      "source": [
        "sns.pairplot(data)\n"
      ],
      "metadata": {
        "colab": {
          "base_uri": "https://localhost:8080/",
          "height": 743
        },
        "id": "hj56Yi0y9XHh",
        "outputId": "5daa3cb4-1461-4825-e63b-dc5c068cbef5"
      },
      "execution_count": 17,
      "outputs": [
        {
          "output_type": "execute_result",
          "data": {
            "text/plain": [
              "<seaborn.axisgrid.PairGrid at 0x7f8df6d93e10>"
            ]
          },
          "metadata": {},
          "execution_count": 17
        },
        {
          "output_type": "display_data",
          "data": {
            "text/plain": [
              "<Figure size 720x720 with 20 Axes>"
            ],
            "image/png": "[encoded data removed]"
          },
          "metadata": {
            "needs_background": "light"
          }
        }
      ]
    },
    {
      "cell_type": "markdown",
      "source": [
        "***3.3 Multi-Variate Analysis***\n",
        "\n"
      ],
      "metadata": {
        "id": "i8iRifp5_eAN"
      }
    },
    {
      "cell_type": "code",
      "source": [
        "dataplot = sns.heatmap(data.corr(), cmap=\"YlGnBu\", annot=True)\n",
        "plt.show()"
      ],
      "metadata": {
        "colab": {
          "base_uri": "https://localhost:8080/",
          "height": 339
        },
        "id": "4WSwVwhd_pda",
        "outputId": "ec3ec99a-23b9-45fb-8327-96193c9bb02a"
      },
      "execution_count": 18,
      "outputs": [
        {
          "output_type": "display_data",
          "data": {
            "text/plain": [
              "<Figure size 432x288 with 2 Axes>"
            ],
            "image/png": "[encoded data removed]"
          },
          "metadata": {
            "needs_background": "light"
          }
        }
      ]
    },
    {
      "cell_type": "markdown",
      "source": [
        "***4.Perform descriptive statistics on the dataset.***"
      ],
      "metadata": {
        "id": "aeR91MaiAZgZ"
      }
    },
    {
      "cell_type": "code",
      "source": [
        "data.describe()\n"
      ],
      "metadata": {
        "colab": {
          "base_uri": "https://localhost:8080/",
          "height": 300
        },
        "id": "jxYrVR_5AZFq",
        "outputId": "ae8c422f-2504-4b09-903d-b900c21e7db7"
      },
      "execution_count": 19,
      "outputs": [
        {
          "output_type": "execute_result",
          "data": {
            "text/plain": [
              "       CustomerID         Age  Annual_Income  Spending_Score\n",
              "count  200.000000  200.000000     200.000000      200.000000\n",
              "mean   100.500000   38.850000      60.560000       50.200000\n",
              "std     57.879185   13.969007      26.264721       25.823522\n",
              "min      1.000000   18.000000      15.000000        1.000000\n",
              "25%     50.750000   28.750000      41.500000       34.750000\n",
              "50%    100.500000   36.000000      61.500000       50.000000\n",
              "75%    150.250000   49.000000      78.000000       73.000000\n",
              "max    200.000000   70.000000     137.000000       99.000000"
            ],
            "text/html": [
              "\n",
              "  <div id=\"df-47a4f066-3f1d-4c89-9e49-6d68ac9aaaae\">\n",
              "    <div class=\"colab-df-container\">\n",
              "      <div>\n",
              "<style scoped>\n",
              "    .dataframe tbody tr th:only-of-type {\n",
              "        vertical-align: middle;\n",
              "    }\n",
              "\n",
              "    .dataframe tbody tr th {\n",
              "        vertical-align: top;\n",
              "    }\n",
              "\n",
              "    .dataframe thead th {\n",
              "        text-align: right;\n",
              "    }\n",
              "</style>\n",
              "<table border=\"1\" class=\"dataframe\">\n",
              "  <thead>\n",
              "    <tr style=\"text-align: right;\">\n",
              "      <th></th>\n",
              "      <th>CustomerID</th>\n",
              "      <th>Age</th>\n",
              "      <th>Annual_Income</th>\n",
              "      <th>Spending_Score</th>\n",
              "    </tr>\n",
              "  </thead>\n",
              "  <tbody>\n",
              "    <tr>\n",
              "      <th>count</th>\n",
              "      <td>200.000000</td>\n",
              "      <td>200.000000</td>\n",
              "      <td>200.000000</td>\n",
              "      <td>200.000000</td>\n",
              "    </tr>\n",
              "    <tr>\n",
              "      <th>mean</th>\n",
              "      <td>100.500000</td>\n",
              "      <td>38.850000</td>\n",
              "      <td>60.560000</td>\n",
              "      <td>50.200000</td>\n",
              "    </tr>\n",
              "    <tr>\n",
              "      <th>std</th>\n",
              "      <td>57.879185</td>\n",
              "      <td>13.969007</td>\n",
              "      <td>26.264721</td>\n",
              "      <td>25.823522</td>\n",
              "    </tr>\n",
              "    <tr>\n",
              "      <th>min</th>\n",
              "      <td>1.000000</td>\n",
              "      <td>18.000000</td>\n",
              "      <td>15.000000</td>\n",
              "      <td>1.000000</td>\n",
              "    </tr>\n",
              "    <tr>\n",
              "      <th>25%</th>\n",
              "      <td>50.750000</td>\n",
              "      <td>28.750000</td>\n",
              "      <td>41.500000</td>\n",
              "      <td>34.750000</td>\n",
              "    </tr>\n",
              "    <tr>\n",
              "      <th>50%</th>\n",
              "      <td>100.500000</td>\n",
              "      <td>36.000000</td>\n",
              "      <td>61.500000</td>\n",
              "      <td>50.000000</td>\n",
              "    </tr>\n",
              "    <tr>\n",
              "      <th>75%</th>\n",
              "      <td>150.250000</td>\n",
              "      <td>49.000000</td>\n",
              "      <td>78.000000</td>\n",
              "      <td>73.000000</td>\n",
              "    </tr>\n",
              "    <tr>\n",
              "      <th>max</th>\n",
              "      <td>200.000000</td>\n",
              "      <td>70.000000</td>\n",
              "      <td>137.000000</td>\n",
              "      <td>99.000000</td>\n",
              "    </tr>\n",
              "  </tbody>\n",
              "</table>\n",
              "</div>\n",
              "      <button class=\"colab-df-convert\" onclick=\"convertToInteractive('df-47a4f066-3f1d-4c89-9e49-6d68ac9aaaae')\"\n",
              "              title=\"Convert this dataframe to an interactive table.\"\n",
              "              style=\"display:none;\">\n",
              "        \n",
              "  <svg xmlns=\"http://www.w3.org/2000/svg\" height=\"24px\"viewBox=\"0 0 24 24\"\n",
              "       width=\"24px\">\n",
              "    <path d=\"M0 0h24v24H0V0z\" fill=\"none\"/>\n",
              "    <path d=\"M18.56 5.44l.94 2.06.94-2.06 2.06-.94-2.06-.94-.94-2.06-.94 2.06-2.06.94zm-11 1L8.5 8.5l.94-2.06 2.06-.94-2.06-.94L8.5 2.5l-.94 2.06-2.06.94zm10 10l.94 2.06.94-2.06 2.06-.94-2.06-.94-.94-2.06-.94 2.06-2.06.94z\"/><path d=\"M17.41 7.96l-1.37-1.37c-.4-.4-.92-.59-1.43-.59-.52 0-1.04.2-1.43.59L10.3 9.45l-7.72 7.72c-.78.78-.78 2.05 0 2.83L4 21.41c.39.39.9.59 1.41.59.51 0 1.02-.2 1.41-.59l7.78-7.78 2.81-2.81c.8-.78.8-2.07 0-2.86zM5.41 20L4 18.59l7.72-7.72 1.47 1.35L5.41 20z\"/>\n",
              "  </svg>\n",
              "      </button>\n",
              "      \n",
              "  <style>\n",
              "    .colab-df-container {\n",
              "      display:flex;\n",
              "      flex-wrap:wrap;\n",
              "      gap: 12px;\n",
              "    }\n",
              "\n",
              "    .colab-df-convert {\n",
              "      background-color: #E8F0FE;\n",
              "      border: none;\n",
              "      border-radius: 50%;\n",
              "      cursor: pointer;\n",
              "      display: none;\n",
              "      fill: #1967D2;\n",
              "      height: 32px;\n",
              "      padding: 0 0 0 0;\n",
              "      width: 32px;\n",
              "    }\n",
              "\n",
              "    .colab-df-convert:hover {\n",
              "      background-color: #E2EBFA;\n",
              "      box-shadow: 0px 1px 2px rgba(60, 64, 67, 0.3), 0px 1px 3px 1px rgba(60, 64, 67, 0.15);\n",
              "      fill: #174EA6;\n",
              "    }\n",
              "\n",
              "    [theme=dark] .colab-df-convert {\n",
              "      background-color: #3B4455;\n",
              "      fill: #D2E3FC;\n",
              "    }\n",
              "\n",
              "    [theme=dark] .colab-df-convert:hover {\n",
              "      background-color: #434B5C;\n",
              "      box-shadow: 0px 1px 3px 1px rgba(0, 0, 0, 0.15);\n",
              "      filter: drop-shadow(0px 1px 2px rgba(0, 0, 0, 0.3));\n",
              "      fill: #FFFFFF;\n",
              "    }\n",
              "  </style>\n",
              "\n",
              "      <script>\n",
              "        const buttonEl =\n",
              "          document.querySelector('#df-47a4f066-3f1d-4c89-9e49-6d68ac9aaaae button.colab-df-convert');\n",
              "        buttonEl.style.display =\n",
              "          google.colab.kernel.accessAllowed ? 'block' : 'none';\n",
              "\n",
              "        async function convertToInteractive(key) {\n",
              "          const element = document.querySelector('#df-47a4f066-3f1d-4c89-9e49-6d68ac9aaaae');\n",
              "          const dataTable =\n",
              "            await google.colab.kernel.invokeFunction('convertToInteractive',\n",
              "                                                     [key], {});\n",
              "          if (!dataTable) return;\n",
              "\n",
              "          const docLinkHtml = 'Like what you see? Visit the ' +\n",
              "            '<a target=\"_blank\" href=https://colab.research.google.com/notebooks/data_table.ipynb>data table notebook</a>'\n",
              "            + ' to learn more about interactive tables.';\n",
              "          element.innerHTML = '';\n",
              "          dataTable['output_type'] = 'display_data';\n",
              "          await google.colab.output.renderOutput(dataTable, element);\n",
              "          const docLink = document.createElement('div');\n",
              "          docLink.innerHTML = docLinkHtml;\n",
              "          element.appendChild(docLink);\n",
              "        }\n",
              "      </script>\n",
              "    </div>\n",
              "  </div>\n",
              "  "
            ]
          },
          "metadata": {},
          "execution_count": 19
        }
      ]
    },
    {
      "cell_type": "markdown",
      "source": [
        "***5.Check for Missing values and deal with them.***"
      ],
      "metadata": {
        "id": "NsVq1sywA7kx"
      }
    },
    {
      "cell_type": "code",
      "source": [
        "data.isnull().any()\n"
      ],
      "metadata": {
        "colab": {
          "base_uri": "https://localhost:8080/"
        },
        "id": "tKUObV_qBBDO",
        "outputId": "e903a0c1-a4f6-4e57-fc77-67da965b1d3a"
      },
      "execution_count": 20,
      "outputs": [
        {
          "output_type": "execute_result",
          "data": {
            "text/plain": [
              "CustomerID        False\n",
              "Gender            False\n",
              "Age               False\n",
              "Annual_Income     False\n",
              "Spending_Score    False\n",
              "dtype: bool"
            ]
          },
          "metadata": {},
          "execution_count": 20
        }
      ]
    },
    {
      "cell_type": "markdown",
      "source": [
        "***6. Find the outliers and replace them outliers***"
      ],
      "metadata": {
        "id": "zjp73dTyB0Jl"
      }
    },
    {
      "cell_type": "code",
      "source": [
        "plt.boxplot(data.Spending_Score)"
      ],
      "metadata": {
        "colab": {
          "base_uri": "https://localhost:8080/",
          "height": 404
        },
        "id": "b1cbCkPJB2pz",
        "outputId": "87dca039-9a5a-4410-b1af-e5bf99a4b017"
      },
      "execution_count": 21,
      "outputs": [
        {
          "output_type": "execute_result",
          "data": {
            "text/plain": [
              "{'whiskers': [<matplotlib.lines.Line2D at 0x7f8df25277d0>,\n",
              "  <matplotlib.lines.Line2D at 0x7f8df2527d10>],\n",
              " 'caps': [<matplotlib.lines.Line2D at 0x7f8df252d290>,\n",
              "  <matplotlib.lines.Line2D at 0x7f8df252d7d0>],\n",
              " 'boxes': [<matplotlib.lines.Line2D at 0x7f8df2527210>],\n",
              " 'medians': [<matplotlib.lines.Line2D at 0x7f8df252dd50>],\n",
              " 'fliers': [<matplotlib.lines.Line2D at 0x7f8df25352d0>],\n",
              " 'means': []}"
            ]
          },
          "metadata": {},
          "execution_count": 21
        },
        {
          "output_type": "display_data",
          "data": {
            "text/plain": [
              "<Figure size 432x288 with 1 Axes>"
            ],
            "image/png": "[encoded data removed]"
          },
          "metadata": {
            "needs_background": "light"
          }
        }
      ]
    },
    {
      "cell_type": "code",
      "source": [
        "plt.boxplot(data.Annual_Income)"
      ],
      "metadata": {
        "colab": {
          "base_uri": "https://localhost:8080/",
          "height": 404
        },
        "id": "uXryGLW5CBlb",
        "outputId": "f37c3382-7f96-4262-9aa2-5bf396fb2ea9"
      },
      "execution_count": 22,
      "outputs": [
        {
          "output_type": "execute_result",
          "data": {
            "text/plain": [
              "{'whiskers': [<matplotlib.lines.Line2D at 0x7f8df2492390>,\n",
              "  <matplotlib.lines.Line2D at 0x7f8df24928d0>],\n",
              " 'caps': [<matplotlib.lines.Line2D at 0x7f8df2492e10>,\n",
              "  <matplotlib.lines.Line2D at 0x7f8df249a390>],\n",
              " 'boxes': [<matplotlib.lines.Line2D at 0x7f8df248ae10>],\n",
              " 'medians': [<matplotlib.lines.Line2D at 0x7f8df249a910>],\n",
              " 'fliers': [<matplotlib.lines.Line2D at 0x7f8df249ae50>],\n",
              " 'means': []}"
            ]
          },
          "metadata": {},
          "execution_count": 22
        },
        {
          "output_type": "display_data",
          "data": {
            "text/plain": [
              "<Figure size 432x288 with 1 Axes>"
            ],
            "image/png": "[encoded data removed]"
          },
          "metadata": {
            "needs_background": "light"
          }
        }
      ]
    },
    {
      "cell_type": "code",
      "source": [
        "plt.boxplot(data.Annual_Income)"
      ],
      "metadata": {
        "colab": {
          "base_uri": "https://localhost:8080/",
          "height": 404
        },
        "id": "-ky8gHlCCLmt",
        "outputId": "82d49afb-cdd8-4f1d-ed8e-ee44703a8e5e"
      },
      "execution_count": 23,
      "outputs": [
        {
          "output_type": "execute_result",
          "data": {
            "text/plain": [
              "{'whiskers': [<matplotlib.lines.Line2D at 0x7f8df2403590>,\n",
              "  <matplotlib.lines.Line2D at 0x7f8df2403ad0>],\n",
              " 'caps': [<matplotlib.lines.Line2D at 0x7f8df240b050>,\n",
              "  <matplotlib.lines.Line2D at 0x7f8df240b590>],\n",
              " 'boxes': [<matplotlib.lines.Line2D at 0x7f8df2403050>],\n",
              " 'medians': [<matplotlib.lines.Line2D at 0x7f8df240bb10>],\n",
              " 'fliers': [<matplotlib.lines.Line2D at 0x7f8df2413090>],\n",
              " 'means': []}"
            ]
          },
          "metadata": {},
          "execution_count": 23
        },
        {
          "output_type": "display_data",
          "data": {
            "text/plain": [
              "<Figure size 432x288 with 1 Axes>"
            ],
            "image/png": "[encoded data removed]"
          },
          "metadata": {
            "needs_background": "light"
          }
        }
      ]
    },
    {
      "cell_type": "markdown",
      "source": [
        "***7.Categorical columns and perform encoding.***"
      ],
      "metadata": {
        "id": "gnS6CBoICUvn"
      }
    },
    {
      "cell_type": "code",
      "source": [
        "data.info()"
      ],
      "metadata": {
        "colab": {
          "base_uri": "https://localhost:8080/"
        },
        "id": "XaXk3SCRCYdG",
        "outputId": "16d970c8-c1ba-4566-acb8-6811ef09bf49"
      },
      "execution_count": 24,
      "outputs": [
        {
          "output_type": "stream",
          "name": "stdout",
          "text": [
            "<class 'pandas.core.frame.DataFrame'>\n",
            "RangeIndex: 200 entries, 0 to 199\n",
            "Data columns (total 5 columns):\n",
            " #   Column          Non-Null Count  Dtype \n",
            "---  ------          --------------  ----- \n",
            " 0   CustomerID      200 non-null    int64 \n",
            " 1   Gender          200 non-null    object\n",
            " 2   Age             200 non-null    int64 \n",
            " 3   Annual_Income   200 non-null    int64 \n",
            " 4   Spending_Score  200 non-null    int64 \n",
            "dtypes: int64(4), object(1)\n",
            "memory usage: 7.9+ KB\n"
          ]
        }
      ]
    },
    {
      "cell_type": "code",
      "source": [
        "from sklearn import preprocessing\n",
        "label_encoder = preprocessing.LabelEncoder() \n",
        "data['Gender']= label_encoder.fit_transform(data['Gender'])\n",
        "data['Age']= label_encoder.fit_transform(data['Age'])"
      ],
      "metadata": {
        "id": "QbMX8mItCkim"
      },
      "execution_count": 25,
      "outputs": []
    },
    {
      "cell_type": "code",
      "source": [
        "data.head()"
      ],
      "metadata": {
        "colab": {
          "base_uri": "https://localhost:8080/",
          "height": 206
        },
        "id": "Ua_ulCdkCvti",
        "outputId": "8be64725-072b-4a28-abe3-ee12895940fa"
      },
      "execution_count": 26,
      "outputs": [
        {
          "output_type": "execute_result",
          "data": {
            "text/plain": [
              "   CustomerID  Gender  Age  Annual_Income  Spending_Score\n",
              "0           1       1    1             15              39\n",
              "1           2       1    3             15              81\n",
              "2           3       0    2             16               6\n",
              "3           4       0    5             16              77\n",
              "4           5       0   13             17              40"
            ],
            "text/html": [
              "\n",
              "  <div id=\"df-d9bc0c4c-8797-4cfd-b819-b32b3318e462\">\n",
              "    <div class=\"colab-df-container\">\n",
              "      <div>\n",
              "<style scoped>\n",
              "    .dataframe tbody tr th:only-of-type {\n",
              "        vertical-align: middle;\n",
              "    }\n",
              "\n",
              "    .dataframe tbody tr th {\n",
              "        vertical-align: top;\n",
              "    }\n",
              "\n",
              "    .dataframe thead th {\n",
              "        text-align: right;\n",
              "    }\n",
              "</style>\n",
              "<table border=\"1\" class=\"dataframe\">\n",
              "  <thead>\n",
              "    <tr style=\"text-align: right;\">\n",
              "      <th></th>\n",
              "      <th>CustomerID</th>\n",
              "      <th>Gender</th>\n",
              "      <th>Age</th>\n",
              "      <th>Annual_Income</th>\n",
              "      <th>Spending_Score</th>\n",
              "    </tr>\n",
              "  </thead>\n",
              "  <tbody>\n",
              "    <tr>\n",
              "      <th>0</th>\n",
              "      <td>1</td>\n",
              "      <td>1</td>\n",
              "      <td>1</td>\n",
              "      <td>15</td>\n",
              "      <td>39</td>\n",
              "    </tr>\n",
              "    <tr>\n",
              "      <th>1</th>\n",
              "      <td>2</td>\n",
              "      <td>1</td>\n",
              "      <td>3</td>\n",
              "      <td>15</td>\n",
              "      <td>81</td>\n",
              "    </tr>\n",
              "    <tr>\n",
              "      <th>2</th>\n",
              "      <td>3</td>\n",
              "      <td>0</td>\n",
              "      <td>2</td>\n",
              "      <td>16</td>\n",
              "      <td>6</td>\n",
              "    </tr>\n",
              "    <tr>\n",
              "      <th>3</th>\n",
              "      <td>4</td>\n",
              "      <td>0</td>\n",
              "      <td>5</td>\n",
              "      <td>16</td>\n",
              "      <td>77</td>\n",
              "    </tr>\n",
              "    <tr>\n",
              "      <th>4</th>\n",
              "      <td>5</td>\n",
              "      <td>0</td>\n",
              "      <td>13</td>\n",
              "      <td>17</td>\n",
              "      <td>40</td>\n",
              "    </tr>\n",
              "  </tbody>\n",
              "</table>\n",
              "</div>\n",
              "      <button class=\"colab-df-convert\" onclick=\"convertToInteractive('df-d9bc0c4c-8797-4cfd-b819-b32b3318e462')\"\n",
              "              title=\"Convert this dataframe to an interactive table.\"\n",
              "              style=\"display:none;\">\n",
              "        \n",
              "  <svg xmlns=\"http://www.w3.org/2000/svg\" height=\"24px\"viewBox=\"0 0 24 24\"\n",
              "       width=\"24px\">\n",
              "    <path d=\"M0 0h24v24H0V0z\" fill=\"none\"/>\n",
              "    <path d=\"M18.56 5.44l.94 2.06.94-2.06 2.06-.94-2.06-.94-.94-2.06-.94 2.06-2.06.94zm-11 1L8.5 8.5l.94-2.06 2.06-.94-2.06-.94L8.5 2.5l-.94 2.06-2.06.94zm10 10l.94 2.06.94-2.06 2.06-.94-2.06-.94-.94-2.06-.94 2.06-2.06.94z\"/><path d=\"M17.41 7.96l-1.37-1.37c-.4-.4-.92-.59-1.43-.59-.52 0-1.04.2-1.43.59L10.3 9.45l-7.72 7.72c-.78.78-.78 2.05 0 2.83L4 21.41c.39.39.9.59 1.41.59.51 0 1.02-.2 1.41-.59l7.78-7.78 2.81-2.81c.8-.78.8-2.07 0-2.86zM5.41 20L4 18.59l7.72-7.72 1.47 1.35L5.41 20z\"/>\n",
              "  </svg>\n",
              "      </button>\n",
              "      \n",
              "  <style>\n",
              "    .colab-df-container {\n",
              "      display:flex;\n",
              "      flex-wrap:wrap;\n",
              "      gap: 12px;\n",
              "    }\n",
              "\n",
              "    .colab-df-convert {\n",
              "      background-color: #E8F0FE;\n",
              "      border: none;\n",
              "      border-radius: 50%;\n",
              "      cursor: pointer;\n",
              "      display: none;\n",
              "      fill: #1967D2;\n",
              "      height: 32px;\n",
              "      padding: 0 0 0 0;\n",
              "      width: 32px;\n",
              "    }\n",
              "\n",
              "    .colab-df-convert:hover {\n",
              "      background-color: #E2EBFA;\n",
              "      box-shadow: 0px 1px 2px rgba(60, 64, 67, 0.3), 0px 1px 3px 1px rgba(60, 64, 67, 0.15);\n",
              "      fill: #174EA6;\n",
              "    }\n",
              "\n",
              "    [theme=dark] .colab-df-convert {\n",
              "      background-color: #3B4455;\n",
              "      fill: #D2E3FC;\n",
              "    }\n",
              "\n",
              "    [theme=dark] .colab-df-convert:hover {\n",
              "      background-color: #434B5C;\n",
              "      box-shadow: 0px 1px 3px 1px rgba(0, 0, 0, 0.15);\n",
              "      filter: drop-shadow(0px 1px 2px rgba(0, 0, 0, 0.3));\n",
              "      fill: #FFFFFF;\n",
              "    }\n",
              "  </style>\n",
              "\n",
              "      <script>\n",
              "        const buttonEl =\n",
              "          document.querySelector('#df-d9bc0c4c-8797-4cfd-b819-b32b3318e462 button.colab-df-convert');\n",
              "        buttonEl.style.display =\n",
              "          google.colab.kernel.accessAllowed ? 'block' : 'none';\n",
              "\n",
              "        async function convertToInteractive(key) {\n",
              "          const element = document.querySelector('#df-d9bc0c4c-8797-4cfd-b819-b32b3318e462');\n",
              "          const dataTable =\n",
              "            await google.colab.kernel.invokeFunction('convertToInteractive',\n",
              "                                                     [key], {});\n",
              "          if (!dataTable) return;\n",
              "\n",
              "          const docLinkHtml = 'Like what you see? Visit the ' +\n",
              "            '<a target=\"_blank\" href=https://colab.research.google.com/notebooks/data_table.ipynb>data table notebook</a>'\n",
              "            + ' to learn more about interactive tables.';\n",
              "          element.innerHTML = '';\n",
              "          dataTable['output_type'] = 'display_data';\n",
              "          await google.colab.output.renderOutput(dataTable, element);\n",
              "          const docLink = document.createElement('div');\n",
              "          docLink.innerHTML = docLinkHtml;\n",
              "          element.appendChild(docLink);\n",
              "        }\n",
              "      </script>\n",
              "    </div>\n",
              "  </div>\n",
              "  "
            ]
          },
          "metadata": {},
          "execution_count": 26
        }
      ]
    },
    {
      "cell_type": "markdown",
      "source": [
        "***8.Scaling the independent variable***"
      ],
      "metadata": {
        "id": "SlOCtzpmCz-8"
      }
    },
    {
      "cell_type": "code",
      "source": [
        "from sklearn.preprocessing import StandardScaler\n",
        "df=StandardScaler()\n",
        "data1=df.fit_transform(data)\n",
        "print(data1)\n"
      ],
      "metadata": {
        "colab": {
          "base_uri": "https://localhost:8080/"
        },
        "id": "Av8L_Mh6C45c",
        "outputId": "b95383c8-7858-48a2-eec0-162e9e67fc17"
      },
      "execution_count": 28,
      "outputs": [
        {
          "output_type": "stream",
          "name": "stdout",
          "text": [
            "[[-1.7234121   1.12815215 -1.44683356 -1.73899919 -0.43480148]\n",
            " [-1.70609137  1.12815215 -1.29979763 -1.73899919  1.19570407]\n",
            " [-1.68877065 -0.88640526 -1.37331559 -1.70082976 -1.71591298]\n",
            " [-1.67144992 -0.88640526 -1.15276169 -1.70082976  1.04041783]\n",
            " [-1.6541292  -0.88640526 -0.56461797 -1.66266033 -0.39597992]\n",
            " [-1.63680847 -0.88640526 -1.22627966 -1.66266033  1.00159627]\n",
            " [-1.61948775 -0.88640526 -0.27054611 -1.62449091 -1.71591298]\n",
            " [-1.60216702 -0.88640526 -1.15276169 -1.62449091  1.70038436]\n",
            " [-1.5848463   1.12815215  1.71443895 -1.58632148 -1.83237767]\n",
            " [-1.56752558 -0.88640526 -0.63813594 -1.58632148  0.84631002]\n",
            " [-1.55020485  1.12815215  1.93499284 -1.58632148 -1.4053405 ]\n",
            " [-1.53288413 -0.88640526 -0.27054611 -1.58632148  1.89449216]\n",
            " [-1.5155634  -0.88640526  1.42036709 -1.54815205 -1.36651894]\n",
            " [-1.49824268 -0.88640526 -1.07924373 -1.54815205  1.04041783]\n",
            " [-1.48092195  1.12815215 -0.12351018 -1.54815205 -1.44416206]\n",
            " [-1.46360123  1.12815215 -1.22627966 -1.54815205  1.11806095]\n",
            " [-1.4462805  -0.88640526 -0.27054611 -1.50998262 -0.59008772]\n",
            " [-1.42895978  1.12815215 -1.37331559 -1.50998262  0.61338066]\n",
            " [-1.41163905  1.12815215  0.9792593  -1.43364376 -0.82301709]\n",
            " [-1.39431833 -0.88640526 -0.27054611 -1.43364376  1.8556706 ]\n",
            " [-1.3769976   1.12815215 -0.27054611 -1.39547433 -0.59008772]\n",
            " [-1.35967688  1.12815215 -1.00572576 -1.39547433  0.88513158]\n",
            " [-1.34235616 -0.88640526  0.53815151 -1.3573049  -1.75473454]\n",
            " [-1.32503543  1.12815215 -0.56461797 -1.3573049   0.88513158]\n",
            " [-1.30771471 -0.88640526  1.12629523 -1.24279661 -1.4053405 ]\n",
            " [-1.29039398  1.12815215 -0.7116539  -1.24279661  1.23452563]\n",
            " [-1.27307326 -0.88640526  0.46463354 -1.24279661 -0.7065524 ]\n",
            " [-1.25575253  1.12815215 -0.27054611 -1.24279661  0.41927286]\n",
            " [-1.23843181 -0.88640526  0.09704371 -1.20462718 -0.74537397]\n",
            " [-1.22111108 -0.88640526 -1.15276169 -1.20462718  1.42863343]\n",
            " [-1.20379036  1.12815215  1.56740302 -1.16645776 -1.7935561 ]\n",
            " [-1.18646963 -0.88640526 -1.29979763 -1.16645776  0.88513158]\n",
            " [-1.16914891  1.12815215  1.05277726 -1.05194947 -1.7935561 ]\n",
            " [-1.15182818  1.12815215 -1.52035152 -1.05194947  1.62274124]\n",
            " [-1.13450746 -0.88640526  0.7587054  -1.05194947 -1.4053405 ]\n",
            " [-1.11718674 -0.88640526 -1.29979763 -1.05194947  1.19570407]\n",
            " [-1.09986601 -0.88640526  0.24407964 -1.01378004 -1.28887582]\n",
            " [-1.08254529 -0.88640526 -0.63813594 -1.01378004  0.88513158]\n",
            " [-1.06522456 -0.88640526 -0.19702815 -0.89927175 -0.93948177]\n",
            " [-1.04790384 -0.88640526 -1.37331559 -0.89927175  0.96277471]\n",
            " [-1.03058311 -0.88640526  1.78795691 -0.86110232 -0.59008772]\n",
            " [-1.01326239  1.12815215 -1.07924373 -0.86110232  1.62274124]\n",
            " [-0.99594166  1.12815215  0.68518744 -0.82293289 -0.55126616]\n",
            " [-0.97862094 -0.88640526 -0.56461797 -0.82293289  0.41927286]\n",
            " [-0.96130021 -0.88640526  0.7587054  -0.82293289 -0.86183865]\n",
            " [-0.94397949 -0.88640526 -1.07924373 -0.82293289  0.5745591 ]\n",
            " [-0.92665877 -0.88640526  0.83222337 -0.78476346  0.18634349]\n",
            " [-0.90933804 -0.88640526 -0.85868983 -0.78476346 -0.12422899]\n",
            " [-0.89201732 -0.88640526 -0.7116539  -0.78476346 -0.3183368 ]\n",
            " [-0.87469659 -0.88640526 -0.56461797 -0.78476346 -0.3183368 ]\n",
            " [-0.85737587 -0.88640526  0.7587054  -0.70842461  0.06987881]\n",
            " [-0.84005514  1.12815215 -0.41758204 -0.70842461  0.38045129]\n",
            " [-0.82273442 -0.88640526 -0.56461797 -0.67025518  0.14752193]\n",
            " [-0.80541369  1.12815215  1.49388505 -0.67025518  0.38045129]\n",
            " [-0.78809297 -0.88640526  0.83222337 -0.67025518 -0.20187212]\n",
            " [-0.77077224  1.12815215  0.61166947 -0.67025518 -0.35715836]\n",
            " [-0.75345152 -0.88640526  0.90574133 -0.63208575 -0.00776431]\n",
            " [-0.73613079  1.12815215  2.08202878 -0.63208575 -0.16305055]\n",
            " [-0.71881007 -0.88640526 -0.85868983 -0.55574689  0.03105725]\n",
            " [-0.70148935  1.12815215  1.05277726 -0.55574689 -0.16305055]\n",
            " [-0.68416862  1.12815215  2.15554674 -0.55574689  0.22516505]\n",
            " [-0.6668479   1.12815215 -1.44683356 -0.55574689  0.18634349]\n",
            " [-0.64952717 -0.88640526  1.93499284 -0.51757746  0.06987881]\n",
            " [-0.63220645 -0.88640526  1.12629523 -0.51757746  0.34162973]\n",
            " [-0.61488572  1.12815215  1.64092098 -0.47940803  0.03105725]\n",
            " [-0.597565    1.12815215 -1.52035152 -0.47940803  0.34162973]\n",
            " [-0.58024427 -0.88640526  0.31759761 -0.47940803 -0.00776431]\n",
            " [-0.56292355 -0.88640526  2.00851081 -0.47940803 -0.08540743]\n",
            " [-0.54560282  1.12815215 -1.44683356 -0.47940803  0.34162973]\n",
            " [-0.5282821  -0.88640526 -0.49110001 -0.47940803 -0.12422899]\n",
            " [-0.51096138  1.12815215  2.15554674 -0.4412386   0.18634349]\n",
            " [-0.49364065 -0.88640526  0.61166947 -0.4412386  -0.3183368 ]\n",
            " [-0.47631993 -0.88640526  1.56740302 -0.40306917 -0.04658587]\n",
            " [-0.4589992  -0.88640526  1.56740302 -0.40306917  0.22516505]\n",
            " [-0.44167848  1.12815215  1.49388505 -0.25039146 -0.12422899]\n",
            " [-0.42435775  1.12815215 -0.9322078  -0.25039146  0.14752193]\n",
            " [-0.40703703 -0.88640526  0.46463354 -0.25039146  0.10870037]\n",
            " [-0.3897163   1.12815215  0.09704371 -0.25039146 -0.08540743]\n",
            " [-0.37239558 -0.88640526 -1.15276169 -0.25039146  0.06987881]\n",
            " [-0.35507485 -0.88640526  0.7587054  -0.25039146 -0.3183368 ]\n",
            " [-0.33775413  1.12815215  1.34684912 -0.25039146  0.03105725]\n",
            " [-0.3204334   1.12815215 -0.04999222 -0.25039146  0.18634349]\n",
            " [-0.30311268  1.12815215  1.93499284 -0.25039146 -0.35715836]\n",
            " [-0.28579196 -0.88640526  0.53815151 -0.25039146 -0.24069368]\n",
            " [-0.26847123 -0.88640526 -1.29979763 -0.25039146  0.26398661]\n",
            " [-0.25115051  1.12815215  0.68518744 -0.25039146 -0.16305055]\n",
            " [-0.23382978 -0.88640526  1.19981319 -0.13588317  0.30280817]\n",
            " [-0.21650906 -0.88640526 -1.22627966 -0.13588317  0.18634349]\n",
            " [-0.19918833 -0.88640526 -0.34406408 -0.09771374  0.38045129]\n",
            " [-0.18186761 -0.88640526  0.83222337 -0.09771374 -0.16305055]\n",
            " [-0.16454688 -0.88640526  2.00851081 -0.05954431  0.18634349]\n",
            " [-0.14722616  1.12815215 -1.52035152 -0.05954431 -0.35715836]\n",
            " [-0.12990543  1.12815215  0.68518744 -0.02137488 -0.04658587]\n",
            " [-0.11258471 -0.88640526  0.09704371 -0.02137488 -0.39597992]\n",
            " [-0.09526399 -0.88640526 -0.49110001 -0.02137488 -0.3183368 ]\n",
            " [-0.07794326  1.12815215 -1.07924373 -0.02137488  0.06987881]\n",
            " [-0.06062254 -0.88640526  0.61166947 -0.02137488 -0.12422899]\n",
            " [-0.04330181 -0.88640526 -0.85868983 -0.02137488 -0.00776431]\n",
            " [-0.02598109  1.12815215  0.68518744  0.01679455 -0.3183368 ]\n",
            " [-0.00866036  1.12815215 -1.37331559  0.01679455 -0.04658587]\n",
            " [ 0.00866036 -0.88640526 -1.15276169  0.05496398 -0.35715836]\n",
            " [ 0.02598109 -0.88640526  0.7587054   0.05496398 -0.08540743]\n",
            " [ 0.04330181  1.12815215  1.93499284  0.05496398  0.34162973]\n",
            " [ 0.06062254  1.12815215 -0.9322078   0.05496398  0.18634349]\n",
            " [ 0.07794326  1.12815215  0.7587054   0.05496398  0.22516505]\n",
            " [ 0.09526399 -0.88640526 -1.29979763  0.05496398 -0.3183368 ]\n",
            " [ 0.11258471 -0.88640526  1.86147488  0.09313341 -0.00776431]\n",
            " [ 0.12990543  1.12815215  1.12629523  0.09313341 -0.16305055]\n",
            " [ 0.14722616  1.12815215  2.00851081  0.09313341 -0.27951524]\n",
            " [ 0.16454688  1.12815215  1.86147488  0.09313341 -0.08540743]\n",
            " [ 0.18186761  1.12815215  1.78795691  0.09313341  0.06987881]\n",
            " [ 0.19918833 -0.88640526 -1.44683356  0.09313341  0.14752193]\n",
            " [ 0.21650906 -0.88640526 -0.04999222  0.13130284 -0.3183368 ]\n",
            " [ 0.23382978  1.12815215 -1.44683356  0.13130284 -0.16305055]\n",
            " [ 0.25115051 -0.88640526 -1.52035152  0.16947227 -0.08540743]\n",
            " [ 0.26847123 -0.88640526 -1.44683356  0.16947227 -0.00776431]\n",
            " [ 0.28579196 -0.88640526  1.64092098  0.16947227 -0.27951524]\n",
            " [ 0.30311268 -0.88640526  0.7587054   0.16947227  0.34162973]\n",
            " [ 0.3204334  -0.88640526  0.90574133  0.24581112 -0.27951524]\n",
            " [ 0.33775413 -0.88640526  0.83222337  0.24581112  0.26398661]\n",
            " [ 0.35507485  1.12815215 -0.85868983  0.24581112  0.22516505]\n",
            " [ 0.37239558 -0.88640526 -0.04999222  0.24581112 -0.39597992]\n",
            " [ 0.3897163  -0.88640526  0.09704371  0.32214998  0.30280817]\n",
            " [ 0.40703703  1.12815215  0.02352575  0.32214998  1.58391968]\n",
            " [ 0.42435775 -0.88640526 -1.15276169  0.36031941 -0.82301709]\n",
            " [ 0.44167848 -0.88640526 -0.56461797  0.36031941  1.04041783]\n",
            " [ 0.4589992   1.12815215  0.31759761  0.39848884 -0.59008772]\n",
            " [ 0.47631993  1.12815215  0.09704371  0.39848884  1.73920592]\n",
            " [ 0.49364065  1.12815215  1.49388505  0.39848884 -1.52180518]\n",
            " [ 0.51096138  1.12815215 -0.04999222  0.39848884  0.96277471]\n",
            " [ 0.5282821   1.12815215  0.61166947  0.39848884 -1.5994483 ]\n",
            " [ 0.54560282  1.12815215  0.02352575  0.39848884  0.96277471]\n",
            " [ 0.56292355 -0.88640526 -1.00572576  0.43665827 -0.62890928]\n",
            " [ 0.58024427 -0.88640526 -0.56461797  0.43665827  0.80748846]\n",
            " [ 0.597565    1.12815215 -1.37331559  0.4748277  -1.75473454]\n",
            " [ 0.61488572 -0.88640526 -0.7116539   0.4748277   1.46745499]\n",
            " [ 0.63220645 -0.88640526  0.39111557  0.4748277  -1.67709142]\n",
            " [ 0.64952717  1.12815215 -0.49110001  0.4748277   0.88513158]\n",
            " [ 0.6668479   1.12815215 -1.44683356  0.51299713 -1.56062674]\n",
            " [ 0.68416862 -0.88640526 -0.27054611  0.51299713  0.84631002]\n",
            " [ 0.70148935 -0.88640526  1.34684912  0.55116656 -1.75473454]\n",
            " [ 0.71881007  1.12815215 -0.49110001  0.55116656  1.6615628 ]\n",
            " [ 0.73613079 -0.88640526 -0.78517187  0.58933599 -0.39597992]\n",
            " [ 0.75345152 -0.88640526 -0.49110001  0.58933599  1.42863343]\n",
            " [ 0.77077224  1.12815215 -1.00572576  0.62750542 -1.48298362]\n",
            " [ 0.78809297  1.12815215 -0.78517187  0.62750542  1.81684904]\n",
            " [ 0.80541369  1.12815215  0.68518744  0.62750542 -0.55126616]\n",
            " [ 0.82273442 -0.88640526 -0.49110001  0.62750542  0.92395314]\n",
            " [ 0.84005514 -0.88640526 -0.34406408  0.66567484 -1.09476801]\n",
            " [ 0.85737587  1.12815215 -0.34406408  0.66567484  1.54509812]\n",
            " [ 0.87469659  1.12815215  0.31759761  0.66567484 -1.28887582]\n",
            " [ 0.89201732  1.12815215  0.02352575  0.66567484  1.46745499]\n",
            " [ 0.90933804 -0.88640526  0.39111557  0.66567484 -1.17241113]\n",
            " [ 0.92665877 -0.88640526 -0.04999222  0.66567484  1.00159627]\n",
            " [ 0.94397949 -0.88640526  0.61166947  0.66567484 -1.32769738]\n",
            " [ 0.96130021 -0.88640526 -0.85868983  0.66567484  1.50627656]\n",
            " [ 0.97862094  1.12815215 -0.12351018  0.66567484 -1.91002079]\n",
            " [ 0.99594166 -0.88640526 -0.63813594  0.66567484  1.07923939]\n",
            " [ 1.01326239  1.12815215 -0.34406408  0.66567484 -1.91002079]\n",
            " [ 1.03058311 -0.88640526 -0.63813594  0.66567484  0.88513158]\n",
            " [ 1.04790384 -0.88640526  1.27333116  0.70384427 -0.59008772]\n",
            " [ 1.06522456 -0.88640526 -0.7116539   0.70384427  1.27334719]\n",
            " [ 1.08254529  1.12815215 -1.44683356  0.78018313 -1.75473454]\n",
            " [ 1.09986601 -0.88640526 -0.56461797  0.78018313  1.6615628 ]\n",
            " [ 1.11718674  1.12815215  0.83222337  0.93286085 -0.93948177]\n",
            " [ 1.13450746 -0.88640526 -0.19702815  0.93286085  0.96277471]\n",
            " [ 1.15182818  1.12815215  0.24407964  0.97103028 -1.17241113]\n",
            " [ 1.16914891 -0.88640526 -0.41758204  0.97103028  1.73920592]\n",
            " [ 1.18646963 -0.88640526 -0.19702815  1.00919971 -0.90066021]\n",
            " [ 1.20379036  1.12815215 -0.49110001  1.00919971  0.49691598]\n",
            " [ 1.22111108  1.12815215  0.09704371  1.00919971 -1.44416206]\n",
            " [ 1.23843181  1.12815215 -0.78517187  1.00919971  0.96277471]\n",
            " [ 1.25575253  1.12815215 -0.19702815  1.00919971 -1.56062674]\n",
            " [ 1.27307326  1.12815215 -0.19702815  1.00919971  1.62274124]\n",
            " [ 1.29039398 -0.88640526  0.9792593   1.04736914 -1.44416206]\n",
            " [ 1.30771471 -0.88640526 -0.63813594  1.04736914  1.38981187]\n",
            " [ 1.32503543  1.12815215  1.42036709  1.04736914 -1.36651894]\n",
            " [ 1.34235616  1.12815215 -0.85868983  1.04736914  0.72984534]\n",
            " [ 1.35967688  1.12815215  1.49388505  1.23821628 -1.4053405 ]\n",
            " [ 1.3769976   1.12815215 -0.27054611  1.23821628  1.54509812]\n",
            " [ 1.39431833 -0.88640526 -0.12351018  1.390894   -0.7065524 ]\n",
            " [ 1.41163905 -0.88640526 -0.49110001  1.390894    1.38981187]\n",
            " [ 1.42895978  1.12815215  0.53815151  1.42906343 -1.36651894]\n",
            " [ 1.4462805  -0.88640526 -0.7116539   1.42906343  1.46745499]\n",
            " [ 1.46360123 -0.88640526  0.17056168  1.46723286 -0.43480148]\n",
            " [ 1.48092195  1.12815215 -0.63813594  1.46723286  1.81684904]\n",
            " [ 1.49824268 -0.88640526  1.12629523  1.54357172 -1.01712489]\n",
            " [ 1.5155634   1.12815215 -0.78517187  1.54357172  0.69102378]\n",
            " [ 1.53288413 -0.88640526  0.17056168  1.61991057 -1.28887582]\n",
            " [ 1.55020485 -0.88640526 -0.19702815  1.61991057  1.35099031]\n",
            " [ 1.56752558 -0.88640526 -0.34406408  1.61991057 -1.05594645]\n",
            " [ 1.5848463  -0.88640526 -0.49110001  1.61991057  0.72984534]\n",
            " [ 1.60216702  1.12815215 -0.41758204  2.00160487 -1.63826986]\n",
            " [ 1.61948775 -0.88640526 -0.04999222  2.00160487  1.58391968]\n",
            " [ 1.63680847 -0.88640526  0.61166947  2.26879087 -1.32769738]\n",
            " [ 1.6541292  -0.88640526 -0.27054611  2.26879087  1.11806095]\n",
            " [ 1.67144992 -0.88640526  0.46463354  2.49780745 -0.86183865]\n",
            " [ 1.68877065  1.12815215 -0.49110001  2.49780745  0.92395314]\n",
            " [ 1.70609137  1.12815215 -0.49110001  2.91767117 -1.25005425]\n",
            " [ 1.7234121   1.12815215 -0.63813594  2.91767117  1.27334719]]\n"
          ]
        }
      ]
    },
    {
      "cell_type": "markdown",
      "source": [
        "***10. Add the cluster data with the primary dataset***"
      ],
      "metadata": {
        "id": "Rrlf3REnFZjl"
      }
    },
    {
      "cell_type": "markdown",
      "source": [
        "***9.Clustering Algorithm***"
      ],
      "metadata": {
        "id": "60AoPKrkDPr7"
      }
    },
    {
      "cell_type": "markdown",
      "source": [
        "***9.1 K means Clustering***"
      ],
      "metadata": {
        "id": "nyBQxE7yDnLW"
      }
    },
    {
      "cell_type": "code",
      "source": [
        "from sklearn.cluster import KMeans\n",
        "\n",
        "wcss = []\n",
        "for i in range(1, 11):\n",
        "  km = KMeans(n_clusters = i, init = 'k-means++', max_iter = 300, n_init = 10, random_state = 0)\n",
        "  km.fit(x)\n",
        "  wcss.append(km.inertia_)\n",
        "  \n",
        "plt.plot(range(1, 11), wcss)\n",
        "plt.title('The Elbow Method')\n",
        "plt.xlabel('No. of Clusters')\n",
        "plt.ylabel('wcss')\n",
        "plt.show()"
      ],
      "metadata": {
        "colab": {
          "base_uri": "https://localhost:8080/",
          "height": 295
        },
        "id": "GfcdQqa0DtE6",
        "outputId": "c5b62e92-81c1-4f1a-9967-e30d139c2d18"
      },
      "execution_count": 33,
      "outputs": [
        {
          "output_type": "display_data",
          "data": {
            "text/plain": [
              "<Figure size 432x288 with 1 Axes>"
            ],
            "image/png": "[encoded data removed]"
          },
          "metadata": {
            "needs_background": "light"
          }
        }
      ]
    },
    {
      "cell_type": "code",
      "source": [
        "from sklearn.cluster import KMeans\n",
        "\n",
        "wcss = []\n",
        "for i in range(1, 11):\n",
        "  kmeans = KMeans(n_clusters = i, init = 'k-means++', max_iter = 300, n_init = 10, random_state = 0)\n",
        "  kmeans.fit(x)\n",
        "  wcss.append(kmeans.inertia_)\n",
        "\n",
        "plt.rcParams['figure.figsize'] = (7, 5)\n",
        "plt.plot(range(1, 11), wcss)\n",
        "plt.title('K-Means Clustering(The Elbow Method)', fontsize = 20)\n",
        "plt.xlabel('Age')\n",
        "plt.ylabel('Count')\n",
        "plt.show()"
      ],
      "metadata": {
        "colab": {
          "base_uri": "https://localhost:8080/",
          "height": 355
        },
        "id": "ssZzrMlmEKPB",
        "outputId": "384451a8-1ff3-4deb-d25b-bdc3822f536b"
      },
      "execution_count": 36,
      "outputs": [
        {
          "output_type": "display_data",
          "data": {
            "text/plain": [
              "<Figure size 504x360 with 1 Axes>"
            ],
            "image/png": "[encoded data removed]"
          },
          "metadata": {
            "needs_background": "light"
          }
        }
      ]
    },
    {
      "cell_type": "code",
      "source": [
        "kmeans = KMeans(n_clusters = 4, init = 'k-means++', max_iter = 300, n_init = 10, random_state = 0)\n",
        "ymeans = kmeans.fit_predict(x)\n",
        "\n",
        "plt.rcParams['figure.figsize'] = (10, 10)\n",
        "plt.title('Cluster of Ages', fontsize = 30)\n",
        "\n",
        "plt.scatter(x[ymeans == 0, 0], x[ymeans == 0, 1], s = 100, c = 'orange', label = 'Usual Customers' )\n",
        "plt.scatter(x[ymeans == 1, 0], x[ymeans == 1, 1], s = 100, c = 'yellow', label = 'Priority Customers')\n",
        "plt.scatter(x[ymeans == 2, 0], x[ymeans == 2, 1], s = 100, c = 'pink', label = 'Target Customers(Young)')\n",
        "plt.scatter(x[ymeans == 3, 0], x[ymeans == 3, 1], s = 100, c = 'red', label = 'Target Customers(Old)')\n",
        "plt.scatter(kmeans.cluster_centers_[:, 0], kmeans.cluster_centers_[:, 1], s = 50, c = 'blue')\n",
        "\n",
        "plt.xlabel('Age')\n",
        "plt.ylabel('Spending Score (1-100)')\n",
        "plt.legend()\n",
        "plt.show()"
      ],
      "metadata": {
        "colab": {
          "base_uri": "https://localhost:8080/",
          "height": 634
        },
        "id": "mbJk8BWWEb9G",
        "outputId": "c88ea8af-7181-4520-a251-2810057348ef"
      },
      "execution_count": 37,
      "outputs": [
        {
          "output_type": "display_data",
          "data": {
            "text/plain": [
              "<Figure size 720x720 with 1 Axes>"
            ],
            "image/png": "[encoded data removed]"
          },
          "metadata": {
            "needs_background": "light"
          }
        }
      ]
    },
    {
      "cell_type": "code",
      "source": [
        "x = data.iloc[:, [1, 4]].values\n",
        "x.shape"
      ],
      "metadata": {
        "colab": {
          "base_uri": "https://localhost:8080/"
        },
        "id": "l8VhSXxHEiJM",
        "outputId": "b7db8cdd-0ff0-4762-8bde-f7ce872cbc1b"
      },
      "execution_count": 39,
      "outputs": [
        {
          "output_type": "execute_result",
          "data": {
            "text/plain": [
              "(200, 2)"
            ]
          },
          "metadata": {},
          "execution_count": 39
        }
      ]
    },
    {
      "cell_type": "code",
      "source": [
        "from sklearn.cluster import KMeans\n",
        "\n",
        "wcss = []\n",
        "for i in range(1, 11):\n",
        "  kmeans = KMeans(n_clusters = i, init = 'k-means++', max_iter = 300, n_init = 10, random_state = 0)\n",
        "  kmeans.fit(x)\n",
        "  wcss.append(kmeans.inertia_)\n",
        "  \n",
        "plt.rcParams['figure.figsize'] = (7, 7)\n",
        "plt.title('The Elbow Method', fontsize = 20)\n",
        "plt.plot(range(1, 11), wcss)\n",
        "plt.xlabel('No. of Clusters', fontsize = 10)\n",
        "plt.ylabel('wcss')\n",
        "plt.show()"
      ],
      "metadata": {
        "colab": {
          "base_uri": "https://localhost:8080/",
          "height": 463
        },
        "id": "WepY8AtQE9Y8",
        "outputId": "e0ac95c3-7041-45fa-c0fc-2af1d5a2b211"
      },
      "execution_count": 40,
      "outputs": [
        {
          "output_type": "display_data",
          "data": {
            "text/plain": [
              "<Figure size 504x504 with 1 Axes>"
            ],
            "image/png": "[encoded data removed]"
          },
          "metadata": {
            "needs_background": "light"
          }
        }
      ]
    },
    {
      "cell_type": "code",
      "source": [
        "kmeans = KMeans(n_clusters = 3, max_iter = 300, n_init = 10, random_state = 0)\n",
        "ymeans = kmeans.fit_predict(x)\n",
        "\n",
        "plt.rcParams['figure.figsize'] = (10, 10)\n",
        "plt.scatter(x[ymeans == 0, 0], x[ymeans == 0, 1], s = 80, c = 'pink', label = 'low spending score')\n",
        "plt.scatter(x[ymeans == 1, 0], x[ymeans == 1, 1], s = 80, c = 'orange', label = 'medium spending score')\n",
        "plt.scatter(x[ymeans == 2, 0], x[ymeans == 2, 1], s = 80, c = 'lightgreen', label = 'high spending score')\n",
        "plt.scatter(kmeans.cluster_centers_[:,0], kmeans.cluster_centers_[:, 1], s = 50, color = 'blue')\n",
        "plt.legend()\n",
        "plt.show()"
      ],
      "metadata": {
        "colab": {
          "base_uri": "https://localhost:8080/",
          "height": 592
        },
        "id": "ev8G6VvoFFVV",
        "outputId": "cdb2e64a-748f-4541-d80a-f5c5d1977036"
      },
      "execution_count": 41,
      "outputs": [
        {
          "output_type": "display_data",
          "data": {
            "text/plain": [
              "<Figure size 720x720 with 1 Axes>"
            ],
            "image/png": "[encoded data removed]"
          },
          "metadata": {
            "needs_background": "light"
          }
        }
      ]
    },
    {
      "cell_type": "markdown",
      "source": [
        "***11.Split the data into dependent and independent variables.***"
      ],
      "metadata": {
        "id": "7oVmmugkFiSm"
      }
    },
    {
      "cell_type": "code",
      "source": [
        "x = data.iloc[:, [3, 4]].values\n",
        "x.shape\n",
        "print(X)"
      ],
      "metadata": {
        "colab": {
          "base_uri": "https://localhost:8080/"
        },
        "id": "RykOGdAuFh4Q",
        "outputId": "7f5dbeff-69ca-43fa-cfff-5c8a78ad08d7"
      },
      "execution_count": 45,
      "outputs": [
        {
          "output_type": "stream",
          "name": "stdout",
          "text": [
            "[[0.         0.3877551 ]\n",
            " [0.         0.81632653]\n",
            " [0.00819672 0.05102041]\n",
            " [0.00819672 0.7755102 ]\n",
            " [0.01639344 0.39795918]\n",
            " [0.01639344 0.76530612]\n",
            " [0.02459016 0.05102041]\n",
            " [0.02459016 0.94897959]\n",
            " [0.03278689 0.02040816]\n",
            " [0.03278689 0.7244898 ]\n",
            " [0.03278689 0.13265306]\n",
            " [0.03278689 1.        ]\n",
            " [0.04098361 0.14285714]\n",
            " [0.04098361 0.7755102 ]\n",
            " [0.04098361 0.12244898]\n",
            " [0.04098361 0.79591837]\n",
            " [0.04918033 0.34693878]\n",
            " [0.04918033 0.66326531]\n",
            " [0.06557377 0.28571429]\n",
            " [0.06557377 0.98979592]\n",
            " [0.07377049 0.34693878]\n",
            " [0.07377049 0.73469388]\n",
            " [0.08196721 0.04081633]\n",
            " [0.08196721 0.73469388]\n",
            " [0.10655738 0.13265306]\n",
            " [0.10655738 0.82653061]\n",
            " [0.10655738 0.31632653]\n",
            " [0.10655738 0.6122449 ]\n",
            " [0.1147541  0.30612245]\n",
            " [0.1147541  0.87755102]\n",
            " [0.12295082 0.03061224]\n",
            " [0.12295082 0.73469388]\n",
            " [0.14754098 0.03061224]\n",
            " [0.14754098 0.92857143]\n",
            " [0.14754098 0.13265306]\n",
            " [0.14754098 0.81632653]\n",
            " [0.1557377  0.16326531]\n",
            " [0.1557377  0.73469388]\n",
            " [0.18032787 0.25510204]\n",
            " [0.18032787 0.75510204]\n",
            " [0.18852459 0.34693878]\n",
            " [0.18852459 0.92857143]\n",
            " [0.19672131 0.35714286]\n",
            " [0.19672131 0.6122449 ]\n",
            " [0.19672131 0.2755102 ]\n",
            " [0.19672131 0.65306122]\n",
            " [0.20491803 0.55102041]\n",
            " [0.20491803 0.46938776]\n",
            " [0.20491803 0.41836735]\n",
            " [0.20491803 0.41836735]\n",
            " [0.22131148 0.52040816]\n",
            " [0.22131148 0.60204082]\n",
            " [0.2295082  0.54081633]\n",
            " [0.2295082  0.60204082]\n",
            " [0.2295082  0.44897959]\n",
            " [0.2295082  0.40816327]\n",
            " [0.23770492 0.5       ]\n",
            " [0.23770492 0.45918367]\n",
            " [0.25409836 0.51020408]\n",
            " [0.25409836 0.45918367]\n",
            " [0.25409836 0.56122449]\n",
            " [0.25409836 0.55102041]\n",
            " [0.26229508 0.52040816]\n",
            " [0.26229508 0.59183673]\n",
            " [0.2704918  0.51020408]\n",
            " [0.2704918  0.59183673]\n",
            " [0.2704918  0.5       ]\n",
            " [0.2704918  0.47959184]\n",
            " [0.2704918  0.59183673]\n",
            " [0.2704918  0.46938776]\n",
            " [0.27868852 0.55102041]\n",
            " [0.27868852 0.41836735]\n",
            " [0.28688525 0.48979592]\n",
            " [0.28688525 0.56122449]\n",
            " [0.31967213 0.46938776]\n",
            " [0.31967213 0.54081633]\n",
            " [0.31967213 0.53061224]\n",
            " [0.31967213 0.47959184]\n",
            " [0.31967213 0.52040816]\n",
            " [0.31967213 0.41836735]\n",
            " [0.31967213 0.51020408]\n",
            " [0.31967213 0.55102041]\n",
            " [0.31967213 0.40816327]\n",
            " [0.31967213 0.43877551]\n",
            " [0.31967213 0.57142857]\n",
            " [0.31967213 0.45918367]\n",
            " [0.3442623  0.58163265]\n",
            " [0.3442623  0.55102041]\n",
            " [0.35245902 0.60204082]\n",
            " [0.35245902 0.45918367]\n",
            " [0.36065574 0.55102041]\n",
            " [0.36065574 0.40816327]\n",
            " [0.36885246 0.48979592]\n",
            " [0.36885246 0.39795918]\n",
            " [0.36885246 0.41836735]\n",
            " [0.36885246 0.52040816]\n",
            " [0.36885246 0.46938776]\n",
            " [0.36885246 0.5       ]\n",
            " [0.37704918 0.41836735]\n",
            " [0.37704918 0.48979592]\n",
            " [0.3852459  0.40816327]\n",
            " [0.3852459  0.47959184]\n",
            " [0.3852459  0.59183673]\n",
            " [0.3852459  0.55102041]\n",
            " [0.3852459  0.56122449]\n",
            " [0.3852459  0.41836735]\n",
            " [0.39344262 0.5       ]\n",
            " [0.39344262 0.45918367]\n",
            " [0.39344262 0.42857143]\n",
            " [0.39344262 0.47959184]\n",
            " [0.39344262 0.52040816]\n",
            " [0.39344262 0.54081633]\n",
            " [0.40163934 0.41836735]\n",
            " [0.40163934 0.45918367]\n",
            " [0.40983607 0.47959184]\n",
            " [0.40983607 0.5       ]\n",
            " [0.40983607 0.42857143]\n",
            " [0.40983607 0.59183673]\n",
            " [0.42622951 0.42857143]\n",
            " [0.42622951 0.57142857]\n",
            " [0.42622951 0.56122449]\n",
            " [0.42622951 0.39795918]\n",
            " [0.44262295 0.58163265]\n",
            " [0.44262295 0.91836735]\n",
            " [0.45081967 0.28571429]\n",
            " [0.45081967 0.7755102 ]\n",
            " [0.45901639 0.34693878]\n",
            " [0.45901639 0.95918367]\n",
            " [0.45901639 0.10204082]\n",
            " [0.45901639 0.75510204]\n",
            " [0.45901639 0.08163265]\n",
            " [0.45901639 0.75510204]\n",
            " [0.46721311 0.33673469]\n",
            " [0.46721311 0.71428571]\n",
            " [0.47540984 0.04081633]\n",
            " [0.47540984 0.8877551 ]\n",
            " [0.47540984 0.06122449]\n",
            " [0.47540984 0.73469388]\n",
            " [0.48360656 0.09183673]\n",
            " [0.48360656 0.7244898 ]\n",
            " [0.49180328 0.04081633]\n",
            " [0.49180328 0.93877551]\n",
            " [0.5        0.39795918]\n",
            " [0.5        0.87755102]\n",
            " [0.50819672 0.1122449 ]\n",
            " [0.50819672 0.97959184]\n",
            " [0.50819672 0.35714286]\n",
            " [0.50819672 0.74489796]\n",
            " [0.51639344 0.21428571]\n",
            " [0.51639344 0.90816327]\n",
            " [0.51639344 0.16326531]\n",
            " [0.51639344 0.8877551 ]\n",
            " [0.51639344 0.19387755]\n",
            " [0.51639344 0.76530612]\n",
            " [0.51639344 0.15306122]\n",
            " [0.51639344 0.89795918]\n",
            " [0.51639344 0.        ]\n",
            " [0.51639344 0.78571429]\n",
            " [0.51639344 0.        ]\n",
            " [0.51639344 0.73469388]\n",
            " [0.52459016 0.34693878]\n",
            " [0.52459016 0.83673469]\n",
            " [0.54098361 0.04081633]\n",
            " [0.54098361 0.93877551]\n",
            " [0.57377049 0.25510204]\n",
            " [0.57377049 0.75510204]\n",
            " [0.58196721 0.19387755]\n",
            " [0.58196721 0.95918367]\n",
            " [0.59016393 0.26530612]\n",
            " [0.59016393 0.63265306]\n",
            " [0.59016393 0.12244898]\n",
            " [0.59016393 0.75510204]\n",
            " [0.59016393 0.09183673]\n",
            " [0.59016393 0.92857143]\n",
            " [0.59836066 0.12244898]\n",
            " [0.59836066 0.86734694]\n",
            " [0.59836066 0.14285714]\n",
            " [0.59836066 0.69387755]\n",
            " [0.63934426 0.13265306]\n",
            " [0.63934426 0.90816327]\n",
            " [0.67213115 0.31632653]\n",
            " [0.67213115 0.86734694]\n",
            " [0.68032787 0.14285714]\n",
            " [0.68032787 0.8877551 ]\n",
            " [0.68852459 0.3877551 ]\n",
            " [0.68852459 0.97959184]\n",
            " [0.70491803 0.23469388]\n",
            " [0.70491803 0.68367347]\n",
            " [0.72131148 0.16326531]\n",
            " [0.72131148 0.85714286]\n",
            " [0.72131148 0.2244898 ]\n",
            " [0.72131148 0.69387755]\n",
            " [0.80327869 0.07142857]\n",
            " [0.80327869 0.91836735]\n",
            " [0.86065574 0.15306122]\n",
            " [0.86065574 0.79591837]\n",
            " [0.90983607 0.2755102 ]\n",
            " [0.90983607 0.74489796]\n",
            " [1.         0.17346939]\n",
            " [1.         0.83673469]]\n"
          ]
        }
      ]
    },
    {
      "cell_type": "code",
      "source": [
        "y=data.iloc[:,-2].values\n",
        "print(y)"
      ],
      "metadata": {
        "colab": {
          "base_uri": "https://localhost:8080/"
        },
        "id": "Tgsl0dXIGbS8",
        "outputId": "66b0bf60-d723-4a49-b758-e87be21ab0fc"
      },
      "execution_count": 44,
      "outputs": [
        {
          "output_type": "stream",
          "name": "stdout",
          "text": [
            "[0.         0.         0.00819672 0.00819672 0.01639344 0.01639344\n",
            " 0.02459016 0.02459016 0.03278689 0.03278689 0.03278689 0.03278689\n",
            " 0.04098361 0.04098361 0.04098361 0.04098361 0.04918033 0.04918033\n",
            " 0.06557377 0.06557377 0.07377049 0.07377049 0.08196721 0.08196721\n",
            " 0.10655738 0.10655738 0.10655738 0.10655738 0.1147541  0.1147541\n",
            " 0.12295082 0.12295082 0.14754098 0.14754098 0.14754098 0.14754098\n",
            " 0.1557377  0.1557377  0.18032787 0.18032787 0.18852459 0.18852459\n",
            " 0.19672131 0.19672131 0.19672131 0.19672131 0.20491803 0.20491803\n",
            " 0.20491803 0.20491803 0.22131148 0.22131148 0.2295082  0.2295082\n",
            " 0.2295082  0.2295082  0.23770492 0.23770492 0.25409836 0.25409836\n",
            " 0.25409836 0.25409836 0.26229508 0.26229508 0.2704918  0.2704918\n",
            " 0.2704918  0.2704918  0.2704918  0.2704918  0.27868852 0.27868852\n",
            " 0.28688525 0.28688525 0.31967213 0.31967213 0.31967213 0.31967213\n",
            " 0.31967213 0.31967213 0.31967213 0.31967213 0.31967213 0.31967213\n",
            " 0.31967213 0.31967213 0.3442623  0.3442623  0.35245902 0.35245902\n",
            " 0.36065574 0.36065574 0.36885246 0.36885246 0.36885246 0.36885246\n",
            " 0.36885246 0.36885246 0.37704918 0.37704918 0.3852459  0.3852459\n",
            " 0.3852459  0.3852459  0.3852459  0.3852459  0.39344262 0.39344262\n",
            " 0.39344262 0.39344262 0.39344262 0.39344262 0.40163934 0.40163934\n",
            " 0.40983607 0.40983607 0.40983607 0.40983607 0.42622951 0.42622951\n",
            " 0.42622951 0.42622951 0.44262295 0.44262295 0.45081967 0.45081967\n",
            " 0.45901639 0.45901639 0.45901639 0.45901639 0.45901639 0.45901639\n",
            " 0.46721311 0.46721311 0.47540984 0.47540984 0.47540984 0.47540984\n",
            " 0.48360656 0.48360656 0.49180328 0.49180328 0.5        0.5\n",
            " 0.50819672 0.50819672 0.50819672 0.50819672 0.51639344 0.51639344\n",
            " 0.51639344 0.51639344 0.51639344 0.51639344 0.51639344 0.51639344\n",
            " 0.51639344 0.51639344 0.51639344 0.51639344 0.52459016 0.52459016\n",
            " 0.54098361 0.54098361 0.57377049 0.57377049 0.58196721 0.58196721\n",
            " 0.59016393 0.59016393 0.59016393 0.59016393 0.59016393 0.59016393\n",
            " 0.59836066 0.59836066 0.59836066 0.59836066 0.63934426 0.63934426\n",
            " 0.67213115 0.67213115 0.68032787 0.68032787 0.68852459 0.68852459\n",
            " 0.70491803 0.70491803 0.72131148 0.72131148 0.72131148 0.72131148\n",
            " 0.80327869 0.80327869 0.86065574 0.86065574 0.90983607 0.90983607\n",
            " 1.         1.        ]\n"
          ]
        }
      ]
    },
    {
      "cell_type": "markdown",
      "source": [
        "***12.Split the data into training and testing***"
      ],
      "metadata": {
        "id": "Ua-ZgHcgGlKA"
      }
    },
    {
      "cell_type": "code",
      "source": [
        "from sklearn.model_selection import train_test_split\n",
        "\n",
        "X_train, X_test, y_train, y_test = train_test_split(X, y, test_size = 0.2, random_state = 0)\n",
        "\n",
        "# getting the shapes\n",
        "print(\"Shape of x_train :\", X_train.shape)\n",
        "print(\"Shape of x_test :\", X_test.shape)\n",
        "print(\"Shape of y_train :\", y_train.shape)\n",
        "print(\"Shape of y_test :\", y_test.shape)"
      ],
      "metadata": {
        "colab": {
          "base_uri": "https://localhost:8080/"
        },
        "id": "snOJNiUcGms8",
        "outputId": "2e2d068c-5ad7-4398-8879-ffdbaa32a57a"
      },
      "execution_count": 46,
      "outputs": [
        {
          "output_type": "stream",
          "name": "stdout",
          "text": [
            "Shape of x_train : (160, 2)\n",
            "Shape of x_test : (40, 2)\n",
            "Shape of y_train : (160,)\n",
            "Shape of y_test : (40,)\n"
          ]
        }
      ]
    },
    {
      "cell_type": "markdown",
      "source": [
        "***13.Build the model***"
      ],
      "metadata": {
        "id": "n1oY_VUgGrr5"
      }
    },
    {
      "cell_type": "code",
      "source": [
        "test_size=0.33\n",
        "seed=7\n",
        "X_train,X_test,y_train,y_test=train_test_split(X,y,test_size=test_size,random_state=seed)"
      ],
      "metadata": {
        "id": "Ln0zR27XGyU6"
      },
      "execution_count": 47,
      "outputs": []
    },
    {
      "cell_type": "markdown",
      "source": [
        "***14.Train the model***"
      ],
      "metadata": {
        "id": "cUSOopB6G8Fr"
      }
    },
    {
      "cell_type": "code",
      "source": [
        "print(X_train)"
      ],
      "metadata": {
        "colab": {
          "base_uri": "https://localhost:8080/"
        },
        "id": "dk-CvOKsG_nF",
        "outputId": "b8e77d97-4c8f-4d60-de87-aac53c0c7649"
      },
      "execution_count": 48,
      "outputs": [
        {
          "output_type": "stream",
          "name": "stdout",
          "text": [
            "[[0.68032787 0.14285714]\n",
            " [0.22131148 0.60204082]\n",
            " [0.68852459 0.3877551 ]\n",
            " [0.49180328 0.04081633]\n",
            " [0.31967213 0.40816327]\n",
            " [0.40983607 0.5       ]\n",
            " [0.36885246 0.52040816]\n",
            " [0.1557377  0.73469388]\n",
            " [0.46721311 0.33673469]\n",
            " [0.3852459  0.59183673]\n",
            " [0.37704918 0.41836735]\n",
            " [0.20491803 0.41836735]\n",
            " [0.01639344 0.76530612]\n",
            " [0.04918033 0.66326531]\n",
            " [0.51639344 0.        ]\n",
            " [0.59016393 0.26530612]\n",
            " [1.         0.83673469]\n",
            " [0.86065574 0.15306122]\n",
            " [0.26229508 0.52040816]\n",
            " [0.2704918  0.51020408]\n",
            " [0.10655738 0.31632653]\n",
            " [0.51639344 0.21428571]\n",
            " [0.18852459 0.92857143]\n",
            " [0.2295082  0.54081633]\n",
            " [0.63934426 0.90816327]\n",
            " [0.31967213 0.55102041]\n",
            " [0.02459016 0.94897959]\n",
            " [0.36065574 0.40816327]\n",
            " [0.59016393 0.92857143]\n",
            " [0.51639344 0.16326531]\n",
            " [0.27868852 0.55102041]\n",
            " [0.58196721 0.19387755]\n",
            " [0.39344262 0.54081633]\n",
            " [0.03278689 0.02040816]\n",
            " [0.3852459  0.56122449]\n",
            " [0.31967213 0.41836735]\n",
            " [0.45081967 0.7755102 ]\n",
            " [0.57377049 0.25510204]\n",
            " [0.1147541  0.87755102]\n",
            " [0.00819672 0.7755102 ]\n",
            " [0.18032787 0.75510204]\n",
            " [0.22131148 0.52040816]\n",
            " [0.31967213 0.47959184]\n",
            " [0.54098361 0.93877551]\n",
            " [0.40983607 0.47959184]\n",
            " [0.2295082  0.44897959]\n",
            " [0.36065574 0.55102041]\n",
            " [0.54098361 0.04081633]\n",
            " [0.19672131 0.6122449 ]\n",
            " [0.51639344 0.73469388]\n",
            " [0.20491803 0.41836735]\n",
            " [0.59016393 0.12244898]\n",
            " [0.25409836 0.45918367]\n",
            " [0.04098361 0.79591837]\n",
            " [0.2295082  0.60204082]\n",
            " [0.07377049 0.34693878]\n",
            " [0.04098361 0.12244898]\n",
            " [0.70491803 0.68367347]\n",
            " [0.46721311 0.71428571]\n",
            " [0.31967213 0.53061224]\n",
            " [0.03278689 0.7244898 ]\n",
            " [0.3852459  0.41836735]\n",
            " [0.39344262 0.45918367]\n",
            " [0.51639344 0.78571429]\n",
            " [0.04098361 0.14285714]\n",
            " [0.04918033 0.34693878]\n",
            " [0.20491803 0.46938776]\n",
            " [0.50819672 0.74489796]\n",
            " [0.42622951 0.57142857]\n",
            " [0.07377049 0.73469388]\n",
            " [0.52459016 0.83673469]\n",
            " [0.45901639 0.08163265]\n",
            " [0.67213115 0.86734694]\n",
            " [0.28688525 0.56122449]\n",
            " [0.12295082 0.03061224]\n",
            " [0.50819672 0.35714286]\n",
            " [0.14754098 0.92857143]\n",
            " [0.50819672 0.97959184]\n",
            " [0.57377049 0.75510204]\n",
            " [0.59836066 0.12244898]\n",
            " [0.44262295 0.91836735]\n",
            " [1.         0.17346939]\n",
            " [0.3852459  0.40816327]\n",
            " [0.51639344 0.        ]\n",
            " [0.67213115 0.31632653]\n",
            " [0.25409836 0.55102041]\n",
            " [0.14754098 0.81632653]\n",
            " [0.03278689 0.13265306]\n",
            " [0.72131148 0.2244898 ]\n",
            " [0.27868852 0.41836735]\n",
            " [0.80327869 0.91836735]\n",
            " [0.36885246 0.39795918]\n",
            " [0.42622951 0.42857143]\n",
            " [0.50819672 0.1122449 ]\n",
            " [0.         0.81632653]\n",
            " [0.31967213 0.43877551]\n",
            " [0.72131148 0.85714286]\n",
            " [0.3442623  0.55102041]\n",
            " [0.47540984 0.73469388]\n",
            " [0.01639344 0.39795918]\n",
            " [0.18032787 0.25510204]\n",
            " [0.59016393 0.75510204]\n",
            " [0.14754098 0.13265306]\n",
            " [0.40163934 0.41836735]\n",
            " [0.51639344 0.19387755]\n",
            " [0.23770492 0.5       ]\n",
            " [0.2704918  0.46938776]\n",
            " [0.19672131 0.2755102 ]\n",
            " [0.06557377 0.98979592]\n",
            " [0.02459016 0.05102041]\n",
            " [0.2295082  0.40816327]\n",
            " [0.31967213 0.54081633]\n",
            " [0.         0.3877551 ]\n",
            " [0.59016393 0.09183673]\n",
            " [0.47540984 0.8877551 ]\n",
            " [0.45901639 0.95918367]\n",
            " [0.59836066 0.14285714]\n",
            " [0.2704918  0.59183673]\n",
            " [0.58196721 0.95918367]\n",
            " [0.47540984 0.06122449]\n",
            " [0.19672131 0.35714286]\n",
            " [0.39344262 0.52040816]\n",
            " [0.35245902 0.45918367]\n",
            " [0.28688525 0.48979592]\n",
            " [0.08196721 0.73469388]\n",
            " [0.5        0.39795918]\n",
            " [0.68852459 0.97959184]\n",
            " [0.36885246 0.48979592]\n",
            " [0.3852459  0.55102041]\n",
            " [0.51639344 0.8877551 ]\n",
            " [0.2704918  0.47959184]\n",
            " [0.10655738 0.82653061]\n",
            " [0.90983607 0.2755102 ]\n",
            " [0.59836066 0.86734694]]\n"
          ]
        }
      ]
    },
    {
      "cell_type": "code",
      "source": [
        "print(y_train)"
      ],
      "metadata": {
        "colab": {
          "base_uri": "https://localhost:8080/"
        },
        "id": "rAn_Zc4jHGk9",
        "outputId": "887c9b9d-58c5-4000-f446-44502a885083"
      },
      "execution_count": 49,
      "outputs": [
        {
          "output_type": "stream",
          "name": "stdout",
          "text": [
            "[0.68032787 0.22131148 0.68852459 0.49180328 0.31967213 0.40983607\n",
            " 0.36885246 0.1557377  0.46721311 0.3852459  0.37704918 0.20491803\n",
            " 0.01639344 0.04918033 0.51639344 0.59016393 1.         0.86065574\n",
            " 0.26229508 0.2704918  0.10655738 0.51639344 0.18852459 0.2295082\n",
            " 0.63934426 0.31967213 0.02459016 0.36065574 0.59016393 0.51639344\n",
            " 0.27868852 0.58196721 0.39344262 0.03278689 0.3852459  0.31967213\n",
            " 0.45081967 0.57377049 0.1147541  0.00819672 0.18032787 0.22131148\n",
            " 0.31967213 0.54098361 0.40983607 0.2295082  0.36065574 0.54098361\n",
            " 0.19672131 0.51639344 0.20491803 0.59016393 0.25409836 0.04098361\n",
            " 0.2295082  0.07377049 0.04098361 0.70491803 0.46721311 0.31967213\n",
            " 0.03278689 0.3852459  0.39344262 0.51639344 0.04098361 0.04918033\n",
            " 0.20491803 0.50819672 0.42622951 0.07377049 0.52459016 0.45901639\n",
            " 0.67213115 0.28688525 0.12295082 0.50819672 0.14754098 0.50819672\n",
            " 0.57377049 0.59836066 0.44262295 1.         0.3852459  0.51639344\n",
            " 0.67213115 0.25409836 0.14754098 0.03278689 0.72131148 0.27868852\n",
            " 0.80327869 0.36885246 0.42622951 0.50819672 0.         0.31967213\n",
            " 0.72131148 0.3442623  0.47540984 0.01639344 0.18032787 0.59016393\n",
            " 0.14754098 0.40163934 0.51639344 0.23770492 0.2704918  0.19672131\n",
            " 0.06557377 0.02459016 0.2295082  0.31967213 0.         0.59016393\n",
            " 0.47540984 0.45901639 0.59836066 0.2704918  0.58196721 0.47540984\n",
            " 0.19672131 0.39344262 0.35245902 0.28688525 0.08196721 0.5\n",
            " 0.68852459 0.36885246 0.3852459  0.51639344 0.2704918  0.10655738\n",
            " 0.90983607 0.59836066]\n"
          ]
        }
      ]
    },
    {
      "cell_type": "markdown",
      "source": [
        "***15.Test the Model***"
      ],
      "metadata": {
        "id": "pR8wgLfuHLxI"
      }
    },
    {
      "cell_type": "code",
      "source": [
        "print(X_test)"
      ],
      "metadata": {
        "colab": {
          "base_uri": "https://localhost:8080/"
        },
        "id": "JPqpIrigHQIF",
        "outputId": "1e55850c-3f61-454c-9267-350cef349d36"
      },
      "execution_count": 54,
      "outputs": [
        {
          "output_type": "stream",
          "name": "stdout",
          "text": [
            "[[0.3442623  0.58163265]\n",
            " [0.42622951 0.56122449]\n",
            " [0.08196721 0.04081633]\n",
            " [0.03278689 1.        ]\n",
            " [0.86065574 0.79591837]\n",
            " [0.00819672 0.05102041]\n",
            " [0.42622951 0.39795918]\n",
            " [0.36885246 0.41836735]\n",
            " [0.2704918  0.5       ]\n",
            " [0.26229508 0.59183673]\n",
            " [0.39344262 0.42857143]\n",
            " [0.36885246 0.46938776]\n",
            " [0.48360656 0.09183673]\n",
            " [0.2704918  0.59183673]\n",
            " [0.72131148 0.16326531]\n",
            " [0.51639344 0.89795918]\n",
            " [0.10655738 0.13265306]\n",
            " [0.37704918 0.48979592]\n",
            " [0.51639344 0.76530612]\n",
            " [0.20491803 0.55102041]\n",
            " [0.63934426 0.13265306]\n",
            " [0.48360656 0.7244898 ]\n",
            " [0.5        0.87755102]\n",
            " [0.31967213 0.46938776]\n",
            " [0.70491803 0.23469388]\n",
            " [0.59016393 0.63265306]\n",
            " [0.3852459  0.47959184]\n",
            " [0.90983607 0.74489796]\n",
            " [0.39344262 0.47959184]\n",
            " [0.59836066 0.69387755]\n",
            " [0.23770492 0.45918367]\n",
            " [0.39344262 0.5       ]\n",
            " [0.52459016 0.34693878]\n",
            " [0.31967213 0.57142857]\n",
            " [0.45081967 0.28571429]\n",
            " [0.31967213 0.45918367]\n",
            " [0.45901639 0.34693878]\n",
            " [0.68032787 0.8877551 ]\n",
            " [0.31967213 0.51020408]\n",
            " [0.40983607 0.42857143]\n",
            " [0.45901639 0.75510204]\n",
            " [0.45901639 0.10204082]\n",
            " [0.25409836 0.56122449]\n",
            " [0.44262295 0.58163265]\n",
            " [0.10655738 0.6122449 ]\n",
            " [0.18852459 0.34693878]\n",
            " [0.19672131 0.65306122]\n",
            " [0.72131148 0.69387755]\n",
            " [0.12295082 0.73469388]\n",
            " [0.51639344 0.15306122]\n",
            " [0.14754098 0.03061224]\n",
            " [0.04098361 0.7755102 ]\n",
            " [0.40983607 0.59183673]\n",
            " [0.31967213 0.52040816]\n",
            " [0.45901639 0.75510204]\n",
            " [0.1147541  0.30612245]\n",
            " [0.06557377 0.28571429]\n",
            " [0.49180328 0.93877551]\n",
            " [0.47540984 0.04081633]\n",
            " [0.36885246 0.5       ]\n",
            " [0.35245902 0.60204082]\n",
            " [0.25409836 0.51020408]\n",
            " [0.40163934 0.45918367]\n",
            " [0.51639344 0.90816327]\n",
            " [0.1557377  0.16326531]\n",
            " [0.80327869 0.07142857]]\n"
          ]
        }
      ]
    },
    {
      "cell_type": "code",
      "source": [
        "print(y_test)"
      ],
      "metadata": {
        "colab": {
          "base_uri": "https://localhost:8080/"
        },
        "id": "tNq8FqZ9HYQv",
        "outputId": "a5973f8b-185a-4328-efe6-e659741d2d56"
      },
      "execution_count": 52,
      "outputs": [
        {
          "output_type": "stream",
          "name": "stdout",
          "text": [
            "[0.3442623  0.42622951 0.08196721 0.03278689 0.86065574 0.00819672\n",
            " 0.42622951 0.36885246 0.2704918  0.26229508 0.39344262 0.36885246\n",
            " 0.48360656 0.2704918  0.72131148 0.51639344 0.10655738 0.37704918\n",
            " 0.51639344 0.20491803 0.63934426 0.48360656 0.5        0.31967213\n",
            " 0.70491803 0.59016393 0.3852459  0.90983607 0.39344262 0.59836066\n",
            " 0.23770492 0.39344262 0.52459016 0.31967213 0.45081967 0.31967213\n",
            " 0.45901639 0.68032787 0.31967213 0.40983607 0.45901639 0.45901639\n",
            " 0.25409836 0.44262295 0.10655738 0.18852459 0.19672131 0.72131148\n",
            " 0.12295082 0.51639344 0.14754098 0.04098361 0.40983607 0.31967213\n",
            " 0.45901639 0.1147541  0.06557377 0.49180328 0.47540984 0.36885246\n",
            " 0.35245902 0.25409836 0.40163934 0.51639344 0.1557377  0.80327869]\n"
          ]
        }
      ]
    },
    {
      "cell_type": "markdown",
      "source": [
        "***16.Measure the performance using metrics***"
      ],
      "metadata": {
        "id": "JpNGI55RHj9m"
      }
    },
    {
      "cell_type": "code",
      "source": [
        "from sklearn.metrics import r2_score\n",
        "from sklearn.metrics import mean_absolute_error\n",
        "from sklearn.metrics import mean_squared_error\n",
        "X_train=[5,-1,2,10]\n",
        "Y_test=[3.5,-0.9,2,9.9]\n",
        "print('RSquared=',r2_score(X_train,Y_test))\n",
        "print('MAE=',mean_absolute_error(X_train,Y_test))\n",
        "print('MSE=',mean_squared_error(X_train,Y_test))"
      ],
      "metadata": {
        "colab": {
          "base_uri": "https://localhost:8080/"
        },
        "id": "DRQtK9nSHl0B",
        "outputId": "e5a628d7-a859-496f-da32-3bfbfb46d3dd"
      },
      "execution_count": 55,
      "outputs": [
        {
          "output_type": "stream",
          "name": "stdout",
          "text": [
            "RSquared= 0.9656060606060606\n",
            "MAE= 0.42499999999999993\n",
            "MSE= 0.5674999999999999\n"
          ]
        }
      ]
    }
  ]
}