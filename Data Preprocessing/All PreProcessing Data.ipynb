{
  "nbformat": 4,
  "nbformat_minor": 0,
  "metadata": {
    "colab": {
      "provenance": [],
      "collapsed_sections": []
    },
    "kernelspec": {
      "name": "python3",
      "display_name": "Python 3"
    },
    "language_info": {
      "name": "python"
    }
  },
  "cells": [
    {
      "cell_type": "markdown",
      "source": [
        "IMPORT THE LIBRARIES\n",
        "\n",
        "\n"
      ],
      "metadata": {
        "id": "JxpePzdmacLq"
      }
    },
    {
      "cell_type": "code",
      "execution_count": null,
      "metadata": {
        "id": "GpISewFVZmKo"
      },
      "outputs": [],
      "source": [
        "import pandas as pd\n",
        "import numpy as np\n",
        "import matplotlib.pyplot as plt\n",
        "from matplotlib import pyplot as pt\n",
        "import seaborn as sns\n",
        "import warnings"
      ]
    },
    {
      "cell_type": "markdown",
      "source": [
        "UPLOADING THE DATASET\n"
      ],
      "metadata": {
        "id": "yaWwlExqaiDD"
      }
    },
    {
      "cell_type": "code",
      "source": [
        "from google.colab import files \n",
        "upload= files.upload()\n"
      ],
      "metadata": {
        "colab": {
          "base_uri": "https://localhost:8080/",
          "height": 73
        },
        "id": "f9PzMPzVatxZ",
        "outputId": "cff5732a-2edd-43f4-b7b8-b6402d388fd0"
      },
      "execution_count": null,
      "outputs": [
        {
          "output_type": "display_data",
          "data": {
            "text/plain": [
              "<IPython.core.display.HTML object>"
            ],
            "text/html": [
              "\n",
              "     <input type=\"file\" id=\"files-10f8d2e6-7045-4213-ad14-5f61599546b0\" name=\"files[]\" multiple disabled\n",
              "        style=\"border:none\" />\n",
              "     <output id=\"result-10f8d2e6-7045-4213-ad14-5f61599546b0\">\n",
              "      Upload widget is only available when the cell has been executed in the\n",
              "      current browser session. Please rerun this cell to enable.\n",
              "      </output>\n",
              "      <script>// Copyright 2017 Google LLC\n",
              "//\n",
              "// Licensed under the Apache License, Version 2.0 (the \"License\");\n",
              "// you may not use this file except in compliance with the License.\n",
              "// You may obtain a copy of the License at\n",
              "//\n",
              "//      http://www.apache.org/licenses/LICENSE-2.0\n",
              "//\n",
              "// Unless required by applicable law or agreed to in writing, software\n",
              "// distributed under the License is distributed on an \"AS IS\" BASIS,\n",
              "// WITHOUT WARRANTIES OR CONDITIONS OF ANY KIND, either express or implied.\n",
              "// See the License for the specific language governing permissions and\n",
              "// limitations under the License.\n",
              "\n",
              "/**\n",
              " * @fileoverview Helpers for google.colab Python module.\n",
              " */\n",
              "(function(scope) {\n",
              "function span(text, styleAttributes = {}) {\n",
              "  const element = document.createElement('span');\n",
              "  element.textContent = text;\n",
              "  for (const key of Object.keys(styleAttributes)) {\n",
              "    element.style[key] = styleAttributes[key];\n",
              "  }\n",
              "  return element;\n",
              "}\n",
              "\n",
              "// Max number of bytes which will be uploaded at a time.\n",
              "const MAX_PAYLOAD_SIZE = 100 * 1024;\n",
              "\n",
              "function _uploadFiles(inputId, outputId) {\n",
              "  const steps = uploadFilesStep(inputId, outputId);\n",
              "  const outputElement = document.getElementById(outputId);\n",
              "  // Cache steps on the outputElement to make it available for the next call\n",
              "  // to uploadFilesContinue from Python.\n",
              "  outputElement.steps = steps;\n",
              "\n",
              "  return _uploadFilesContinue(outputId);\n",
              "}\n",
              "\n",
              "// This is roughly an async generator (not supported in the browser yet),\n",
              "// where there are multiple asynchronous steps and the Python side is going\n",
              "// to poll for completion of each step.\n",
              "// This uses a Promise to block the python side on completion of each step,\n",
              "// then passes the result of the previous step as the input to the next step.\n",
              "function _uploadFilesContinue(outputId) {\n",
              "  const outputElement = document.getElementById(outputId);\n",
              "  const steps = outputElement.steps;\n",
              "\n",
              "  const next = steps.next(outputElement.lastPromiseValue);\n",
              "  return Promise.resolve(next.value.promise).then((value) => {\n",
              "    // Cache the last promise value to make it available to the next\n",
              "    // step of the generator.\n",
              "    outputElement.lastPromiseValue = value;\n",
              "    return next.value.response;\n",
              "  });\n",
              "}\n",
              "\n",
              "/**\n",
              " * Generator function which is called between each async step of the upload\n",
              " * process.\n",
              " * @param {string} inputId Element ID of the input file picker element.\n",
              " * @param {string} outputId Element ID of the output display.\n",
              " * @return {!Iterable<!Object>} Iterable of next steps.\n",
              " */\n",
              "function* uploadFilesStep(inputId, outputId) {\n",
              "  const inputElement = document.getElementById(inputId);\n",
              "  inputElement.disabled = false;\n",
              "\n",
              "  const outputElement = document.getElementById(outputId);\n",
              "  outputElement.innerHTML = '';\n",
              "\n",
              "  const pickedPromise = new Promise((resolve) => {\n",
              "    inputElement.addEventListener('change', (e) => {\n",
              "      resolve(e.target.files);\n",
              "    });\n",
              "  });\n",
              "\n",
              "  const cancel = document.createElement('button');\n",
              "  inputElement.parentElement.appendChild(cancel);\n",
              "  cancel.textContent = 'Cancel upload';\n",
              "  const cancelPromise = new Promise((resolve) => {\n",
              "    cancel.onclick = () => {\n",
              "      resolve(null);\n",
              "    };\n",
              "  });\n",
              "\n",
              "  // Wait for the user to pick the files.\n",
              "  const files = yield {\n",
              "    promise: Promise.race([pickedPromise, cancelPromise]),\n",
              "    response: {\n",
              "      action: 'starting',\n",
              "    }\n",
              "  };\n",
              "\n",
              "  cancel.remove();\n",
              "\n",
              "  // Disable the input element since further picks are not allowed.\n",
              "  inputElement.disabled = true;\n",
              "\n",
              "  if (!files) {\n",
              "    return {\n",
              "      response: {\n",
              "        action: 'complete',\n",
              "      }\n",
              "    };\n",
              "  }\n",
              "\n",
              "  for (const file of files) {\n",
              "    const li = document.createElement('li');\n",
              "    li.append(span(file.name, {fontWeight: 'bold'}));\n",
              "    li.append(span(\n",
              "        `(${file.type || 'n/a'}) - ${file.size} bytes, ` +\n",
              "        `last modified: ${\n",
              "            file.lastModifiedDate ? file.lastModifiedDate.toLocaleDateString() :\n",
              "                                    'n/a'} - `));\n",
              "    const percent = span('0% done');\n",
              "    li.appendChild(percent);\n",
              "\n",
              "    outputElement.appendChild(li);\n",
              "\n",
              "    const fileDataPromise = new Promise((resolve) => {\n",
              "      const reader = new FileReader();\n",
              "      reader.onload = (e) => {\n",
              "        resolve(e.target.result);\n",
              "      };\n",
              "      reader.readAsArrayBuffer(file);\n",
              "    });\n",
              "    // Wait for the data to be ready.\n",
              "    let fileData = yield {\n",
              "      promise: fileDataPromise,\n",
              "      response: {\n",
              "        action: 'continue',\n",
              "      }\n",
              "    };\n",
              "\n",
              "    // Use a chunked sending to avoid message size limits. See b/62115660.\n",
              "    let position = 0;\n",
              "    do {\n",
              "      const length = Math.min(fileData.byteLength - position, MAX_PAYLOAD_SIZE);\n",
              "      const chunk = new Uint8Array(fileData, position, length);\n",
              "      position += length;\n",
              "\n",
              "      const base64 = btoa(String.fromCharCode.apply(null, chunk));\n",
              "      yield {\n",
              "        response: {\n",
              "          action: 'append',\n",
              "          file: file.name,\n",
              "          data: base64,\n",
              "        },\n",
              "      };\n",
              "\n",
              "      let percentDone = fileData.byteLength === 0 ?\n",
              "          100 :\n",
              "          Math.round((position / fileData.byteLength) * 100);\n",
              "      percent.textContent = `${percentDone}% done`;\n",
              "\n",
              "    } while (position < fileData.byteLength);\n",
              "  }\n",
              "\n",
              "  // All done.\n",
              "  yield {\n",
              "    response: {\n",
              "      action: 'complete',\n",
              "    }\n",
              "  };\n",
              "}\n",
              "\n",
              "scope.google = scope.google || {};\n",
              "scope.google.colab = scope.google.colab || {};\n",
              "scope.google.colab._files = {\n",
              "  _uploadFiles,\n",
              "  _uploadFilesContinue,\n",
              "};\n",
              "})(self);\n",
              "</script> "
            ]
          },
          "metadata": {}
        },
        {
          "output_type": "stream",
          "name": "stdout",
          "text": [
            "Saving water_dataX.csv to water_dataX.csv\n"
          ]
        }
      ]
    },
    {
      "cell_type": "markdown",
      "source": [
        "READ THE DATASET"
      ],
      "metadata": {
        "id": "wC5Hqu9-dQTi"
      }
    },
    {
      "cell_type": "code",
      "source": [
        "data= pd.read_csv('water_dataX.csv', header= 0,\n",
        "                        encoding= 'unicode_escape')"
      ],
      "metadata": {
        "id": "7ACEPCRDghfv"
      },
      "execution_count": 29,
      "outputs": []
    },
    {
      "cell_type": "code",
      "source": [
        "data.head()"
      ],
      "metadata": {
        "colab": {
          "base_uri": "https://localhost:8080/",
          "height": 372
        },
        "id": "5ncyK0Dfg_Ma",
        "outputId": "b2b652b0-031c-4b9d-9b3c-90e49f3c7bf8"
      },
      "execution_count": 30,
      "outputs": [
        {
          "output_type": "execute_result",
          "data": {
            "text/plain": [
              "  STATION CODE                                          LOCATIONS  \\\n",
              "0         1393               DAMANGANGA AT D/S OF MADHUBAN, DAMAN   \n",
              "1         1399  ZUARI AT D/S OF PT. WHERE KUMBARJRIA CANAL JOI...   \n",
              "2         1475                                ZUARI AT PANCHAWADI   \n",
              "3         3181                        RIVER ZUARI AT BORIM BRIDGE   \n",
              "4         3182                       RIVER ZUARI AT MARCAIM JETTY   \n",
              "\n",
              "         STATE  Temp D.O. (mg/l)   PH CONDUCTIVITY (µmhos/cm) B.O.D. (mg/l)  \\\n",
              "0  DAMAN & DIU  30.6         6.7  7.5                     203           NAN   \n",
              "1          GOA  29.8         5.7  7.2                     189             2   \n",
              "2          GOA  29.5         6.3  6.9                     179           1.7   \n",
              "3          GOA  29.7         5.8  6.9                      64           3.8   \n",
              "4          GOA  29.5         5.8  7.3                      83           1.9   \n",
              "\n",
              "  NITRATENAN N+ NITRITENANN (mg/l) FECAL COLIFORM (MPN/100ml)  \\\n",
              "0                              0.1                         11   \n",
              "1                              0.2                       4953   \n",
              "2                              0.1                       3243   \n",
              "3                              0.5                       5382   \n",
              "4                              0.4                       3428   \n",
              "\n",
              "  TOTAL COLIFORM (MPN/100ml)Mean  year  \n",
              "0                             27  2014  \n",
              "1                           8391  2014  \n",
              "2                           5330  2014  \n",
              "3                           8443  2014  \n",
              "4                           5500  2014  "
            ],
            "text/html": [
              "\n",
              "  <div id=\"df-e3356808-7287-4b88-a4d3-c77015dce586\">\n",
              "    <div class=\"colab-df-container\">\n",
              "      <div>\n",
              "<style scoped>\n",
              "    .dataframe tbody tr th:only-of-type {\n",
              "        vertical-align: middle;\n",
              "    }\n",
              "\n",
              "    .dataframe tbody tr th {\n",
              "        vertical-align: top;\n",
              "    }\n",
              "\n",
              "    .dataframe thead th {\n",
              "        text-align: right;\n",
              "    }\n",
              "</style>\n",
              "<table border=\"1\" class=\"dataframe\">\n",
              "  <thead>\n",
              "    <tr style=\"text-align: right;\">\n",
              "      <th></th>\n",
              "      <th>STATION CODE</th>\n",
              "      <th>LOCATIONS</th>\n",
              "      <th>STATE</th>\n",
              "      <th>Temp</th>\n",
              "      <th>D.O. (mg/l)</th>\n",
              "      <th>PH</th>\n",
              "      <th>CONDUCTIVITY (µmhos/cm)</th>\n",
              "      <th>B.O.D. (mg/l)</th>\n",
              "      <th>NITRATENAN N+ NITRITENANN (mg/l)</th>\n",
              "      <th>FECAL COLIFORM (MPN/100ml)</th>\n",
              "      <th>TOTAL COLIFORM (MPN/100ml)Mean</th>\n",
              "      <th>year</th>\n",
              "    </tr>\n",
              "  </thead>\n",
              "  <tbody>\n",
              "    <tr>\n",
              "      <th>0</th>\n",
              "      <td>1393</td>\n",
              "      <td>DAMANGANGA AT D/S OF MADHUBAN, DAMAN</td>\n",
              "      <td>DAMAN &amp; DIU</td>\n",
              "      <td>30.6</td>\n",
              "      <td>6.7</td>\n",
              "      <td>7.5</td>\n",
              "      <td>203</td>\n",
              "      <td>NAN</td>\n",
              "      <td>0.1</td>\n",
              "      <td>11</td>\n",
              "      <td>27</td>\n",
              "      <td>2014</td>\n",
              "    </tr>\n",
              "    <tr>\n",
              "      <th>1</th>\n",
              "      <td>1399</td>\n",
              "      <td>ZUARI AT D/S OF PT. WHERE KUMBARJRIA CANAL JOI...</td>\n",
              "      <td>GOA</td>\n",
              "      <td>29.8</td>\n",
              "      <td>5.7</td>\n",
              "      <td>7.2</td>\n",
              "      <td>189</td>\n",
              "      <td>2</td>\n",
              "      <td>0.2</td>\n",
              "      <td>4953</td>\n",
              "      <td>8391</td>\n",
              "      <td>2014</td>\n",
              "    </tr>\n",
              "    <tr>\n",
              "      <th>2</th>\n",
              "      <td>1475</td>\n",
              "      <td>ZUARI AT PANCHAWADI</td>\n",
              "      <td>GOA</td>\n",
              "      <td>29.5</td>\n",
              "      <td>6.3</td>\n",
              "      <td>6.9</td>\n",
              "      <td>179</td>\n",
              "      <td>1.7</td>\n",
              "      <td>0.1</td>\n",
              "      <td>3243</td>\n",
              "      <td>5330</td>\n",
              "      <td>2014</td>\n",
              "    </tr>\n",
              "    <tr>\n",
              "      <th>3</th>\n",
              "      <td>3181</td>\n",
              "      <td>RIVER ZUARI AT BORIM BRIDGE</td>\n",
              "      <td>GOA</td>\n",
              "      <td>29.7</td>\n",
              "      <td>5.8</td>\n",
              "      <td>6.9</td>\n",
              "      <td>64</td>\n",
              "      <td>3.8</td>\n",
              "      <td>0.5</td>\n",
              "      <td>5382</td>\n",
              "      <td>8443</td>\n",
              "      <td>2014</td>\n",
              "    </tr>\n",
              "    <tr>\n",
              "      <th>4</th>\n",
              "      <td>3182</td>\n",
              "      <td>RIVER ZUARI AT MARCAIM JETTY</td>\n",
              "      <td>GOA</td>\n",
              "      <td>29.5</td>\n",
              "      <td>5.8</td>\n",
              "      <td>7.3</td>\n",
              "      <td>83</td>\n",
              "      <td>1.9</td>\n",
              "      <td>0.4</td>\n",
              "      <td>3428</td>\n",
              "      <td>5500</td>\n",
              "      <td>2014</td>\n",
              "    </tr>\n",
              "  </tbody>\n",
              "</table>\n",
              "</div>\n",
              "      <button class=\"colab-df-convert\" onclick=\"convertToInteractive('df-e3356808-7287-4b88-a4d3-c77015dce586')\"\n",
              "              title=\"Convert this dataframe to an interactive table.\"\n",
              "              style=\"display:none;\">\n",
              "        \n",
              "  <svg xmlns=\"http://www.w3.org/2000/svg\" height=\"24px\"viewBox=\"0 0 24 24\"\n",
              "       width=\"24px\">\n",
              "    <path d=\"M0 0h24v24H0V0z\" fill=\"none\"/>\n",
              "    <path d=\"M18.56 5.44l.94 2.06.94-2.06 2.06-.94-2.06-.94-.94-2.06-.94 2.06-2.06.94zm-11 1L8.5 8.5l.94-2.06 2.06-.94-2.06-.94L8.5 2.5l-.94 2.06-2.06.94zm10 10l.94 2.06.94-2.06 2.06-.94-2.06-.94-.94-2.06-.94 2.06-2.06.94z\"/><path d=\"M17.41 7.96l-1.37-1.37c-.4-.4-.92-.59-1.43-.59-.52 0-1.04.2-1.43.59L10.3 9.45l-7.72 7.72c-.78.78-.78 2.05 0 2.83L4 21.41c.39.39.9.59 1.41.59.51 0 1.02-.2 1.41-.59l7.78-7.78 2.81-2.81c.8-.78.8-2.07 0-2.86zM5.41 20L4 18.59l7.72-7.72 1.47 1.35L5.41 20z\"/>\n",
              "  </svg>\n",
              "      </button>\n",
              "      \n",
              "  <style>\n",
              "    .colab-df-container {\n",
              "      display:flex;\n",
              "      flex-wrap:wrap;\n",
              "      gap: 12px;\n",
              "    }\n",
              "\n",
              "    .colab-df-convert {\n",
              "      background-color: #E8F0FE;\n",
              "      border: none;\n",
              "      border-radius: 50%;\n",
              "      cursor: pointer;\n",
              "      display: none;\n",
              "      fill: #1967D2;\n",
              "      height: 32px;\n",
              "      padding: 0 0 0 0;\n",
              "      width: 32px;\n",
              "    }\n",
              "\n",
              "    .colab-df-convert:hover {\n",
              "      background-color: #E2EBFA;\n",
              "      box-shadow: 0px 1px 2px rgba(60, 64, 67, 0.3), 0px 1px 3px 1px rgba(60, 64, 67, 0.15);\n",
              "      fill: #174EA6;\n",
              "    }\n",
              "\n",
              "    [theme=dark] .colab-df-convert {\n",
              "      background-color: #3B4455;\n",
              "      fill: #D2E3FC;\n",
              "    }\n",
              "\n",
              "    [theme=dark] .colab-df-convert:hover {\n",
              "      background-color: #434B5C;\n",
              "      box-shadow: 0px 1px 3px 1px rgba(0, 0, 0, 0.15);\n",
              "      filter: drop-shadow(0px 1px 2px rgba(0, 0, 0, 0.3));\n",
              "      fill: #FFFFFF;\n",
              "    }\n",
              "  </style>\n",
              "\n",
              "      <script>\n",
              "        const buttonEl =\n",
              "          document.querySelector('#df-e3356808-7287-4b88-a4d3-c77015dce586 button.colab-df-convert');\n",
              "        buttonEl.style.display =\n",
              "          google.colab.kernel.accessAllowed ? 'block' : 'none';\n",
              "\n",
              "        async function convertToInteractive(key) {\n",
              "          const element = document.querySelector('#df-e3356808-7287-4b88-a4d3-c77015dce586');\n",
              "          const dataTable =\n",
              "            await google.colab.kernel.invokeFunction('convertToInteractive',\n",
              "                                                     [key], {});\n",
              "          if (!dataTable) return;\n",
              "\n",
              "          const docLinkHtml = 'Like what you see? Visit the ' +\n",
              "            '<a target=\"_blank\" href=https://colab.research.google.com/notebooks/data_table.ipynb>data table notebook</a>'\n",
              "            + ' to learn more about interactive tables.';\n",
              "          element.innerHTML = '';\n",
              "          dataTable['output_type'] = 'display_data';\n",
              "          await google.colab.output.renderOutput(dataTable, element);\n",
              "          const docLink = document.createElement('div');\n",
              "          docLink.innerHTML = docLinkHtml;\n",
              "          element.appendChild(docLink);\n",
              "        }\n",
              "      </script>\n",
              "    </div>\n",
              "  </div>\n",
              "  "
            ]
          },
          "metadata": {},
          "execution_count": 30
        }
      ]
    },
    {
      "cell_type": "markdown",
      "source": [
        "HANDLING MISSING VALUES"
      ],
      "metadata": {
        "id": "tn-xNYgZdGY3"
      }
    },
    {
      "cell_type": "code",
      "source": [
        "missing_data = data.isnull()\n",
        "for column in missing_data.columns.values.tolist():\n",
        "    print(column)\n",
        "    print(missing_data[column].value_counts())\n",
        "    print(\"\")"
      ],
      "metadata": {
        "colab": {
          "base_uri": "https://localhost:8080/"
        },
        "id": "7l59lq5Oa3Ea",
        "outputId": "b1abee9c-f7b5-425e-b91d-22232038e809"
      },
      "execution_count": 31,
      "outputs": [
        {
          "output_type": "stream",
          "name": "stdout",
          "text": [
            "STATION CODE\n",
            "False    1991\n",
            "Name: STATION CODE, dtype: int64\n",
            "\n",
            "LOCATIONS\n",
            "False    1991\n",
            "Name: LOCATIONS, dtype: int64\n",
            "\n",
            "STATE\n",
            "False    1991\n",
            "Name: STATE, dtype: int64\n",
            "\n",
            "Temp\n",
            "False    1991\n",
            "Name: Temp, dtype: int64\n",
            "\n",
            "D.O. (mg/l)\n",
            "False    1991\n",
            "Name: D.O. (mg/l), dtype: int64\n",
            "\n",
            "PH\n",
            "False    1991\n",
            "Name: PH, dtype: int64\n",
            "\n",
            "CONDUCTIVITY (µmhos/cm)\n",
            "False    1991\n",
            "Name: CONDUCTIVITY (µmhos/cm), dtype: int64\n",
            "\n",
            "B.O.D. (mg/l)\n",
            "False    1991\n",
            "Name: B.O.D. (mg/l), dtype: int64\n",
            "\n",
            "NITRATENAN N+ NITRITENANN (mg/l)\n",
            "False    1991\n",
            "Name: NITRATENAN N+ NITRITENANN (mg/l), dtype: int64\n",
            "\n",
            "FECAL COLIFORM (MPN/100ml)\n",
            "False    1991\n",
            "Name: FECAL COLIFORM (MPN/100ml), dtype: int64\n",
            "\n",
            "TOTAL COLIFORM (MPN/100ml)Mean\n",
            "False    1991\n",
            "Name: TOTAL COLIFORM (MPN/100ml)Mean, dtype: int64\n",
            "\n",
            "year\n",
            "False    1991\n",
            "Name: year, dtype: int64\n",
            "\n"
          ]
        }
      ]
    },
    {
      "cell_type": "markdown",
      "source": [
        "ANALYSING THE DATA"
      ],
      "metadata": {
        "id": "c8QiFxdnhFVx"
      }
    },
    {
      "cell_type": "code",
      "source": [
        "data.info()"
      ],
      "metadata": {
        "colab": {
          "base_uri": "https://localhost:8080/"
        },
        "id": "_K3d9fpehNlU",
        "outputId": "f8d6f5e6-746d-4ad6-9b0e-2c35bd920efa"
      },
      "execution_count": 37,
      "outputs": [
        {
          "output_type": "stream",
          "name": "stdout",
          "text": [
            "<class 'pandas.core.frame.DataFrame'>\n",
            "RangeIndex: 1991 entries, 0 to 1990\n",
            "Data columns (total 12 columns):\n",
            " #   Column                            Non-Null Count  Dtype \n",
            "---  ------                            --------------  ----- \n",
            " 0   STATION CODE                      1991 non-null   object\n",
            " 1   LOCATIONS                         1991 non-null   object\n",
            " 2   STATE                             1991 non-null   object\n",
            " 3   Temp                              1991 non-null   object\n",
            " 4   D.O. (mg/l)                       1991 non-null   object\n",
            " 5   PH                                1991 non-null   object\n",
            " 6   CONDUCTIVITY (µmhos/cm)           1991 non-null   object\n",
            " 7   B.O.D. (mg/l)                     1991 non-null   object\n",
            " 8   NITRATENAN N+ NITRITENANN (mg/l)  1991 non-null   object\n",
            " 9   FECAL COLIFORM (MPN/100ml)        1991 non-null   object\n",
            " 10  TOTAL COLIFORM (MPN/100ml)Mean    1991 non-null   object\n",
            " 11  year                              1991 non-null   int64 \n",
            "dtypes: int64(1), object(11)\n",
            "memory usage: 186.8+ KB\n"
          ]
        }
      ]
    },
    {
      "cell_type": "code",
      "source": [
        "data.shape"
      ],
      "metadata": {
        "colab": {
          "base_uri": "https://localhost:8080/"
        },
        "id": "f_MRrPful0if",
        "outputId": "a7e7fde8-74f9-4e71-d80a-33938c85d28c"
      },
      "execution_count": 38,
      "outputs": [
        {
          "output_type": "execute_result",
          "data": {
            "text/plain": [
              "(1991, 12)"
            ]
          },
          "metadata": {},
          "execution_count": 38
        }
      ]
    },
    {
      "cell_type": "code",
      "source": [
        "data.isnull().any()"
      ],
      "metadata": {
        "colab": {
          "base_uri": "https://localhost:8080/"
        },
        "id": "rd2Jaef0l8YZ",
        "outputId": "d40f94cf-55bd-4629-bd7b-a2a4801d6684"
      },
      "execution_count": 39,
      "outputs": [
        {
          "output_type": "execute_result",
          "data": {
            "text/plain": [
              "STATION CODE                        False\n",
              "LOCATIONS                           False\n",
              "STATE                               False\n",
              "Temp                                False\n",
              "D.O. (mg/l)                         False\n",
              "PH                                  False\n",
              "CONDUCTIVITY (µmhos/cm)             False\n",
              "B.O.D. (mg/l)                       False\n",
              "NITRATENAN N+ NITRITENANN (mg/l)    False\n",
              "FECAL COLIFORM (MPN/100ml)          False\n",
              "TOTAL COLIFORM (MPN/100ml)Mean      False\n",
              "year                                False\n",
              "dtype: bool"
            ]
          },
          "metadata": {},
          "execution_count": 39
        }
      ]
    },
    {
      "cell_type": "code",
      "source": [
        "data.dtypes"
      ],
      "metadata": {
        "colab": {
          "base_uri": "https://localhost:8080/"
        },
        "id": "YD89ag9lmAgm",
        "outputId": "e6b1c62e-90d8-4f22-c236-7b7206aa5dfd"
      },
      "execution_count": 40,
      "outputs": [
        {
          "output_type": "execute_result",
          "data": {
            "text/plain": [
              "STATION CODE                        object\n",
              "LOCATIONS                           object\n",
              "STATE                               object\n",
              "Temp                                object\n",
              "D.O. (mg/l)                         object\n",
              "PH                                  object\n",
              "CONDUCTIVITY (µmhos/cm)             object\n",
              "B.O.D. (mg/l)                       object\n",
              "NITRATENAN N+ NITRITENANN (mg/l)    object\n",
              "FECAL COLIFORM (MPN/100ml)          object\n",
              "TOTAL COLIFORM (MPN/100ml)Mean      object\n",
              "year                                 int64\n",
              "dtype: object"
            ]
          },
          "metadata": {},
          "execution_count": 40
        }
      ]
    },
    {
      "cell_type": "code",
      "source": [
        "data['Temp']=pd.to_numeric(data['Temp'],errors='coerce')\n",
        "data['D.O. (mg/l)']=pd.to_numeric(data['D.O. (mg/l)'],errors='coerce')\n",
        "data['PH']=pd.to_numeric(data['PH'],errors='coerce')\n",
        "data['CONDUCTIVITY (µmhos/cm)']=pd.to_numeric(data['CONDUCTIVITY (µmhos/cm)'],errors='coerce')\n",
        "data['B.O.D. (mg/l)']=pd.to_numeric(data['B.O.D. (mg/l)'],errors='coerce')\n",
        "data['TOTAL COLIFORM (MPN/100ml)Mean']=pd.to_numeric(data['TOTAL COLIFORM (MPN/100ml)Mean'],errors='coerce')\n",
        "data.dtypes"
      ],
      "metadata": {
        "colab": {
          "base_uri": "https://localhost:8080/"
        },
        "id": "FwFceKqCmKCh",
        "outputId": "670aae37-5c3a-4e27-919e-74ec514cd276"
      },
      "execution_count": 42,
      "outputs": [
        {
          "output_type": "execute_result",
          "data": {
            "text/plain": [
              "STATION CODE                         object\n",
              "LOCATIONS                            object\n",
              "STATE                                object\n",
              "Temp                                float64\n",
              "D.O. (mg/l)                         float64\n",
              "PH                                  float64\n",
              "CONDUCTIVITY (µmhos/cm)             float64\n",
              "B.O.D. (mg/l)                       float64\n",
              "NITRATENAN N+ NITRITENANN (mg/l)     object\n",
              "FECAL COLIFORM (MPN/100ml)           object\n",
              "TOTAL COLIFORM (MPN/100ml)Mean      float64\n",
              "year                                  int64\n",
              "dtype: object"
            ]
          },
          "metadata": {},
          "execution_count": 42
        }
      ]
    },
    {
      "cell_type": "code",
      "source": [
        "data=data.rename(columns = {'D.O. (mg/l)':'do'})\n",
        "data=data.rename(columns = {'CONDUCTIVITY (µmhos/cm)':'co'})\n",
        "data=data.rename(columns = {'B.O.D. (mg/l)':'bod'})\n",
        "data=data.rename(columns = {'NITRATENAN N+ NITRITENANN (mg/l) ':'na'})\n",
        "data=data.rename(columns = {'TOTAL COLIFORM (MPN/100ml)Mean':'tc'})\n",
        "data=data.rename(columns = {'STATION CODE':'station'})\n",
        "data=data.rename(columns = {'LOCATIONS':'location'})\n",
        "data=data.rename(columns = {'STATE':'state'})\n",
        "data=data.rename(columns = {'PH':'ph'})"
      ],
      "metadata": {
        "id": "2sKPTv8ymioY"
      },
      "execution_count": 43,
      "outputs": []
    },
    {
      "cell_type": "code",
      "source": [
        "data.head()"
      ],
      "metadata": {
        "colab": {
          "base_uri": "https://localhost:8080/",
          "height": 302
        },
        "id": "jILFimeDnEna",
        "outputId": "59bb7261-daa7-4cd7-9f7a-58cbee80bd9e"
      },
      "execution_count": 44,
      "outputs": [
        {
          "output_type": "execute_result",
          "data": {
            "text/plain": [
              "  station                                           location        state  \\\n",
              "0    1393               DAMANGANGA AT D/S OF MADHUBAN, DAMAN  DAMAN & DIU   \n",
              "1    1399  ZUARI AT D/S OF PT. WHERE KUMBARJRIA CANAL JOI...          GOA   \n",
              "2    1475                                ZUARI AT PANCHAWADI          GOA   \n",
              "3    3181                        RIVER ZUARI AT BORIM BRIDGE          GOA   \n",
              "4    3182                       RIVER ZUARI AT MARCAIM JETTY          GOA   \n",
              "\n",
              "   Temp   do   ph     co  bod NITRATENAN N+ NITRITENANN (mg/l)  \\\n",
              "0  30.6  6.7  7.5  203.0  NaN                              0.1   \n",
              "1  29.8  5.7  7.2  189.0  2.0                              0.2   \n",
              "2  29.5  6.3  6.9  179.0  1.7                              0.1   \n",
              "3  29.7  5.8  6.9   64.0  3.8                              0.5   \n",
              "4  29.5  5.8  7.3   83.0  1.9                              0.4   \n",
              "\n",
              "  FECAL COLIFORM (MPN/100ml)      tc  year  \n",
              "0                         11    27.0  2014  \n",
              "1                       4953  8391.0  2014  \n",
              "2                       3243  5330.0  2014  \n",
              "3                       5382  8443.0  2014  \n",
              "4                       3428  5500.0  2014  "
            ],
            "text/html": [
              "\n",
              "  <div id=\"df-f2f574cb-a8f4-4a8f-b5fe-862924868fc4\">\n",
              "    <div class=\"colab-df-container\">\n",
              "      <div>\n",
              "<style scoped>\n",
              "    .dataframe tbody tr th:only-of-type {\n",
              "        vertical-align: middle;\n",
              "    }\n",
              "\n",
              "    .dataframe tbody tr th {\n",
              "        vertical-align: top;\n",
              "    }\n",
              "\n",
              "    .dataframe thead th {\n",
              "        text-align: right;\n",
              "    }\n",
              "</style>\n",
              "<table border=\"1\" class=\"dataframe\">\n",
              "  <thead>\n",
              "    <tr style=\"text-align: right;\">\n",
              "      <th></th>\n",
              "      <th>station</th>\n",
              "      <th>location</th>\n",
              "      <th>state</th>\n",
              "      <th>Temp</th>\n",
              "      <th>do</th>\n",
              "      <th>ph</th>\n",
              "      <th>co</th>\n",
              "      <th>bod</th>\n",
              "      <th>NITRATENAN N+ NITRITENANN (mg/l)</th>\n",
              "      <th>FECAL COLIFORM (MPN/100ml)</th>\n",
              "      <th>tc</th>\n",
              "      <th>year</th>\n",
              "    </tr>\n",
              "  </thead>\n",
              "  <tbody>\n",
              "    <tr>\n",
              "      <th>0</th>\n",
              "      <td>1393</td>\n",
              "      <td>DAMANGANGA AT D/S OF MADHUBAN, DAMAN</td>\n",
              "      <td>DAMAN &amp; DIU</td>\n",
              "      <td>30.6</td>\n",
              "      <td>6.7</td>\n",
              "      <td>7.5</td>\n",
              "      <td>203.0</td>\n",
              "      <td>NaN</td>\n",
              "      <td>0.1</td>\n",
              "      <td>11</td>\n",
              "      <td>27.0</td>\n",
              "      <td>2014</td>\n",
              "    </tr>\n",
              "    <tr>\n",
              "      <th>1</th>\n",
              "      <td>1399</td>\n",
              "      <td>ZUARI AT D/S OF PT. WHERE KUMBARJRIA CANAL JOI...</td>\n",
              "      <td>GOA</td>\n",
              "      <td>29.8</td>\n",
              "      <td>5.7</td>\n",
              "      <td>7.2</td>\n",
              "      <td>189.0</td>\n",
              "      <td>2.0</td>\n",
              "      <td>0.2</td>\n",
              "      <td>4953</td>\n",
              "      <td>8391.0</td>\n",
              "      <td>2014</td>\n",
              "    </tr>\n",
              "    <tr>\n",
              "      <th>2</th>\n",
              "      <td>1475</td>\n",
              "      <td>ZUARI AT PANCHAWADI</td>\n",
              "      <td>GOA</td>\n",
              "      <td>29.5</td>\n",
              "      <td>6.3</td>\n",
              "      <td>6.9</td>\n",
              "      <td>179.0</td>\n",
              "      <td>1.7</td>\n",
              "      <td>0.1</td>\n",
              "      <td>3243</td>\n",
              "      <td>5330.0</td>\n",
              "      <td>2014</td>\n",
              "    </tr>\n",
              "    <tr>\n",
              "      <th>3</th>\n",
              "      <td>3181</td>\n",
              "      <td>RIVER ZUARI AT BORIM BRIDGE</td>\n",
              "      <td>GOA</td>\n",
              "      <td>29.7</td>\n",
              "      <td>5.8</td>\n",
              "      <td>6.9</td>\n",
              "      <td>64.0</td>\n",
              "      <td>3.8</td>\n",
              "      <td>0.5</td>\n",
              "      <td>5382</td>\n",
              "      <td>8443.0</td>\n",
              "      <td>2014</td>\n",
              "    </tr>\n",
              "    <tr>\n",
              "      <th>4</th>\n",
              "      <td>3182</td>\n",
              "      <td>RIVER ZUARI AT MARCAIM JETTY</td>\n",
              "      <td>GOA</td>\n",
              "      <td>29.5</td>\n",
              "      <td>5.8</td>\n",
              "      <td>7.3</td>\n",
              "      <td>83.0</td>\n",
              "      <td>1.9</td>\n",
              "      <td>0.4</td>\n",
              "      <td>3428</td>\n",
              "      <td>5500.0</td>\n",
              "      <td>2014</td>\n",
              "    </tr>\n",
              "  </tbody>\n",
              "</table>\n",
              "</div>\n",
              "      <button class=\"colab-df-convert\" onclick=\"convertToInteractive('df-f2f574cb-a8f4-4a8f-b5fe-862924868fc4')\"\n",
              "              title=\"Convert this dataframe to an interactive table.\"\n",
              "              style=\"display:none;\">\n",
              "        \n",
              "  <svg xmlns=\"http://www.w3.org/2000/svg\" height=\"24px\"viewBox=\"0 0 24 24\"\n",
              "       width=\"24px\">\n",
              "    <path d=\"M0 0h24v24H0V0z\" fill=\"none\"/>\n",
              "    <path d=\"M18.56 5.44l.94 2.06.94-2.06 2.06-.94-2.06-.94-.94-2.06-.94 2.06-2.06.94zm-11 1L8.5 8.5l.94-2.06 2.06-.94-2.06-.94L8.5 2.5l-.94 2.06-2.06.94zm10 10l.94 2.06.94-2.06 2.06-.94-2.06-.94-.94-2.06-.94 2.06-2.06.94z\"/><path d=\"M17.41 7.96l-1.37-1.37c-.4-.4-.92-.59-1.43-.59-.52 0-1.04.2-1.43.59L10.3 9.45l-7.72 7.72c-.78.78-.78 2.05 0 2.83L4 21.41c.39.39.9.59 1.41.59.51 0 1.02-.2 1.41-.59l7.78-7.78 2.81-2.81c.8-.78.8-2.07 0-2.86zM5.41 20L4 18.59l7.72-7.72 1.47 1.35L5.41 20z\"/>\n",
              "  </svg>\n",
              "      </button>\n",
              "      \n",
              "  <style>\n",
              "    .colab-df-container {\n",
              "      display:flex;\n",
              "      flex-wrap:wrap;\n",
              "      gap: 12px;\n",
              "    }\n",
              "\n",
              "    .colab-df-convert {\n",
              "      background-color: #E8F0FE;\n",
              "      border: none;\n",
              "      border-radius: 50%;\n",
              "      cursor: pointer;\n",
              "      display: none;\n",
              "      fill: #1967D2;\n",
              "      height: 32px;\n",
              "      padding: 0 0 0 0;\n",
              "      width: 32px;\n",
              "    }\n",
              "\n",
              "    .colab-df-convert:hover {\n",
              "      background-color: #E2EBFA;\n",
              "      box-shadow: 0px 1px 2px rgba(60, 64, 67, 0.3), 0px 1px 3px 1px rgba(60, 64, 67, 0.15);\n",
              "      fill: #174EA6;\n",
              "    }\n",
              "\n",
              "    [theme=dark] .colab-df-convert {\n",
              "      background-color: #3B4455;\n",
              "      fill: #D2E3FC;\n",
              "    }\n",
              "\n",
              "    [theme=dark] .colab-df-convert:hover {\n",
              "      background-color: #434B5C;\n",
              "      box-shadow: 0px 1px 3px 1px rgba(0, 0, 0, 0.15);\n",
              "      filter: drop-shadow(0px 1px 2px rgba(0, 0, 0, 0.3));\n",
              "      fill: #FFFFFF;\n",
              "    }\n",
              "  </style>\n",
              "\n",
              "      <script>\n",
              "        const buttonEl =\n",
              "          document.querySelector('#df-f2f574cb-a8f4-4a8f-b5fe-862924868fc4 button.colab-df-convert');\n",
              "        buttonEl.style.display =\n",
              "          google.colab.kernel.accessAllowed ? 'block' : 'none';\n",
              "\n",
              "        async function convertToInteractive(key) {\n",
              "          const element = document.querySelector('#df-f2f574cb-a8f4-4a8f-b5fe-862924868fc4');\n",
              "          const dataTable =\n",
              "            await google.colab.kernel.invokeFunction('convertToInteractive',\n",
              "                                                     [key], {});\n",
              "          if (!dataTable) return;\n",
              "\n",
              "          const docLinkHtml = 'Like what you see? Visit the ' +\n",
              "            '<a target=\"_blank\" href=https://colab.research.google.com/notebooks/data_table.ipynb>data table notebook</a>'\n",
              "            + ' to learn more about interactive tables.';\n",
              "          element.innerHTML = '';\n",
              "          dataTable['output_type'] = 'display_data';\n",
              "          await google.colab.output.renderOutput(dataTable, element);\n",
              "          const docLink = document.createElement('div');\n",
              "          docLink.innerHTML = docLinkHtml;\n",
              "          element.appendChild(docLink);\n",
              "        }\n",
              "      </script>\n",
              "    </div>\n",
              "  </div>\n",
              "  "
            ]
          },
          "metadata": {},
          "execution_count": 44
        }
      ]
    },
    {
      "cell_type": "markdown",
      "source": [
        "WATER QUALITY INDEX CALCULATION\n"
      ],
      "metadata": {
        "id": "YCLrhBWtmiLc"
      }
    },
    {
      "cell_type": "code",
      "source": [
        "data['npH']=data.ph.apply(lambda x:(100 if (8.5>=x>=7)\n",
        "                               else(80 if (8.6>=x>=8.5) or (6.9>=x>=6.8)\n",
        "                                   else(60 if (8.8>=x>=8.6) or (6.8>=x>=6.7)\n",
        "                                       else(40 if (9>=x>=8.8) or (6.7>=x>=6.5)\n",
        "                                           else 0)))))"
      ],
      "metadata": {
        "id": "omoK7fX4nRKr"
      },
      "execution_count": 45,
      "outputs": []
    },
    {
      "cell_type": "code",
      "source": [
        "data['ndo']=data.do.apply(lambda x:(100 if (x>=6)\n",
        "                               else(80 if (6>=x>=5.1)\n",
        "                                   else(60 if (5>=x>=4.1)\n",
        "                                       else(40 if (4>=x>=3)\n",
        "                                            else 0)))))"
      ],
      "metadata": {
        "id": "M7RIvc6NnXXK"
      },
      "execution_count": 46,
      "outputs": []
    },
    {
      "cell_type": "code",
      "source": [
        "data['nco']=data.tc.apply(lambda x:(100 if (5>=x>=0)\n",
        "                               else(80 if (50>=x>=5)\n",
        "                                   else(60 if (500>=x>=50)\n",
        "                                       else(40 if (10000>=x>=500)\n",
        "                                           else 0)))))"
      ],
      "metadata": {
        "id": "5GH7jjTHncmj"
      },
      "execution_count": 47,
      "outputs": []
    },
    {
      "cell_type": "code",
      "source": [
        "data['nbdo']=data.bod.apply(lambda x:(100 if (3>=x>=0)\n",
        "                               else(80 if (6>=x>=3)\n",
        "                                   else(60 if (80>=x>=6)\n",
        "                                       else(40 if (125>=x>=80)\n",
        "                                           else 0)))))"
      ],
      "metadata": {
        "id": "YL14n4Konh7r"
      },
      "execution_count": 48,
      "outputs": []
    },
    {
      "cell_type": "code",
      "source": [
        "data['nec']=data.co.apply(lambda x:(100 if (75>=x>=0)\n",
        "                               else(80 if (150>=x>=75)\n",
        "                                   else(60 if (225>=x>=150)\n",
        "                                       else(40 if (300>=x>=225)\n",
        "                                           else 0)))))"
      ],
      "metadata": {
        "id": "WM--eijDnnG5"
      },
      "execution_count": 49,
      "outputs": []
    },
    {
      "cell_type": "code",
      "source": [
        "data['wph']=data.npH*0.165\n",
        "data['wdo']=data.ndo*0.281\n",
        "data['wbdo']=data.nbdo*0.234\n",
        "data['wec']=data.nec*0.009\n",
        "data['wco']=data.nco*0.281\n",
        "data['wqi']=data.wph+data.wdo+data.wbdo+data.wec+data.wco\n",
        "data"
      ],
      "metadata": {
        "colab": {
          "base_uri": "https://localhost:8080/",
          "height": 867
        },
        "id": "RuBGQ-cmnvuC",
        "outputId": "2340967c-04b6-4db3-a3db-897a0614596e"
      },
      "execution_count": 50,
      "outputs": [
        {
          "output_type": "execute_result",
          "data": {
            "text/plain": [
              "     station                                           location        state  \\\n",
              "0       1393               DAMANGANGA AT D/S OF MADHUBAN, DAMAN  DAMAN & DIU   \n",
              "1       1399  ZUARI AT D/S OF PT. WHERE KUMBARJRIA CANAL JOI...          GOA   \n",
              "2       1475                                ZUARI AT PANCHAWADI          GOA   \n",
              "3       3181                        RIVER ZUARI AT BORIM BRIDGE          GOA   \n",
              "4       3182                       RIVER ZUARI AT MARCAIM JETTY          GOA   \n",
              "...      ...                                                ...          ...   \n",
              "1986    1330            TAMBIRAPARANI AT ARUMUGANERI, TAMILNADU          NAN   \n",
              "1987    1450  PALAR AT VANIYAMBADI WATER SUPPLY HEAD WORK, T...          NAN   \n",
              "1988    1403                 GUMTI AT U/S SOUTH TRIPURA,TRIPURA          NAN   \n",
              "1989    1404                GUMTI AT D/S SOUTH TRIPURA, TRIPURA          NAN   \n",
              "1990    1726   CHANDRAPUR, AGARTALA D/S OF HAORA RIVER, TRIPURA          NAN   \n",
              "\n",
              "      Temp   do     ph     co  bod NITRATENAN N+ NITRITENANN (mg/l)  \\\n",
              "0     30.6  6.7    7.5  203.0  NaN                              0.1   \n",
              "1     29.8  5.7    7.2  189.0  2.0                              0.2   \n",
              "2     29.5  6.3    6.9  179.0  1.7                              0.1   \n",
              "3     29.7  5.8    6.9   64.0  3.8                              0.5   \n",
              "4     29.5  5.8    7.3   83.0  1.9                              0.4   \n",
              "...    ...  ...    ...    ...  ...                              ...   \n",
              "1986   NaN  7.9  738.0    7.2  2.7                            0.518   \n",
              "1987  29.0  7.5  585.0    6.3  2.6                            0.155   \n",
              "1988  28.0  7.6   98.0    6.2  1.2                              NAN   \n",
              "1989  28.0  7.7   91.0    6.5  1.3                              NAN   \n",
              "1990  29.0  7.6  110.0    5.7  1.1                              NAN   \n",
              "\n",
              "     FECAL COLIFORM (MPN/100ml)  ...  ndo  nco  nbdo  nec   wph    wdo   wbdo  \\\n",
              "0                            11  ...  100   80     0   60  16.5  28.10   0.00   \n",
              "1                          4953  ...   80   40   100   60  16.5  22.48  23.40   \n",
              "2                          3243  ...  100   40   100   60  13.2  28.10  23.40   \n",
              "3                          5382  ...   80   40    80  100  13.2  22.48  18.72   \n",
              "4                          3428  ...   80   40   100   80  16.5  22.48  23.40   \n",
              "...                         ...  ...  ...  ...   ...  ...   ...    ...    ...   \n",
              "1986                      0.518  ...  100   60   100  100   0.0  28.10  23.40   \n",
              "1987                      0.155  ...  100   60   100  100   0.0  28.10  23.40   \n",
              "1988                        NAN  ...  100   40   100  100   0.0  28.10  23.40   \n",
              "1989                        NAN  ...  100   40   100  100   0.0  28.10  23.40   \n",
              "1990                        NAN  ...  100   40   100  100   0.0  28.10  23.40   \n",
              "\n",
              "       wec    wco    wqi  \n",
              "0     0.54  22.48  67.62  \n",
              "1     0.54  11.24  74.16  \n",
              "2     0.54  11.24  76.48  \n",
              "3     0.90  11.24  66.54  \n",
              "4     0.72  11.24  74.34  \n",
              "...    ...    ...    ...  \n",
              "1986  0.90  16.86  69.26  \n",
              "1987  0.90  16.86  69.26  \n",
              "1988  0.90  11.24  63.64  \n",
              "1989  0.90  11.24  63.64  \n",
              "1990  0.90  11.24  63.64  \n",
              "\n",
              "[1991 rows x 23 columns]"
            ],
            "text/html": [
              "\n",
              "  <div id=\"df-85671516-0605-43bf-8186-086afc4138f0\">\n",
              "    <div class=\"colab-df-container\">\n",
              "      <div>\n",
              "<style scoped>\n",
              "    .dataframe tbody tr th:only-of-type {\n",
              "        vertical-align: middle;\n",
              "    }\n",
              "\n",
              "    .dataframe tbody tr th {\n",
              "        vertical-align: top;\n",
              "    }\n",
              "\n",
              "    .dataframe thead th {\n",
              "        text-align: right;\n",
              "    }\n",
              "</style>\n",
              "<table border=\"1\" class=\"dataframe\">\n",
              "  <thead>\n",
              "    <tr style=\"text-align: right;\">\n",
              "      <th></th>\n",
              "      <th>station</th>\n",
              "      <th>location</th>\n",
              "      <th>state</th>\n",
              "      <th>Temp</th>\n",
              "      <th>do</th>\n",
              "      <th>ph</th>\n",
              "      <th>co</th>\n",
              "      <th>bod</th>\n",
              "      <th>NITRATENAN N+ NITRITENANN (mg/l)</th>\n",
              "      <th>FECAL COLIFORM (MPN/100ml)</th>\n",
              "      <th>...</th>\n",
              "      <th>ndo</th>\n",
              "      <th>nco</th>\n",
              "      <th>nbdo</th>\n",
              "      <th>nec</th>\n",
              "      <th>wph</th>\n",
              "      <th>wdo</th>\n",
              "      <th>wbdo</th>\n",
              "      <th>wec</th>\n",
              "      <th>wco</th>\n",
              "      <th>wqi</th>\n",
              "    </tr>\n",
              "  </thead>\n",
              "  <tbody>\n",
              "    <tr>\n",
              "      <th>0</th>\n",
              "      <td>1393</td>\n",
              "      <td>DAMANGANGA AT D/S OF MADHUBAN, DAMAN</td>\n",
              "      <td>DAMAN &amp; DIU</td>\n",
              "      <td>30.6</td>\n",
              "      <td>6.7</td>\n",
              "      <td>7.5</td>\n",
              "      <td>203.0</td>\n",
              "      <td>NaN</td>\n",
              "      <td>0.1</td>\n",
              "      <td>11</td>\n",
              "      <td>...</td>\n",
              "      <td>100</td>\n",
              "      <td>80</td>\n",
              "      <td>0</td>\n",
              "      <td>60</td>\n",
              "      <td>16.5</td>\n",
              "      <td>28.10</td>\n",
              "      <td>0.00</td>\n",
              "      <td>0.54</td>\n",
              "      <td>22.48</td>\n",
              "      <td>67.62</td>\n",
              "    </tr>\n",
              "    <tr>\n",
              "      <th>1</th>\n",
              "      <td>1399</td>\n",
              "      <td>ZUARI AT D/S OF PT. WHERE KUMBARJRIA CANAL JOI...</td>\n",
              "      <td>GOA</td>\n",
              "      <td>29.8</td>\n",
              "      <td>5.7</td>\n",
              "      <td>7.2</td>\n",
              "      <td>189.0</td>\n",
              "      <td>2.0</td>\n",
              "      <td>0.2</td>\n",
              "      <td>4953</td>\n",
              "      <td>...</td>\n",
              "      <td>80</td>\n",
              "      <td>40</td>\n",
              "      <td>100</td>\n",
              "      <td>60</td>\n",
              "      <td>16.5</td>\n",
              "      <td>22.48</td>\n",
              "      <td>23.40</td>\n",
              "      <td>0.54</td>\n",
              "      <td>11.24</td>\n",
              "      <td>74.16</td>\n",
              "    </tr>\n",
              "    <tr>\n",
              "      <th>2</th>\n",
              "      <td>1475</td>\n",
              "      <td>ZUARI AT PANCHAWADI</td>\n",
              "      <td>GOA</td>\n",
              "      <td>29.5</td>\n",
              "      <td>6.3</td>\n",
              "      <td>6.9</td>\n",
              "      <td>179.0</td>\n",
              "      <td>1.7</td>\n",
              "      <td>0.1</td>\n",
              "      <td>3243</td>\n",
              "      <td>...</td>\n",
              "      <td>100</td>\n",
              "      <td>40</td>\n",
              "      <td>100</td>\n",
              "      <td>60</td>\n",
              "      <td>13.2</td>\n",
              "      <td>28.10</td>\n",
              "      <td>23.40</td>\n",
              "      <td>0.54</td>\n",
              "      <td>11.24</td>\n",
              "      <td>76.48</td>\n",
              "    </tr>\n",
              "    <tr>\n",
              "      <th>3</th>\n",
              "      <td>3181</td>\n",
              "      <td>RIVER ZUARI AT BORIM BRIDGE</td>\n",
              "      <td>GOA</td>\n",
              "      <td>29.7</td>\n",
              "      <td>5.8</td>\n",
              "      <td>6.9</td>\n",
              "      <td>64.0</td>\n",
              "      <td>3.8</td>\n",
              "      <td>0.5</td>\n",
              "      <td>5382</td>\n",
              "      <td>...</td>\n",
              "      <td>80</td>\n",
              "      <td>40</td>\n",
              "      <td>80</td>\n",
              "      <td>100</td>\n",
              "      <td>13.2</td>\n",
              "      <td>22.48</td>\n",
              "      <td>18.72</td>\n",
              "      <td>0.90</td>\n",
              "      <td>11.24</td>\n",
              "      <td>66.54</td>\n",
              "    </tr>\n",
              "    <tr>\n",
              "      <th>4</th>\n",
              "      <td>3182</td>\n",
              "      <td>RIVER ZUARI AT MARCAIM JETTY</td>\n",
              "      <td>GOA</td>\n",
              "      <td>29.5</td>\n",
              "      <td>5.8</td>\n",
              "      <td>7.3</td>\n",
              "      <td>83.0</td>\n",
              "      <td>1.9</td>\n",
              "      <td>0.4</td>\n",
              "      <td>3428</td>\n",
              "      <td>...</td>\n",
              "      <td>80</td>\n",
              "      <td>40</td>\n",
              "      <td>100</td>\n",
              "      <td>80</td>\n",
              "      <td>16.5</td>\n",
              "      <td>22.48</td>\n",
              "      <td>23.40</td>\n",
              "      <td>0.72</td>\n",
              "      <td>11.24</td>\n",
              "      <td>74.34</td>\n",
              "    </tr>\n",
              "    <tr>\n",
              "      <th>...</th>\n",
              "      <td>...</td>\n",
              "      <td>...</td>\n",
              "      <td>...</td>\n",
              "      <td>...</td>\n",
              "      <td>...</td>\n",
              "      <td>...</td>\n",
              "      <td>...</td>\n",
              "      <td>...</td>\n",
              "      <td>...</td>\n",
              "      <td>...</td>\n",
              "      <td>...</td>\n",
              "      <td>...</td>\n",
              "      <td>...</td>\n",
              "      <td>...</td>\n",
              "      <td>...</td>\n",
              "      <td>...</td>\n",
              "      <td>...</td>\n",
              "      <td>...</td>\n",
              "      <td>...</td>\n",
              "      <td>...</td>\n",
              "      <td>...</td>\n",
              "    </tr>\n",
              "    <tr>\n",
              "      <th>1986</th>\n",
              "      <td>1330</td>\n",
              "      <td>TAMBIRAPARANI AT ARUMUGANERI, TAMILNADU</td>\n",
              "      <td>NAN</td>\n",
              "      <td>NaN</td>\n",
              "      <td>7.9</td>\n",
              "      <td>738.0</td>\n",
              "      <td>7.2</td>\n",
              "      <td>2.7</td>\n",
              "      <td>0.518</td>\n",
              "      <td>0.518</td>\n",
              "      <td>...</td>\n",
              "      <td>100</td>\n",
              "      <td>60</td>\n",
              "      <td>100</td>\n",
              "      <td>100</td>\n",
              "      <td>0.0</td>\n",
              "      <td>28.10</td>\n",
              "      <td>23.40</td>\n",
              "      <td>0.90</td>\n",
              "      <td>16.86</td>\n",
              "      <td>69.26</td>\n",
              "    </tr>\n",
              "    <tr>\n",
              "      <th>1987</th>\n",
              "      <td>1450</td>\n",
              "      <td>PALAR AT VANIYAMBADI WATER SUPPLY HEAD WORK, T...</td>\n",
              "      <td>NAN</td>\n",
              "      <td>29.0</td>\n",
              "      <td>7.5</td>\n",
              "      <td>585.0</td>\n",
              "      <td>6.3</td>\n",
              "      <td>2.6</td>\n",
              "      <td>0.155</td>\n",
              "      <td>0.155</td>\n",
              "      <td>...</td>\n",
              "      <td>100</td>\n",
              "      <td>60</td>\n",
              "      <td>100</td>\n",
              "      <td>100</td>\n",
              "      <td>0.0</td>\n",
              "      <td>28.10</td>\n",
              "      <td>23.40</td>\n",
              "      <td>0.90</td>\n",
              "      <td>16.86</td>\n",
              "      <td>69.26</td>\n",
              "    </tr>\n",
              "    <tr>\n",
              "      <th>1988</th>\n",
              "      <td>1403</td>\n",
              "      <td>GUMTI AT U/S SOUTH TRIPURA,TRIPURA</td>\n",
              "      <td>NAN</td>\n",
              "      <td>28.0</td>\n",
              "      <td>7.6</td>\n",
              "      <td>98.0</td>\n",
              "      <td>6.2</td>\n",
              "      <td>1.2</td>\n",
              "      <td>NAN</td>\n",
              "      <td>NAN</td>\n",
              "      <td>...</td>\n",
              "      <td>100</td>\n",
              "      <td>40</td>\n",
              "      <td>100</td>\n",
              "      <td>100</td>\n",
              "      <td>0.0</td>\n",
              "      <td>28.10</td>\n",
              "      <td>23.40</td>\n",
              "      <td>0.90</td>\n",
              "      <td>11.24</td>\n",
              "      <td>63.64</td>\n",
              "    </tr>\n",
              "    <tr>\n",
              "      <th>1989</th>\n",
              "      <td>1404</td>\n",
              "      <td>GUMTI AT D/S SOUTH TRIPURA, TRIPURA</td>\n",
              "      <td>NAN</td>\n",
              "      <td>28.0</td>\n",
              "      <td>7.7</td>\n",
              "      <td>91.0</td>\n",
              "      <td>6.5</td>\n",
              "      <td>1.3</td>\n",
              "      <td>NAN</td>\n",
              "      <td>NAN</td>\n",
              "      <td>...</td>\n",
              "      <td>100</td>\n",
              "      <td>40</td>\n",
              "      <td>100</td>\n",
              "      <td>100</td>\n",
              "      <td>0.0</td>\n",
              "      <td>28.10</td>\n",
              "      <td>23.40</td>\n",
              "      <td>0.90</td>\n",
              "      <td>11.24</td>\n",
              "      <td>63.64</td>\n",
              "    </tr>\n",
              "    <tr>\n",
              "      <th>1990</th>\n",
              "      <td>1726</td>\n",
              "      <td>CHANDRAPUR, AGARTALA D/S OF HAORA RIVER, TRIPURA</td>\n",
              "      <td>NAN</td>\n",
              "      <td>29.0</td>\n",
              "      <td>7.6</td>\n",
              "      <td>110.0</td>\n",
              "      <td>5.7</td>\n",
              "      <td>1.1</td>\n",
              "      <td>NAN</td>\n",
              "      <td>NAN</td>\n",
              "      <td>...</td>\n",
              "      <td>100</td>\n",
              "      <td>40</td>\n",
              "      <td>100</td>\n",
              "      <td>100</td>\n",
              "      <td>0.0</td>\n",
              "      <td>28.10</td>\n",
              "      <td>23.40</td>\n",
              "      <td>0.90</td>\n",
              "      <td>11.24</td>\n",
              "      <td>63.64</td>\n",
              "    </tr>\n",
              "  </tbody>\n",
              "</table>\n",
              "<p>1991 rows × 23 columns</p>\n",
              "</div>\n",
              "      <button class=\"colab-df-convert\" onclick=\"convertToInteractive('df-85671516-0605-43bf-8186-086afc4138f0')\"\n",
              "              title=\"Convert this dataframe to an interactive table.\"\n",
              "              style=\"display:none;\">\n",
              "        \n",
              "  <svg xmlns=\"http://www.w3.org/2000/svg\" height=\"24px\"viewBox=\"0 0 24 24\"\n",
              "       width=\"24px\">\n",
              "    <path d=\"M0 0h24v24H0V0z\" fill=\"none\"/>\n",
              "    <path d=\"M18.56 5.44l.94 2.06.94-2.06 2.06-.94-2.06-.94-.94-2.06-.94 2.06-2.06.94zm-11 1L8.5 8.5l.94-2.06 2.06-.94-2.06-.94L8.5 2.5l-.94 2.06-2.06.94zm10 10l.94 2.06.94-2.06 2.06-.94-2.06-.94-.94-2.06-.94 2.06-2.06.94z\"/><path d=\"M17.41 7.96l-1.37-1.37c-.4-.4-.92-.59-1.43-.59-.52 0-1.04.2-1.43.59L10.3 9.45l-7.72 7.72c-.78.78-.78 2.05 0 2.83L4 21.41c.39.39.9.59 1.41.59.51 0 1.02-.2 1.41-.59l7.78-7.78 2.81-2.81c.8-.78.8-2.07 0-2.86zM5.41 20L4 18.59l7.72-7.72 1.47 1.35L5.41 20z\"/>\n",
              "  </svg>\n",
              "      </button>\n",
              "      \n",
              "  <style>\n",
              "    .colab-df-container {\n",
              "      display:flex;\n",
              "      flex-wrap:wrap;\n",
              "      gap: 12px;\n",
              "    }\n",
              "\n",
              "    .colab-df-convert {\n",
              "      background-color: #E8F0FE;\n",
              "      border: none;\n",
              "      border-radius: 50%;\n",
              "      cursor: pointer;\n",
              "      display: none;\n",
              "      fill: #1967D2;\n",
              "      height: 32px;\n",
              "      padding: 0 0 0 0;\n",
              "      width: 32px;\n",
              "    }\n",
              "\n",
              "    .colab-df-convert:hover {\n",
              "      background-color: #E2EBFA;\n",
              "      box-shadow: 0px 1px 2px rgba(60, 64, 67, 0.3), 0px 1px 3px 1px rgba(60, 64, 67, 0.15);\n",
              "      fill: #174EA6;\n",
              "    }\n",
              "\n",
              "    [theme=dark] .colab-df-convert {\n",
              "      background-color: #3B4455;\n",
              "      fill: #D2E3FC;\n",
              "    }\n",
              "\n",
              "    [theme=dark] .colab-df-convert:hover {\n",
              "      background-color: #434B5C;\n",
              "      box-shadow: 0px 1px 3px 1px rgba(0, 0, 0, 0.15);\n",
              "      filter: drop-shadow(0px 1px 2px rgba(0, 0, 0, 0.3));\n",
              "      fill: #FFFFFF;\n",
              "    }\n",
              "  </style>\n",
              "\n",
              "      <script>\n",
              "        const buttonEl =\n",
              "          document.querySelector('#df-85671516-0605-43bf-8186-086afc4138f0 button.colab-df-convert');\n",
              "        buttonEl.style.display =\n",
              "          google.colab.kernel.accessAllowed ? 'block' : 'none';\n",
              "\n",
              "        async function convertToInteractive(key) {\n",
              "          const element = document.querySelector('#df-85671516-0605-43bf-8186-086afc4138f0');\n",
              "          const dataTable =\n",
              "            await google.colab.kernel.invokeFunction('convertToInteractive',\n",
              "                                                     [key], {});\n",
              "          if (!dataTable) return;\n",
              "\n",
              "          const docLinkHtml = 'Like what you see? Visit the ' +\n",
              "            '<a target=\"_blank\" href=https://colab.research.google.com/notebooks/data_table.ipynb>data table notebook</a>'\n",
              "            + ' to learn more about interactive tables.';\n",
              "          element.innerHTML = '';\n",
              "          dataTable['output_type'] = 'display_data';\n",
              "          await google.colab.output.renderOutput(dataTable, element);\n",
              "          const docLink = document.createElement('div');\n",
              "          docLink.innerHTML = docLinkHtml;\n",
              "          element.appendChild(docLink);\n",
              "        }\n",
              "      </script>\n",
              "    </div>\n",
              "  </div>\n",
              "  "
            ]
          },
          "metadata": {},
          "execution_count": 50
        }
      ]
    },
    {
      "cell_type": "code",
      "source": [
        "average=data.groupby('year')['wqi'].mean()\n",
        "average.head()"
      ],
      "metadata": {
        "colab": {
          "base_uri": "https://localhost:8080/"
        },
        "id": "QKQqFZqqoBIL",
        "outputId": "6a128d0f-22df-4017-e12b-d6666b95972c"
      },
      "execution_count": 51,
      "outputs": [
        {
          "output_type": "execute_result",
          "data": {
            "text/plain": [
              "year\n",
              "2003    62.960682\n",
              "2004    58.490000\n",
              "2005    69.664370\n",
              "2006    68.643238\n",
              "2007    70.262333\n",
              "Name: wqi, dtype: float64"
            ]
          },
          "metadata": {},
          "execution_count": 51
        }
      ]
    },
    {
      "cell_type": "markdown",
      "source": [
        "DATA VISUALIZATION"
      ],
      "metadata": {
        "id": "3KQcFMveo1y0"
      }
    },
    {
      "cell_type": "code",
      "source": [
        "for col in data.columns:\n",
        "    if data.dtypes[col]=='float64'or data.dtypes[col]=='int64':\n",
        "        sns.boxplot(x=data[col]).set(xlabel=col)\n",
        "        plt.show()"
      ],
      "metadata": {
        "colab": {
          "base_uri": "https://localhost:8080/",
          "height": 1000
        },
        "id": "hkmrFpu0o4wd",
        "outputId": "90de6d02-fdd5-42d5-e0b5-9fff3920dc02"
      },
      "execution_count": 52,
      "outputs": [
        {
          "output_type": "display_data",
          "data": {
            "text/plain": [
              "<Figure size 432x288 with 1 Axes>"
            ],
            "image/png": "[encoded data removed]"
          },
          "metadata": {
            "needs_background": "light"
          }
        },
        {
          "output_type": "display_data",
          "data": {
            "text/plain": [
              "<Figure size 432x288 with 1 Axes>"
            ],
            "image/png": "[encoded data removed]"
          },
          "metadata": {
            "needs_background": "light"
          }
        },
        {
          "output_type": "display_data",
          "data": {
            "text/plain": [
              "<Figure size 432x288 with 1 Axes>"
            ],
            "image/png": "[encoded data removed]"
          },
          "metadata": {
            "needs_background": "light"
          }
        },
        {
          "output_type": "display_data",
          "data": {
            "text/plain": [
              "<Figure size 432x288 with 1 Axes>"
            ],
            "image/png": "[encoded data removed]"
          },
          "metadata": {
            "needs_background": "light"
          }
        },
        {
          "output_type": "display_data",
          "data": {
            "text/plain": [
              "<Figure size 432x288 with 1 Axes>"
            ],
            "image/png": "[encoded data removed]"
          },
          "metadata": {
            "needs_background": "light"
          }
        },
        {
          "output_type": "display_data",
          "data": {
            "text/plain": [
              "<Figure size 432x288 with 1 Axes>"
            ],
            "image/png": "[encoded data removed]"
          },
          "metadata": {
            "needs_background": "light"
          }
        },
        {
          "output_type": "display_data",
          "data": {
            "text/plain": [
              "<Figure size 432x288 with 1 Axes>"
            ],
            "image/png": "[encoded data removed]"
          },
          "metadata": {
            "needs_background": "light"
          }
        },
        {
          "output_type": "display_data",
          "data": {
            "text/plain": [
              "<Figure size 432x288 with 1 Axes>"
            ],
            "image/png": "[encoded data removed]"
          },
          "metadata": {
            "needs_background": "light"
          }
        },
        {
          "output_type": "display_data",
          "data": {
            "text/plain": [
              "<Figure size 432x288 with 1 Axes>"
            ],
            "image/png": "[encoded data removed]"
          },
          "metadata": {
            "needs_background": "light"
          }
        },
        {
          "output_type": "display_data",
          "data": {
            "text/plain": [
              "<Figure size 432x288 with 1 Axes>"
            ],
            "image/png": "[encoded data removed]"
          },
          "metadata": {
            "needs_background": "light"
          }
        },
        {
          "output_type": "display_data",
          "data": {
            "text/plain": [
              "<Figure size 432x288 with 1 Axes>"
            ],
            "image/png": "[encoded data removed]"
          },
          "metadata": {
            "needs_background": "light"
          }
        },
        {
          "output_type": "display_data",
          "data": {
            "text/plain": [
              "<Figure size 432x288 with 1 Axes>"
            ],
            "image/png": "[encoded data removed]"
          },
          "metadata": {
            "needs_background": "light"
          }
        },
        {
          "output_type": "display_data",
          "data": {
            "text/plain": [
              "<Figure size 432x288 with 1 Axes>"
            ],
            "image/png": "[encoded data removed]"
          },
          "metadata": {
            "needs_background": "light"
          }
        },
        {
          "output_type": "display_data",
          "data": {
            "text/plain": [
              "<Figure size 432x288 with 1 Axes>"
            ],
            "image/png": "[encoded data removed]"
          },
          "metadata": {
            "needs_background": "light"
          }
        },
        {
          "output_type": "display_data",
          "data": {
            "text/plain": [
              "<Figure size 432x288 with 1 Axes>"
            ],
            "image/png": "[encoded data removed]"
          },
          "metadata": {
            "needs_background": "light"
          }
        },
        {
          "output_type": "display_data",
          "data": {
            "text/plain": [
              "<Figure size 432x288 with 1 Axes>"
            ],
            "image/png": "[encoded data removed]"
          },
          "metadata": {
            "needs_background": "light"
          }
        },
        {
          "output_type": "display_data",
          "data": {
            "text/plain": [
              "<Figure size 432x288 with 1 Axes>"
            ],
            "image/png": "[encoded data removed]"
          },
          "metadata": {
            "needs_background": "light"
          }
        },
        {
          "output_type": "display_data",
          "data": {
            "text/plain": [
              "<Figure size 432x288 with 1 Axes>"
            ],
            "image/png": "[encoded data removed]"
          },
          "metadata": {
            "needs_background": "light"
          }
        }
      ]
    },
    {
      "cell_type": "markdown",
      "source": [
        "BIVARIATE "
      ],
      "metadata": {
        "id": "TYhCLbN5pI4H"
      }
    },
    {
      "cell_type": "code",
      "source": [
        "for col in data.columns:\n",
        "    if data.dtypes[col]=='float64':\n",
        "        sns.distplot(x=data[col]).set(xlabel=col)\n",
        "        plt.show()"
      ],
      "metadata": {
        "colab": {
          "base_uri": "https://localhost:8080/",
          "height": 1000
        },
        "id": "WvyJpGXcpHsL",
        "outputId": "7f5372d9-f086-4ee4-a717-d1bcaaa8ed58"
      },
      "execution_count": 53,
      "outputs": [
        {
          "output_type": "stream",
          "name": "stderr",
          "text": [
            "/usr/local/lib/python3.7/dist-packages/seaborn/distributions.py:2619: FutureWarning: `distplot` is a deprecated function and will be removed in a future version. Please adapt your code to use either `displot` (a figure-level function with similar flexibility) or `histplot` (an axes-level function for histograms).\n",
            "  warnings.warn(msg, FutureWarning)\n"
          ]
        },
        {
          "output_type": "display_data",
          "data": {
            "text/plain": [
              "<Figure size 432x288 with 1 Axes>"
            ],
            "image/png": "[encoded data removed]"
          },
          "metadata": {
            "needs_background": "light"
          }
        },
        {
          "output_type": "stream",
          "name": "stderr",
          "text": [
            "/usr/local/lib/python3.7/dist-packages/seaborn/distributions.py:2619: FutureWarning: `distplot` is a deprecated function and will be removed in a future version. Please adapt your code to use either `displot` (a figure-level function with similar flexibility) or `histplot` (an axes-level function for histograms).\n",
            "  warnings.warn(msg, FutureWarning)\n"
          ]
        },
        {
          "output_type": "display_data",
          "data": {
            "text/plain": [
              "<Figure size 432x288 with 1 Axes>"
            ],
            "image/png": "[encoded data removed]"
          },
          "metadata": {
            "needs_background": "light"
          }
        },
        {
          "output_type": "stream",
          "name": "stderr",
          "text": [
            "/usr/local/lib/python3.7/dist-packages/seaborn/distributions.py:2619: FutureWarning: `distplot` is a deprecated function and will be removed in a future version. Please adapt your code to use either `displot` (a figure-level function with similar flexibility) or `histplot` (an axes-level function for histograms).\n",
            "  warnings.warn(msg, FutureWarning)\n"
          ]
        },
        {
          "output_type": "display_data",
          "data": {
            "text/plain": [
              "<Figure size 432x288 with 1 Axes>"
            ],
            "image/png": "[encoded data removed]"
          },
          "metadata": {
            "needs_background": "light"
          }
        },
        {
          "output_type": "stream",
          "name": "stderr",
          "text": [
            "/usr/local/lib/python3.7/dist-packages/seaborn/distributions.py:2619: FutureWarning: `distplot` is a deprecated function and will be removed in a future version. Please adapt your code to use either `displot` (a figure-level function with similar flexibility) or `histplot` (an axes-level function for histograms).\n",
            "  warnings.warn(msg, FutureWarning)\n"
          ]
        },
        {
          "output_type": "display_data",
          "data": {
            "text/plain": [
              "<Figure size 432x288 with 1 Axes>"
            ],
            "image/png": "[encoded data removed]"
          },
          "metadata": {
            "needs_background": "light"
          }
        },
        {
          "output_type": "stream",
          "name": "stderr",
          "text": [
            "/usr/local/lib/python3.7/dist-packages/seaborn/distributions.py:2619: FutureWarning: `distplot` is a deprecated function and will be removed in a future version. Please adapt your code to use either `displot` (a figure-level function with similar flexibility) or `histplot` (an axes-level function for histograms).\n",
            "  warnings.warn(msg, FutureWarning)\n"
          ]
        },
        {
          "output_type": "display_data",
          "data": {
            "text/plain": [
              "<Figure size 432x288 with 1 Axes>"
            ],
            "image/png": "[encoded data removed]"
          },
          "metadata": {
            "needs_background": "light"
          }
        },
        {
          "output_type": "stream",
          "name": "stderr",
          "text": [
            "/usr/local/lib/python3.7/dist-packages/seaborn/distributions.py:2619: FutureWarning: `distplot` is a deprecated function and will be removed in a future version. Please adapt your code to use either `displot` (a figure-level function with similar flexibility) or `histplot` (an axes-level function for histograms).\n",
            "  warnings.warn(msg, FutureWarning)\n"
          ]
        },
        {
          "output_type": "display_data",
          "data": {
            "text/plain": [
              "<Figure size 432x288 with 1 Axes>"
            ],
            "image/png": "[encoded data removed]"
          },
          "metadata": {
            "needs_background": "light"
          }
        },
        {
          "output_type": "stream",
          "name": "stderr",
          "text": [
            "/usr/local/lib/python3.7/dist-packages/seaborn/distributions.py:2619: FutureWarning: `distplot` is a deprecated function and will be removed in a future version. Please adapt your code to use either `displot` (a figure-level function with similar flexibility) or `histplot` (an axes-level function for histograms).\n",
            "  warnings.warn(msg, FutureWarning)\n"
          ]
        },
        {
          "output_type": "display_data",
          "data": {
            "text/plain": [
              "<Figure size 432x288 with 1 Axes>"
            ],
            "image/png": "[encoded data removed]"
          },
          "metadata": {
            "needs_background": "light"
          }
        },
        {
          "output_type": "stream",
          "name": "stderr",
          "text": [
            "/usr/local/lib/python3.7/dist-packages/seaborn/distributions.py:2619: FutureWarning: `distplot` is a deprecated function and will be removed in a future version. Please adapt your code to use either `displot` (a figure-level function with similar flexibility) or `histplot` (an axes-level function for histograms).\n",
            "  warnings.warn(msg, FutureWarning)\n"
          ]
        },
        {
          "output_type": "display_data",
          "data": {
            "text/plain": [
              "<Figure size 432x288 with 1 Axes>"
            ],
            "image/png": "[encoded data removed]"
          },
          "metadata": {
            "needs_background": "light"
          }
        },
        {
          "output_type": "stream",
          "name": "stderr",
          "text": [
            "/usr/local/lib/python3.7/dist-packages/seaborn/distributions.py:2619: FutureWarning: `distplot` is a deprecated function and will be removed in a future version. Please adapt your code to use either `displot` (a figure-level function with similar flexibility) or `histplot` (an axes-level function for histograms).\n",
            "  warnings.warn(msg, FutureWarning)\n"
          ]
        },
        {
          "output_type": "display_data",
          "data": {
            "text/plain": [
              "<Figure size 432x288 with 1 Axes>"
            ],
            "image/png": "[encoded data removed]"
          },
          "metadata": {
            "needs_background": "light"
          }
        },
        {
          "output_type": "stream",
          "name": "stderr",
          "text": [
            "/usr/local/lib/python3.7/dist-packages/seaborn/distributions.py:2619: FutureWarning: `distplot` is a deprecated function and will be removed in a future version. Please adapt your code to use either `displot` (a figure-level function with similar flexibility) or `histplot` (an axes-level function for histograms).\n",
            "  warnings.warn(msg, FutureWarning)\n"
          ]
        },
        {
          "output_type": "display_data",
          "data": {
            "text/plain": [
              "<Figure size 432x288 with 1 Axes>"
            ],
            "image/png": "[encoded data removed]"
          },
          "metadata": {
            "needs_background": "light"
          }
        },
        {
          "output_type": "stream",
          "name": "stderr",
          "text": [
            "/usr/local/lib/python3.7/dist-packages/seaborn/distributions.py:2619: FutureWarning: `distplot` is a deprecated function and will be removed in a future version. Please adapt your code to use either `displot` (a figure-level function with similar flexibility) or `histplot` (an axes-level function for histograms).\n",
            "  warnings.warn(msg, FutureWarning)\n"
          ]
        },
        {
          "output_type": "display_data",
          "data": {
            "text/plain": [
              "<Figure size 432x288 with 1 Axes>"
            ],
            "image/png": "[encoded data removed]"
          },
          "metadata": {
            "needs_background": "light"
          }
        },
        {
          "output_type": "stream",
          "name": "stderr",
          "text": [
            "/usr/local/lib/python3.7/dist-packages/seaborn/distributions.py:2619: FutureWarning: `distplot` is a deprecated function and will be removed in a future version. Please adapt your code to use either `displot` (a figure-level function with similar flexibility) or `histplot` (an axes-level function for histograms).\n",
            "  warnings.warn(msg, FutureWarning)\n"
          ]
        },
        {
          "output_type": "display_data",
          "data": {
            "text/plain": [
              "<Figure size 432x288 with 1 Axes>"
            ],
            "image/png": "[encoded data removed]"
          },
          "metadata": {
            "needs_background": "light"
          }
        }
      ]
    },
    {
      "cell_type": "markdown",
      "source": [
        "MULTIVARIATE"
      ],
      "metadata": {
        "id": "BcHF4DX_pQbu"
      }
    },
    {
      "cell_type": "code",
      "source": [
        "data.corr()"
      ],
      "metadata": {
        "colab": {
          "base_uri": "https://localhost:8080/",
          "height": 678
        },
        "id": "vbusv7lopTzg",
        "outputId": "3691f32a-cf9e-43e3-9e44-e9d8e0c724b7"
      },
      "execution_count": 54,
      "outputs": [
        {
          "output_type": "execute_result",
          "data": {
            "text/plain": [
              "          Temp        do        ph        co       bod        tc      year  \\\n",
              "Temp  1.000000  0.026269  0.017262  0.145811 -0.049795  0.009165 -0.010100   \n",
              "do    0.026269  1.000000  0.034825 -0.167928 -0.281415 -0.148194 -0.069588   \n",
              "ph    0.017262  0.034825  1.000000 -0.017917  0.041545 -0.002123 -0.128758   \n",
              "co    0.145811 -0.167928 -0.017917  1.000000  0.108166  0.003877  0.026944   \n",
              "bod  -0.049795 -0.281415  0.041545  0.108166  1.000000  0.190468 -0.058975   \n",
              "tc    0.009165 -0.148194 -0.002123  0.003877  0.190468  1.000000  0.037204   \n",
              "year -0.010100 -0.069588 -0.128758  0.026944 -0.058975  0.037204  1.000000   \n",
              "npH  -0.087397 -0.050493 -0.135050  0.115331  0.030374  0.021093  0.358773   \n",
              "ndo   0.065064  0.892362  0.019126 -0.132995 -0.334613 -0.138066 -0.040071   \n",
              "nco   0.048150  0.331985 -0.017215 -0.068699 -0.139793 -0.082496  0.082248   \n",
              "nbdo  0.129592  0.371934 -0.013244 -0.186612 -0.605805 -0.152604  0.037138   \n",
              "nec   0.071769  0.376354  0.067564 -0.364868 -0.180324 -0.046803 -0.030894   \n",
              "wph  -0.087397 -0.050493 -0.135050  0.115331  0.030374  0.021093  0.358773   \n",
              "wdo   0.065064  0.892362  0.019126 -0.132995 -0.334613 -0.138066 -0.040071   \n",
              "wbdo  0.129592  0.371934 -0.013244 -0.186612 -0.605805 -0.152604  0.037138   \n",
              "wec   0.071769  0.376354  0.067564 -0.364868 -0.180324 -0.046803 -0.030894   \n",
              "wco   0.048150  0.331985 -0.017215 -0.068699 -0.139793 -0.082496  0.082248   \n",
              "wqi   0.064282  0.673960 -0.053056 -0.120141 -0.390590 -0.141669  0.163226   \n",
              "\n",
              "           npH       ndo       nco      nbdo       nec       wph       wdo  \\\n",
              "Temp -0.087397  0.065064  0.048150  0.129592  0.071769 -0.087397  0.065064   \n",
              "do   -0.050493  0.892362  0.331985  0.371934  0.376354 -0.050493  0.892362   \n",
              "ph   -0.135050  0.019126 -0.017215 -0.013244  0.067564 -0.135050  0.019126   \n",
              "co    0.115331 -0.132995 -0.068699 -0.186612 -0.364868  0.115331 -0.132995   \n",
              "bod   0.030374 -0.334613 -0.139793 -0.605805 -0.180324  0.030374 -0.334613   \n",
              "tc    0.021093 -0.138066 -0.082496 -0.152604 -0.046803  0.021093 -0.138066   \n",
              "year  0.358773 -0.040071  0.082248  0.037138 -0.030894  0.358773 -0.040071   \n",
              "npH   1.000000 -0.011687 -0.061682 -0.111370 -0.287915  1.000000 -0.011687   \n",
              "ndo  -0.011687  1.000000  0.314105  0.443100  0.351455 -0.011687  1.000000   \n",
              "nco  -0.061682  0.314105  1.000000  0.384529  0.288459 -0.061682  0.314105   \n",
              "nbdo -0.111370  0.443100  0.384529  1.000000  0.411431 -0.111370  0.443100   \n",
              "nec  -0.287915  0.351455  0.288459  0.411431  1.000000 -0.287915  0.351455   \n",
              "wph   1.000000 -0.011687 -0.061682 -0.111370 -0.287915  1.000000 -0.011687   \n",
              "wdo  -0.011687  1.000000  0.314105  0.443100  0.351455 -0.011687  1.000000   \n",
              "wbdo -0.111370  0.443100  0.384529  1.000000  0.411431 -0.111370  0.443100   \n",
              "wec  -0.287915  0.351455  0.288459  0.411431  1.000000 -0.287915  0.351455   \n",
              "wco  -0.061682  0.314105  1.000000  0.384529  0.288459 -0.061682  0.314105   \n",
              "wqi   0.290403  0.744658  0.711245  0.675937  0.345328  0.290403  0.744658   \n",
              "\n",
              "          wbdo       wec       wco       wqi  \n",
              "Temp  0.129592  0.071769  0.048150  0.064282  \n",
              "do    0.371934  0.376354  0.331985  0.673960  \n",
              "ph   -0.013244  0.067564 -0.017215 -0.053056  \n",
              "co   -0.186612 -0.364868 -0.068699 -0.120141  \n",
              "bod  -0.605805 -0.180324 -0.139793 -0.390590  \n",
              "tc   -0.152604 -0.046803 -0.082496 -0.141669  \n",
              "year  0.037138 -0.030894  0.082248  0.163226  \n",
              "npH  -0.111370 -0.287915 -0.061682  0.290403  \n",
              "ndo   0.443100  0.351455  0.314105  0.744658  \n",
              "nco   0.384529  0.288459  1.000000  0.711245  \n",
              "nbdo  1.000000  0.411431  0.384529  0.675937  \n",
              "nec   0.411431  1.000000  0.288459  0.345328  \n",
              "wph  -0.111370 -0.287915 -0.061682  0.290403  \n",
              "wdo   0.443100  0.351455  0.314105  0.744658  \n",
              "wbdo  1.000000  0.411431  0.384529  0.675937  \n",
              "wec   0.411431  1.000000  0.288459  0.345328  \n",
              "wco   0.384529  0.288459  1.000000  0.711245  \n",
              "wqi   0.675937  0.345328  0.711245  1.000000  "
            ],
            "text/html": [
              "\n",
              "  <div id=\"df-484f5f8d-64ec-4a9e-9691-4f595af75f84\">\n",
              "    <div class=\"colab-df-container\">\n",
              "      <div>\n",
              "<style scoped>\n",
              "    .dataframe tbody tr th:only-of-type {\n",
              "        vertical-align: middle;\n",
              "    }\n",
              "\n",
              "    .dataframe tbody tr th {\n",
              "        vertical-align: top;\n",
              "    }\n",
              "\n",
              "    .dataframe thead th {\n",
              "        text-align: right;\n",
              "    }\n",
              "</style>\n",
              "<table border=\"1\" class=\"dataframe\">\n",
              "  <thead>\n",
              "    <tr style=\"text-align: right;\">\n",
              "      <th></th>\n",
              "      <th>Temp</th>\n",
              "      <th>do</th>\n",
              "      <th>ph</th>\n",
              "      <th>co</th>\n",
              "      <th>bod</th>\n",
              "      <th>tc</th>\n",
              "      <th>year</th>\n",
              "      <th>npH</th>\n",
              "      <th>ndo</th>\n",
              "      <th>nco</th>\n",
              "      <th>nbdo</th>\n",
              "      <th>nec</th>\n",
              "      <th>wph</th>\n",
              "      <th>wdo</th>\n",
              "      <th>wbdo</th>\n",
              "      <th>wec</th>\n",
              "      <th>wco</th>\n",
              "      <th>wqi</th>\n",
              "    </tr>\n",
              "  </thead>\n",
              "  <tbody>\n",
              "    <tr>\n",
              "      <th>Temp</th>\n",
              "      <td>1.000000</td>\n",
              "      <td>0.026269</td>\n",
              "      <td>0.017262</td>\n",
              "      <td>0.145811</td>\n",
              "      <td>-0.049795</td>\n",
              "      <td>0.009165</td>\n",
              "      <td>-0.010100</td>\n",
              "      <td>-0.087397</td>\n",
              "      <td>0.065064</td>\n",
              "      <td>0.048150</td>\n",
              "      <td>0.129592</td>\n",
              "      <td>0.071769</td>\n",
              "      <td>-0.087397</td>\n",
              "      <td>0.065064</td>\n",
              "      <td>0.129592</td>\n",
              "      <td>0.071769</td>\n",
              "      <td>0.048150</td>\n",
              "      <td>0.064282</td>\n",
              "    </tr>\n",
              "    <tr>\n",
              "      <th>do</th>\n",
              "      <td>0.026269</td>\n",
              "      <td>1.000000</td>\n",
              "      <td>0.034825</td>\n",
              "      <td>-0.167928</td>\n",
              "      <td>-0.281415</td>\n",
              "      <td>-0.148194</td>\n",
              "      <td>-0.069588</td>\n",
              "      <td>-0.050493</td>\n",
              "      <td>0.892362</td>\n",
              "      <td>0.331985</td>\n",
              "      <td>0.371934</td>\n",
              "      <td>0.376354</td>\n",
              "      <td>-0.050493</td>\n",
              "      <td>0.892362</td>\n",
              "      <td>0.371934</td>\n",
              "      <td>0.376354</td>\n",
              "      <td>0.331985</td>\n",
              "      <td>0.673960</td>\n",
              "    </tr>\n",
              "    <tr>\n",
              "      <th>ph</th>\n",
              "      <td>0.017262</td>\n",
              "      <td>0.034825</td>\n",
              "      <td>1.000000</td>\n",
              "      <td>-0.017917</td>\n",
              "      <td>0.041545</td>\n",
              "      <td>-0.002123</td>\n",
              "      <td>-0.128758</td>\n",
              "      <td>-0.135050</td>\n",
              "      <td>0.019126</td>\n",
              "      <td>-0.017215</td>\n",
              "      <td>-0.013244</td>\n",
              "      <td>0.067564</td>\n",
              "      <td>-0.135050</td>\n",
              "      <td>0.019126</td>\n",
              "      <td>-0.013244</td>\n",
              "      <td>0.067564</td>\n",
              "      <td>-0.017215</td>\n",
              "      <td>-0.053056</td>\n",
              "    </tr>\n",
              "    <tr>\n",
              "      <th>co</th>\n",
              "      <td>0.145811</td>\n",
              "      <td>-0.167928</td>\n",
              "      <td>-0.017917</td>\n",
              "      <td>1.000000</td>\n",
              "      <td>0.108166</td>\n",
              "      <td>0.003877</td>\n",
              "      <td>0.026944</td>\n",
              "      <td>0.115331</td>\n",
              "      <td>-0.132995</td>\n",
              "      <td>-0.068699</td>\n",
              "      <td>-0.186612</td>\n",
              "      <td>-0.364868</td>\n",
              "      <td>0.115331</td>\n",
              "      <td>-0.132995</td>\n",
              "      <td>-0.186612</td>\n",
              "      <td>-0.364868</td>\n",
              "      <td>-0.068699</td>\n",
              "      <td>-0.120141</td>\n",
              "    </tr>\n",
              "    <tr>\n",
              "      <th>bod</th>\n",
              "      <td>-0.049795</td>\n",
              "      <td>-0.281415</td>\n",
              "      <td>0.041545</td>\n",
              "      <td>0.108166</td>\n",
              "      <td>1.000000</td>\n",
              "      <td>0.190468</td>\n",
              "      <td>-0.058975</td>\n",
              "      <td>0.030374</td>\n",
              "      <td>-0.334613</td>\n",
              "      <td>-0.139793</td>\n",
              "      <td>-0.605805</td>\n",
              "      <td>-0.180324</td>\n",
              "      <td>0.030374</td>\n",
              "      <td>-0.334613</td>\n",
              "      <td>-0.605805</td>\n",
              "      <td>-0.180324</td>\n",
              "      <td>-0.139793</td>\n",
              "      <td>-0.390590</td>\n",
              "    </tr>\n",
              "    <tr>\n",
              "      <th>tc</th>\n",
              "      <td>0.009165</td>\n",
              "      <td>-0.148194</td>\n",
              "      <td>-0.002123</td>\n",
              "      <td>0.003877</td>\n",
              "      <td>0.190468</td>\n",
              "      <td>1.000000</td>\n",
              "      <td>0.037204</td>\n",
              "      <td>0.021093</td>\n",
              "      <td>-0.138066</td>\n",
              "      <td>-0.082496</td>\n",
              "      <td>-0.152604</td>\n",
              "      <td>-0.046803</td>\n",
              "      <td>0.021093</td>\n",
              "      <td>-0.138066</td>\n",
              "      <td>-0.152604</td>\n",
              "      <td>-0.046803</td>\n",
              "      <td>-0.082496</td>\n",
              "      <td>-0.141669</td>\n",
              "    </tr>\n",
              "    <tr>\n",
              "      <th>year</th>\n",
              "      <td>-0.010100</td>\n",
              "      <td>-0.069588</td>\n",
              "      <td>-0.128758</td>\n",
              "      <td>0.026944</td>\n",
              "      <td>-0.058975</td>\n",
              "      <td>0.037204</td>\n",
              "      <td>1.000000</td>\n",
              "      <td>0.358773</td>\n",
              "      <td>-0.040071</td>\n",
              "      <td>0.082248</td>\n",
              "      <td>0.037138</td>\n",
              "      <td>-0.030894</td>\n",
              "      <td>0.358773</td>\n",
              "      <td>-0.040071</td>\n",
              "      <td>0.037138</td>\n",
              "      <td>-0.030894</td>\n",
              "      <td>0.082248</td>\n",
              "      <td>0.163226</td>\n",
              "    </tr>\n",
              "    <tr>\n",
              "      <th>npH</th>\n",
              "      <td>-0.087397</td>\n",
              "      <td>-0.050493</td>\n",
              "      <td>-0.135050</td>\n",
              "      <td>0.115331</td>\n",
              "      <td>0.030374</td>\n",
              "      <td>0.021093</td>\n",
              "      <td>0.358773</td>\n",
              "      <td>1.000000</td>\n",
              "      <td>-0.011687</td>\n",
              "      <td>-0.061682</td>\n",
              "      <td>-0.111370</td>\n",
              "      <td>-0.287915</td>\n",
              "      <td>1.000000</td>\n",
              "      <td>-0.011687</td>\n",
              "      <td>-0.111370</td>\n",
              "      <td>-0.287915</td>\n",
              "      <td>-0.061682</td>\n",
              "      <td>0.290403</td>\n",
              "    </tr>\n",
              "    <tr>\n",
              "      <th>ndo</th>\n",
              "      <td>0.065064</td>\n",
              "      <td>0.892362</td>\n",
              "      <td>0.019126</td>\n",
              "      <td>-0.132995</td>\n",
              "      <td>-0.334613</td>\n",
              "      <td>-0.138066</td>\n",
              "      <td>-0.040071</td>\n",
              "      <td>-0.011687</td>\n",
              "      <td>1.000000</td>\n",
              "      <td>0.314105</td>\n",
              "      <td>0.443100</td>\n",
              "      <td>0.351455</td>\n",
              "      <td>-0.011687</td>\n",
              "      <td>1.000000</td>\n",
              "      <td>0.443100</td>\n",
              "      <td>0.351455</td>\n",
              "      <td>0.314105</td>\n",
              "      <td>0.744658</td>\n",
              "    </tr>\n",
              "    <tr>\n",
              "      <th>nco</th>\n",
              "      <td>0.048150</td>\n",
              "      <td>0.331985</td>\n",
              "      <td>-0.017215</td>\n",
              "      <td>-0.068699</td>\n",
              "      <td>-0.139793</td>\n",
              "      <td>-0.082496</td>\n",
              "      <td>0.082248</td>\n",
              "      <td>-0.061682</td>\n",
              "      <td>0.314105</td>\n",
              "      <td>1.000000</td>\n",
              "      <td>0.384529</td>\n",
              "      <td>0.288459</td>\n",
              "      <td>-0.061682</td>\n",
              "      <td>0.314105</td>\n",
              "      <td>0.384529</td>\n",
              "      <td>0.288459</td>\n",
              "      <td>1.000000</td>\n",
              "      <td>0.711245</td>\n",
              "    </tr>\n",
              "    <tr>\n",
              "      <th>nbdo</th>\n",
              "      <td>0.129592</td>\n",
              "      <td>0.371934</td>\n",
              "      <td>-0.013244</td>\n",
              "      <td>-0.186612</td>\n",
              "      <td>-0.605805</td>\n",
              "      <td>-0.152604</td>\n",
              "      <td>0.037138</td>\n",
              "      <td>-0.111370</td>\n",
              "      <td>0.443100</td>\n",
              "      <td>0.384529</td>\n",
              "      <td>1.000000</td>\n",
              "      <td>0.411431</td>\n",
              "      <td>-0.111370</td>\n",
              "      <td>0.443100</td>\n",
              "      <td>1.000000</td>\n",
              "      <td>0.411431</td>\n",
              "      <td>0.384529</td>\n",
              "      <td>0.675937</td>\n",
              "    </tr>\n",
              "    <tr>\n",
              "      <th>nec</th>\n",
              "      <td>0.071769</td>\n",
              "      <td>0.376354</td>\n",
              "      <td>0.067564</td>\n",
              "      <td>-0.364868</td>\n",
              "      <td>-0.180324</td>\n",
              "      <td>-0.046803</td>\n",
              "      <td>-0.030894</td>\n",
              "      <td>-0.287915</td>\n",
              "      <td>0.351455</td>\n",
              "      <td>0.288459</td>\n",
              "      <td>0.411431</td>\n",
              "      <td>1.000000</td>\n",
              "      <td>-0.287915</td>\n",
              "      <td>0.351455</td>\n",
              "      <td>0.411431</td>\n",
              "      <td>1.000000</td>\n",
              "      <td>0.288459</td>\n",
              "      <td>0.345328</td>\n",
              "    </tr>\n",
              "    <tr>\n",
              "      <th>wph</th>\n",
              "      <td>-0.087397</td>\n",
              "      <td>-0.050493</td>\n",
              "      <td>-0.135050</td>\n",
              "      <td>0.115331</td>\n",
              "      <td>0.030374</td>\n",
              "      <td>0.021093</td>\n",
              "      <td>0.358773</td>\n",
              "      <td>1.000000</td>\n",
              "      <td>-0.011687</td>\n",
              "      <td>-0.061682</td>\n",
              "      <td>-0.111370</td>\n",
              "      <td>-0.287915</td>\n",
              "      <td>1.000000</td>\n",
              "      <td>-0.011687</td>\n",
              "      <td>-0.111370</td>\n",
              "      <td>-0.287915</td>\n",
              "      <td>-0.061682</td>\n",
              "      <td>0.290403</td>\n",
              "    </tr>\n",
              "    <tr>\n",
              "      <th>wdo</th>\n",
              "      <td>0.065064</td>\n",
              "      <td>0.892362</td>\n",
              "      <td>0.019126</td>\n",
              "      <td>-0.132995</td>\n",
              "      <td>-0.334613</td>\n",
              "      <td>-0.138066</td>\n",
              "      <td>-0.040071</td>\n",
              "      <td>-0.011687</td>\n",
              "      <td>1.000000</td>\n",
              "      <td>0.314105</td>\n",
              "      <td>0.443100</td>\n",
              "      <td>0.351455</td>\n",
              "      <td>-0.011687</td>\n",
              "      <td>1.000000</td>\n",
              "      <td>0.443100</td>\n",
              "      <td>0.351455</td>\n",
              "      <td>0.314105</td>\n",
              "      <td>0.744658</td>\n",
              "    </tr>\n",
              "    <tr>\n",
              "      <th>wbdo</th>\n",
              "      <td>0.129592</td>\n",
              "      <td>0.371934</td>\n",
              "      <td>-0.013244</td>\n",
              "      <td>-0.186612</td>\n",
              "      <td>-0.605805</td>\n",
              "      <td>-0.152604</td>\n",
              "      <td>0.037138</td>\n",
              "      <td>-0.111370</td>\n",
              "      <td>0.443100</td>\n",
              "      <td>0.384529</td>\n",
              "      <td>1.000000</td>\n",
              "      <td>0.411431</td>\n",
              "      <td>-0.111370</td>\n",
              "      <td>0.443100</td>\n",
              "      <td>1.000000</td>\n",
              "      <td>0.411431</td>\n",
              "      <td>0.384529</td>\n",
              "      <td>0.675937</td>\n",
              "    </tr>\n",
              "    <tr>\n",
              "      <th>wec</th>\n",
              "      <td>0.071769</td>\n",
              "      <td>0.376354</td>\n",
              "      <td>0.067564</td>\n",
              "      <td>-0.364868</td>\n",
              "      <td>-0.180324</td>\n",
              "      <td>-0.046803</td>\n",
              "      <td>-0.030894</td>\n",
              "      <td>-0.287915</td>\n",
              "      <td>0.351455</td>\n",
              "      <td>0.288459</td>\n",
              "      <td>0.411431</td>\n",
              "      <td>1.000000</td>\n",
              "      <td>-0.287915</td>\n",
              "      <td>0.351455</td>\n",
              "      <td>0.411431</td>\n",
              "      <td>1.000000</td>\n",
              "      <td>0.288459</td>\n",
              "      <td>0.345328</td>\n",
              "    </tr>\n",
              "    <tr>\n",
              "      <th>wco</th>\n",
              "      <td>0.048150</td>\n",
              "      <td>0.331985</td>\n",
              "      <td>-0.017215</td>\n",
              "      <td>-0.068699</td>\n",
              "      <td>-0.139793</td>\n",
              "      <td>-0.082496</td>\n",
              "      <td>0.082248</td>\n",
              "      <td>-0.061682</td>\n",
              "      <td>0.314105</td>\n",
              "      <td>1.000000</td>\n",
              "      <td>0.384529</td>\n",
              "      <td>0.288459</td>\n",
              "      <td>-0.061682</td>\n",
              "      <td>0.314105</td>\n",
              "      <td>0.384529</td>\n",
              "      <td>0.288459</td>\n",
              "      <td>1.000000</td>\n",
              "      <td>0.711245</td>\n",
              "    </tr>\n",
              "    <tr>\n",
              "      <th>wqi</th>\n",
              "      <td>0.064282</td>\n",
              "      <td>0.673960</td>\n",
              "      <td>-0.053056</td>\n",
              "      <td>-0.120141</td>\n",
              "      <td>-0.390590</td>\n",
              "      <td>-0.141669</td>\n",
              "      <td>0.163226</td>\n",
              "      <td>0.290403</td>\n",
              "      <td>0.744658</td>\n",
              "      <td>0.711245</td>\n",
              "      <td>0.675937</td>\n",
              "      <td>0.345328</td>\n",
              "      <td>0.290403</td>\n",
              "      <td>0.744658</td>\n",
              "      <td>0.675937</td>\n",
              "      <td>0.345328</td>\n",
              "      <td>0.711245</td>\n",
              "      <td>1.000000</td>\n",
              "    </tr>\n",
              "  </tbody>\n",
              "</table>\n",
              "</div>\n",
              "      <button class=\"colab-df-convert\" onclick=\"convertToInteractive('df-484f5f8d-64ec-4a9e-9691-4f595af75f84')\"\n",
              "              title=\"Convert this dataframe to an interactive table.\"\n",
              "              style=\"display:none;\">\n",
              "        \n",
              "  <svg xmlns=\"http://www.w3.org/2000/svg\" height=\"24px\"viewBox=\"0 0 24 24\"\n",
              "       width=\"24px\">\n",
              "    <path d=\"M0 0h24v24H0V0z\" fill=\"none\"/>\n",
              "    <path d=\"M18.56 5.44l.94 2.06.94-2.06 2.06-.94-2.06-.94-.94-2.06-.94 2.06-2.06.94zm-11 1L8.5 8.5l.94-2.06 2.06-.94-2.06-.94L8.5 2.5l-.94 2.06-2.06.94zm10 10l.94 2.06.94-2.06 2.06-.94-2.06-.94-.94-2.06-.94 2.06-2.06.94z\"/><path d=\"M17.41 7.96l-1.37-1.37c-.4-.4-.92-.59-1.43-.59-.52 0-1.04.2-1.43.59L10.3 9.45l-7.72 7.72c-.78.78-.78 2.05 0 2.83L4 21.41c.39.39.9.59 1.41.59.51 0 1.02-.2 1.41-.59l7.78-7.78 2.81-2.81c.8-.78.8-2.07 0-2.86zM5.41 20L4 18.59l7.72-7.72 1.47 1.35L5.41 20z\"/>\n",
              "  </svg>\n",
              "      </button>\n",
              "      \n",
              "  <style>\n",
              "    .colab-df-container {\n",
              "      display:flex;\n",
              "      flex-wrap:wrap;\n",
              "      gap: 12px;\n",
              "    }\n",
              "\n",
              "    .colab-df-convert {\n",
              "      background-color: #E8F0FE;\n",
              "      border: none;\n",
              "      border-radius: 50%;\n",
              "      cursor: pointer;\n",
              "      display: none;\n",
              "      fill: #1967D2;\n",
              "      height: 32px;\n",
              "      padding: 0 0 0 0;\n",
              "      width: 32px;\n",
              "    }\n",
              "\n",
              "    .colab-df-convert:hover {\n",
              "      background-color: #E2EBFA;\n",
              "      box-shadow: 0px 1px 2px rgba(60, 64, 67, 0.3), 0px 1px 3px 1px rgba(60, 64, 67, 0.15);\n",
              "      fill: #174EA6;\n",
              "    }\n",
              "\n",
              "    [theme=dark] .colab-df-convert {\n",
              "      background-color: #3B4455;\n",
              "      fill: #D2E3FC;\n",
              "    }\n",
              "\n",
              "    [theme=dark] .colab-df-convert:hover {\n",
              "      background-color: #434B5C;\n",
              "      box-shadow: 0px 1px 3px 1px rgba(0, 0, 0, 0.15);\n",
              "      filter: drop-shadow(0px 1px 2px rgba(0, 0, 0, 0.3));\n",
              "      fill: #FFFFFF;\n",
              "    }\n",
              "  </style>\n",
              "\n",
              "      <script>\n",
              "        const buttonEl =\n",
              "          document.querySelector('#df-484f5f8d-64ec-4a9e-9691-4f595af75f84 button.colab-df-convert');\n",
              "        buttonEl.style.display =\n",
              "          google.colab.kernel.accessAllowed ? 'block' : 'none';\n",
              "\n",
              "        async function convertToInteractive(key) {\n",
              "          const element = document.querySelector('#df-484f5f8d-64ec-4a9e-9691-4f595af75f84');\n",
              "          const dataTable =\n",
              "            await google.colab.kernel.invokeFunction('convertToInteractive',\n",
              "                                                     [key], {});\n",
              "          if (!dataTable) return;\n",
              "\n",
              "          const docLinkHtml = 'Like what you see? Visit the ' +\n",
              "            '<a target=\"_blank\" href=https://colab.research.google.com/notebooks/data_table.ipynb>data table notebook</a>'\n",
              "            + ' to learn more about interactive tables.';\n",
              "          element.innerHTML = '';\n",
              "          dataTable['output_type'] = 'display_data';\n",
              "          await google.colab.output.renderOutput(dataTable, element);\n",
              "          const docLink = document.createElement('div');\n",
              "          docLink.innerHTML = docLinkHtml;\n",
              "          element.appendChild(docLink);\n",
              "        }\n",
              "      </script>\n",
              "    </div>\n",
              "  </div>\n",
              "  "
            ]
          },
          "metadata": {},
          "execution_count": 54
        }
      ]
    },
    {
      "cell_type": "markdown",
      "source": [
        "SPLITTING THE DATA"
      ],
      "metadata": {
        "id": "zaGE7Lt2phjM"
      }
    },
    {
      "cell_type": "code",
      "source": [
        "x=data.iloc[:,0:7].values\n",
        "y=data.iloc[:,7:].values\n",
        "x.shape\n"
      ],
      "metadata": {
        "colab": {
          "base_uri": "https://localhost:8080/"
        },
        "id": "q97oyl4XpmyM",
        "outputId": "9531c070-ada0-45dd-9285-1ebb7190bb50"
      },
      "execution_count": 56,
      "outputs": [
        {
          "output_type": "execute_result",
          "data": {
            "text/plain": [
              "(1991, 16)"
            ]
          },
          "metadata": {},
          "execution_count": 56
        }
      ]
    },
    {
      "cell_type": "code",
      "source": [
        "y.shape"
      ],
      "metadata": {
        "colab": {
          "base_uri": "https://localhost:8080/"
        },
        "id": "0eJjDWDip03w",
        "outputId": "c3d7a97f-54e6-4384-eb29-5fb054fc7137"
      },
      "execution_count": 57,
      "outputs": [
        {
          "output_type": "execute_result",
          "data": {
            "text/plain": [
              "(1991, 16)"
            ]
          },
          "metadata": {},
          "execution_count": 57
        }
      ]
    },
    {
      "cell_type": "code",
      "source": [
        "from sklearn.model_selection import train_test_split\n",
        "x_train,x_test,y_train,y_test=train_test_split(x,y,test_size=0.2,random_state=10)\n",
        "x_train.shape\n",
        "y_train.shape"
      ],
      "metadata": {
        "colab": {
          "base_uri": "https://localhost:8080/"
        },
        "id": "6dswM6XDp3CX",
        "outputId": "072f4a09-ca48-44cd-860e-044011cc6127"
      },
      "execution_count": 60,
      "outputs": [
        {
          "output_type": "execute_result",
          "data": {
            "text/plain": [
              "(1592, 16)"
            ]
          },
          "metadata": {},
          "execution_count": 60
        }
      ]
    },
    {
      "cell_type": "code",
      "source": [
        "x_test.shape\n"
      ],
      "metadata": {
        "colab": {
          "base_uri": "https://localhost:8080/"
        },
        "id": "zhMhgKUTqbe2",
        "outputId": "6cbaaf67-cd7d-4e7d-f4e4-9abbdd008ef2"
      },
      "execution_count": 62,
      "outputs": [
        {
          "output_type": "execute_result",
          "data": {
            "text/plain": [
              "(399, 7)"
            ]
          },
          "metadata": {},
          "execution_count": 62
        }
      ]
    },
    {
      "cell_type": "code",
      "source": [
        "y_test.shape"
      ],
      "metadata": {
        "colab": {
          "base_uri": "https://localhost:8080/"
        },
        "id": "il5d47lVrh8p",
        "outputId": "36a7068d-cca3-411a-f664-302c43c17541"
      },
      "execution_count": 63,
      "outputs": [
        {
          "output_type": "execute_result",
          "data": {
            "text/plain": [
              "(399, 16)"
            ]
          },
          "metadata": {},
          "execution_count": 63
        }
      ]
    }
  ]
}